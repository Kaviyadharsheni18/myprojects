





<!DOCTYPE html>
<html
  lang="en"
  
  data-color-mode="auto" data-light-theme="light" data-dark-theme="dark"
  data-a11y-animated-images="system" data-a11y-link-underlines="true"
  
  >

    <style>
:root {
  --fontStack-monospace: "Monaspace Neon", ui-monospace, SFMono-Regular, SF Mono, Menlo, Consolas, Liberation Mono, monospace !important;
}
</style>



  <head>
    <meta charset="utf-8">
  <link rel="dns-prefetch" href="https://github.githubassets.com">
  <link rel="dns-prefetch" href="https://avatars.githubusercontent.com">
  <link rel="dns-prefetch" href="https://github-cloud.s3.amazonaws.com">
  <link rel="dns-prefetch" href="https://user-images.githubusercontent.com/">
  <link rel="preconnect" href="https://github.githubassets.com" crossorigin>
  <link rel="preconnect" href="https://avatars.githubusercontent.com">

  


  <link crossorigin="anonymous" media="all" rel="stylesheet" href="https://github.githubassets.com/assets/light-d1334f2b22bf.css" /><link crossorigin="anonymous" media="all" rel="stylesheet" href="https://github.githubassets.com/assets/dark-f73a069fd33e.css" /><link data-color-theme="light_high_contrast" crossorigin="anonymous" media="all" rel="stylesheet" data-href="https://github.githubassets.com/assets/light_high_contrast-f695a361c6b2.css" /><link data-color-theme="light_colorblind" crossorigin="anonymous" media="all" rel="stylesheet" data-href="https://github.githubassets.com/assets/light_colorblind-367eb9a4565a.css" /><link data-color-theme="light_colorblind_high_contrast" crossorigin="anonymous" media="all" rel="stylesheet" data-href="https://github.githubassets.com/assets/light_colorblind_high_contrast-183adc0db479.css" /><link data-color-theme="light_tritanopia" crossorigin="anonymous" media="all" rel="stylesheet" data-href="https://github.githubassets.com/assets/light_tritanopia-2ddc677c041d.css" /><link data-color-theme="light_tritanopia_high_contrast" crossorigin="anonymous" media="all" rel="stylesheet" data-href="https://github.githubassets.com/assets/light_tritanopia_high_contrast-649962a5702a.css" /><link data-color-theme="dark_high_contrast" crossorigin="anonymous" media="all" rel="stylesheet" data-href="https://github.githubassets.com/assets/dark_high_contrast-3a0d87f72ad4.css" /><link data-color-theme="dark_colorblind" crossorigin="anonymous" media="all" rel="stylesheet" data-href="https://github.githubassets.com/assets/dark_colorblind-b17a8392e6c4.css" /><link data-color-theme="dark_colorblind_high_contrast" crossorigin="anonymous" media="all" rel="stylesheet" data-href="https://github.githubassets.com/assets/dark_colorblind_high_contrast-e9ff47cedc2b.css" /><link data-color-theme="dark_tritanopia" crossorigin="anonymous" media="all" rel="stylesheet" data-href="https://github.githubassets.com/assets/dark_tritanopia-a1cc7dba9f73.css" /><link data-color-theme="dark_tritanopia_high_contrast" crossorigin="anonymous" media="all" rel="stylesheet" data-href="https://github.githubassets.com/assets/dark_tritanopia_high_contrast-6c4dd39e2b0f.css" /><link data-color-theme="dark_dimmed" crossorigin="anonymous" media="all" rel="stylesheet" data-href="https://github.githubassets.com/assets/dark_dimmed-55459b36aa6d.css" /><link data-color-theme="dark_dimmed_high_contrast" crossorigin="anonymous" media="all" rel="stylesheet" data-href="https://github.githubassets.com/assets/dark_dimmed_high_contrast-9a0ef6e40ed3.css" />


    <link crossorigin="anonymous" media="all" rel="stylesheet" href="https://github.githubassets.com/assets/primer-primitives-dc7ca6859caf.css" />
    <link crossorigin="anonymous" media="all" rel="stylesheet" href="https://github.githubassets.com/assets/primer-03a65c451725.css" />
    <link crossorigin="anonymous" media="all" rel="stylesheet" href="https://github.githubassets.com/assets/global-d1aed5b4075c.css" />
    <link crossorigin="anonymous" media="all" rel="stylesheet" href="https://github.githubassets.com/assets/github-db7b386c190b.css" />
  <link crossorigin="anonymous" media="all" rel="stylesheet" href="https://github.githubassets.com/assets/repository-b58e401b73ae.css" />
<link crossorigin="anonymous" media="all" rel="stylesheet" href="https://github.githubassets.com/assets/code-4ea853641043.css" />

  


  <script type="application/json" id="client-env">{"locale":"en","featureFlags":["alternate_user_config_repo","api_insights_show_missing_data_banner","attestations_filtering","attestations_sorting","billingplatform_copilot_premium_sku","client_version_header","code_scanning_security_configuration_ternary_state","codespaces_prebuild_region_target_update","contact_requests_implicit_opt_in","contentful_lp_copilot_extensions","contentful_lp_flex_features","contentful_lp_footnotes","copilot_activity_report","copilot_chat_attach_images","copilot_chat_attach_multiple_images","copilot_chat_attachments","copilot_chat_disable_model_picker_while_streaming","copilot_chat_floating_sidebar_focus_trap","copilot_chat_group_notifications","copilot_chat_navigable_refs","copilot_chat_opening_thread_switch","copilot_chat_vision_in_claude","copilot_chat_vision_skip_thread_create","copilot_chat_wholearea_dd","copilot_custom_copilots_feature_preview","copilot_custom_copilots_images","copilot_dotcom_chat_file_upload","copilot_duplicate_thread","copilot_free_to_paid_telem","copilot_ftp_hyperspace_upgrade_prompt","copilot_ftp_settings_upgrade","copilot_ftp_upgrade_to_pro_from_models","copilot_ftp_your_copilot_settings","copilot_immersive_draft_issue_template_form_ui","copilot_immersive_structured_model_picker","copilot_issue_list_show_more","copilot_no_floating_button","copilot_premium_request_quotas","copilot_read_shared_conversation","copilot_share_active_subthread","copilot_spaces_input_menu_select","copilot_spark_allow_empty_commit","copilot_spark_single_user_iteration","copilot_spark_use_billing_headers","copilot_task_oriented_assistive_prompts","copilot_workbench_connection_reload_banner","copilot_workbench_iterate_panel","copilot_workbench_preview_analytics","copilot_workbench_refresh_on_wsod","copilot_workbench_vm_agent_attachments","custom_copilots_128k_window","custom_copilots_capi_mode","custom_copilots_file_uploads","direct_to_salesforce","dnd_no_touch_device_check","dotcom_chat_client_side_skills","failbot_report_error_react_apps_on_page","ghost_pilot_confidence_truncation_25","ghost_pilot_confidence_truncation_40","insert_before_patch","issue_fields_report_usage","issues_catch_non_json_graphql_response","issues_comment_load_user_settings","issues_label_search_url","issues_preserve_tokens_in_urls","issues_react_blur_item_picker_on_close","issues_react_bots_timeline_pagination","issues_react_create_milestone","issues_react_duplicate_issue","issues_react_include_bots_in_pickers","issues_react_optimistic_markdown","issues_react_prohibit_title_fallback","issues_react_remove_placeholders","issues_template_picker_redirect","kb_semantic_api_migration","lifecycle_label_name_updates","link_contact_sales_swp_marketo","marketing_pages_search_explore_provider","memex_mwl_filter_field_delimiter","memex_roadmap_drag_style","nonreporting_relay_graphql_status_codes","primer_react_segmented_control_tooltip","primer_react_select_panel_with_modern_action_list","prx_processing_updates_indicator","remove_child_patch","repository_suggester_elastic_search","sample_network_conn_type","scheduled_reminders_updated_limits","site_homepage_contentful","site_msbuild_hide_integrations","site_msbuild_launch","site_msbuild_webgl_hero","spark_commit_on_default_branch","spark_sync_repository_after_iteration","swp_enterprise_contact_form","use_paginated_org_picker_cost_center_form","use_paginated_repo_picker_cost_center_form","viewscreen_sandbox","workbench_default_sonnet4","workbench_store_readonly"],"login":"Kaviyadharsheni18","copilotApiUrl":"https://api.individual.githubcopilot.com"}</script>
<script crossorigin="anonymous" type="application/javascript" src="https://github.githubassets.com/assets/wp-runtime-1685eb918d8c.js" defer="defer"></script>
<script crossorigin="anonymous" type="application/javascript" src="https://github.githubassets.com/assets/vendors-node_modules_oddbird_popover-polyfill_dist_popover-fn_js-a8c266e5f126.js" defer="defer"></script>
<script crossorigin="anonymous" type="application/javascript" src="https://github.githubassets.com/assets/vendors-node_modules_github_mini-throttle_dist_index_js-node_modules_stacktrace-parser_dist_s-1d3d52-babac9434833.js" defer="defer"></script>
<script crossorigin="anonymous" type="application/javascript" src="https://github.githubassets.com/assets/ui_packages_failbot_failbot_ts-4eaa91ff7c9c.js" defer="defer"></script>
<script crossorigin="anonymous" type="application/javascript" src="https://github.githubassets.com/assets/environment-37836f8ad297.js" defer="defer"></script>
<script crossorigin="anonymous" type="application/javascript" src="https://github.githubassets.com/assets/vendors-node_modules_primer_behaviors_dist_esm_index_mjs-c44edfed7f0d.js" defer="defer"></script>
<script crossorigin="anonymous" type="application/javascript" src="https://github.githubassets.com/assets/vendors-node_modules_github_selector-observer_dist_index_esm_js-cdf2757bd188.js" defer="defer"></script>
<script crossorigin="anonymous" type="application/javascript" src="https://github.githubassets.com/assets/vendors-node_modules_github_relative-time-element_dist_index_js-5913bc24f35d.js" defer="defer"></script>
<script crossorigin="anonymous" type="application/javascript" src="https://github.githubassets.com/assets/vendors-node_modules_github_text-expander-element_dist_index_js-e50fb7a5fe8c.js" defer="defer"></script>
<script crossorigin="anonymous" type="application/javascript" src="https://github.githubassets.com/assets/vendors-node_modules_github_auto-complete-element_dist_index_js-node_modules_github_catalyst_-8e9f78-c1e2fb329866.js" defer="defer"></script>
<script crossorigin="anonymous" type="application/javascript" src="https://github.githubassets.com/assets/vendors-node_modules_github_filter-input-element_dist_index_js-node_modules_github_remote-inp-b5f1d7-514a92c925f0.js" defer="defer"></script>
<script crossorigin="anonymous" type="application/javascript" src="https://github.githubassets.com/assets/vendors-node_modules_github_markdown-toolbar-element_dist_index_js-6a8c7d9a08fe.js" defer="defer"></script>
<script crossorigin="anonymous" type="application/javascript" src="https://github.githubassets.com/assets/vendors-node_modules_github_file-attachment-element_dist_index_js-node_modules_primer_view-co-f03a40-c631b99b0f08.js" defer="defer"></script>
<script crossorigin="anonymous" type="application/javascript" src="https://github.githubassets.com/assets/github-elements-594e8106f187.js" defer="defer"></script>
<script crossorigin="anonymous" type="application/javascript" src="https://github.githubassets.com/assets/element-registry-529fad20b892.js" defer="defer"></script>
<script crossorigin="anonymous" type="application/javascript" src="https://github.githubassets.com/assets/vendors-node_modules_braintree_browser-detection_dist_browser-detection_js-node_modules_githu-bb80ec-34c4b68b1dd3.js" defer="defer"></script>
<script crossorigin="anonymous" type="application/javascript" src="https://github.githubassets.com/assets/vendors-node_modules_lit-html_lit-html_js-b93a87060d31.js" defer="defer"></script>
<script crossorigin="anonymous" type="application/javascript" src="https://github.githubassets.com/assets/vendors-node_modules_morphdom_dist_morphdom-esm_js-300e8e4e0414.js" defer="defer"></script>
<script crossorigin="anonymous" type="application/javascript" src="https://github.githubassets.com/assets/vendors-node_modules_github_turbo_dist_turbo_es2017-esm_js-595819d3686f.js" defer="defer"></script>
<script crossorigin="anonymous" type="application/javascript" src="https://github.githubassets.com/assets/vendors-node_modules_github_remote-form_dist_index_js-node_modules_delegated-events_dist_inde-893f9f-5f044d8dcee3.js" defer="defer"></script>
<script crossorigin="anonymous" type="application/javascript" src="https://github.githubassets.com/assets/vendors-node_modules_github_quote-selection_dist_index_js-node_modules_github_session-resume_-c39857-54c022ad5a68.js" defer="defer"></script>
<script crossorigin="anonymous" type="application/javascript" src="https://github.githubassets.com/assets/ui_packages_updatable-content_updatable-content_ts-7b14b8aa0beb.js" defer="defer"></script>
<script crossorigin="anonymous" type="application/javascript" src="https://github.githubassets.com/assets/app_assets_modules_github_behaviors_task-list_ts-app_assets_modules_github_sso_ts-ui_packages-900dde-f953ddf42948.js" defer="defer"></script>
<script crossorigin="anonymous" type="application/javascript" src="https://github.githubassets.com/assets/app_assets_modules_github_sticky-scroll-into-view_ts-e45aabc67d13.js" defer="defer"></script>
<script crossorigin="anonymous" type="application/javascript" src="https://github.githubassets.com/assets/app_assets_modules_github_behaviors_ajax-error_ts-app_assets_modules_github_behaviors_include-d0d0a6-a7da4270c5f4.js" defer="defer"></script>
<script crossorigin="anonymous" type="application/javascript" src="https://github.githubassets.com/assets/app_assets_modules_github_behaviors_commenting_edit_ts-app_assets_modules_github_behaviors_ht-83c235-567e0f340e27.js" defer="defer"></script>
<script crossorigin="anonymous" type="application/javascript" src="https://github.githubassets.com/assets/behaviors-161506cb2918.js" defer="defer"></script>
<script crossorigin="anonymous" type="application/javascript" src="https://github.githubassets.com/assets/vendors-node_modules_delegated-events_dist_index_js-node_modules_github_catalyst_lib_index_js-ea8eaa-0416579acb39.js" defer="defer"></script>
<script crossorigin="anonymous" type="application/javascript" src="https://github.githubassets.com/assets/notifications-global-753a553f1820.js" defer="defer"></script>
<script crossorigin="anonymous" type="application/javascript" src="https://github.githubassets.com/assets/vendors-node_modules_github_mini-throttle_dist_index_js-node_modules_github_catalyst_lib_inde-dbbea9-558c1f223d1d.js" defer="defer"></script>
<script crossorigin="anonymous" type="application/javascript" src="https://github.githubassets.com/assets/code-menu-1feff9e17b7b.js" defer="defer"></script>
  
  <script crossorigin="anonymous" type="application/javascript" src="https://github.githubassets.com/assets/primer-react-4622b3e58029.js" defer="defer"></script>
<script crossorigin="anonymous" type="application/javascript" src="https://github.githubassets.com/assets/react-core-c2c42df71553.js" defer="defer"></script>
<script crossorigin="anonymous" type="application/javascript" src="https://github.githubassets.com/assets/react-lib-8705026b409a.js" defer="defer"></script>
<script crossorigin="anonymous" type="application/javascript" src="https://github.githubassets.com/assets/octicons-react-8ed765fdb7a0.js" defer="defer"></script>
<script crossorigin="anonymous" type="application/javascript" src="https://github.githubassets.com/assets/vendors-node_modules_emotion_is-prop-valid_dist_emotion-is-prop-valid_esm_js-node_modules_emo-b1c483-f0fc35efa8f8.js" defer="defer"></script>
<script crossorigin="anonymous" type="application/javascript" src="https://github.githubassets.com/assets/vendors-node_modules_cookie_index_js-node_modules_primer_live-region-element_dist_esm_index_j-1ca8f6-89ab81577c38.js" defer="defer"></script>
<script crossorigin="anonymous" type="application/javascript" src="https://github.githubassets.com/assets/vendors-node_modules_dompurify_dist_purify_es_mjs-7457ebdd1a1f.js" defer="defer"></script>
<script crossorigin="anonymous" type="application/javascript" src="https://github.githubassets.com/assets/vendors-node_modules_lodash-es__Stack_js-node_modules_lodash-es__Uint8Array_js-node_modules_l-4faaa6-16c4e2c524de.js" defer="defer"></script>
<script crossorigin="anonymous" type="application/javascript" src="https://github.githubassets.com/assets/vendors-node_modules_lodash-es_isEqual_js-a0841ced23fc.js" defer="defer"></script>
<script crossorigin="anonymous" type="application/javascript" src="https://github.githubassets.com/assets/vendors-node_modules_tanstack_react-virtual_dist_esm_index_js-807aab04afeb.js" defer="defer"></script>
<script crossorigin="anonymous" type="application/javascript" src="https://github.githubassets.com/assets/vendors-node_modules_focus-visible_dist_focus-visible_js-node_modules_github_hydro-analytics--e21ffd-0b758af67e69.js" defer="defer"></script>
<script crossorigin="anonymous" type="application/javascript" src="https://github.githubassets.com/assets/vendors-node_modules_fzy_js_index_js-node_modules_react-reverse-portal_dist_web_index_js-node-452414-05865700b943.js" defer="defer"></script>
<script crossorigin="anonymous" type="application/javascript" src="https://github.githubassets.com/assets/ui_packages_paths_index_ts-bf609b99b24a.js" defer="defer"></script>
<script crossorigin="anonymous" type="application/javascript" src="https://github.githubassets.com/assets/ui_packages_document-metadata_document-metadata_ts-ui_packages_fetch-headers_fetch-headers_ts-57e0e0-bed68ec00644.js" defer="defer"></script>
<script crossorigin="anonymous" type="application/javascript" src="https://github.githubassets.com/assets/ui_packages_ref-selector_RefSelector_tsx-6bd266a4340b.js" defer="defer"></script>
<script crossorigin="anonymous" type="application/javascript" src="https://github.githubassets.com/assets/ui_packages_commit-attribution_index_ts-ui_packages_commit-checks-status_index_ts-ui_packages-762eaa-4bb9b612ea61.js" defer="defer"></script>
<script crossorigin="anonymous" type="application/javascript" src="https://github.githubassets.com/assets/ui_packages_use-analytics_use-analytics_ts-ui_packages_use-client-value_use-client-value_ts-u-8be754-144c1ca8ead3.js" defer="defer"></script>
<script crossorigin="anonymous" type="application/javascript" src="https://github.githubassets.com/assets/ui_packages_code-view-shared_hooks_use-canonical-object_ts-ui_packages_code-view-shared_hooks-9104f7-210e1a626c16.js" defer="defer"></script>
<script crossorigin="anonymous" type="application/javascript" src="https://github.githubassets.com/assets/ui_packages_app-uuid_app-uuid_ts-ui_packages_repos-file-tree-view_repos-file-tree-view_ts-72a4b5b8380b.js" defer="defer"></script>
<script crossorigin="anonymous" type="application/javascript" src="https://github.githubassets.com/assets/app_assets_modules_github_blob-anchor_ts-ui_packages_code-nav_code-nav_ts-ui_packages_filter--8253c1-5fde020dbad1.js" defer="defer"></script>
<script crossorigin="anonymous" type="application/javascript" src="https://github.githubassets.com/assets/react-code-view-a5b0067811d6.js" defer="defer"></script>
<link crossorigin="anonymous" media="all" rel="stylesheet" href="https://github.githubassets.com/assets/primer-react.47f1598729334a521d2a.module.css" />
<link crossorigin="anonymous" media="all" rel="stylesheet" href="https://github.githubassets.com/assets/react-code-view.833cfc1ade3ba9c7b2e4.module.css" />


  <title>myprojects/dpurbanpricing.ipynb at main · Kaviyadharsheni18/myprojects</title>



  <meta name="route-pattern" content="/:user_id/:repository/blob/*name(/*path)" data-turbo-transient>
  <meta name="route-controller" content="blob" data-turbo-transient>
  <meta name="route-action" content="show" data-turbo-transient>
  <meta name="fetch-nonce" content="v2:1d9dc46d-5136-2450-d1b8-bf32da9f285c">

    
  <meta name="current-catalog-service-hash" content="f3abb0cc802f3d7b95fc8762b94bdcb13bf39634c40c357301c4aa1d67a256fb">


  <meta name="request-id" content="CAAB:0A87:148032E:1A94879:687DD0D3" data-turbo-transient="true" /><meta name="html-safe-nonce" content="1858211d0d34815fa9460e8687699ff3e2dc0256009457d5833b24b9c95e5b70" data-turbo-transient="true" /><meta name="visitor-payload" content="eyJyZWZlcnJlciI6Imh0dHBzOi8vZ2l0aHViLmNvbS9LYXZpeWFkaGFyc2hlbmkxOC9teXByb2plY3RzIiwicmVxdWVzdF9pZCI6IkNBQUI6MEE4NzoxNDgwMzJFOjFBOTQ4Nzk6Njg3REQwRDMiLCJ2aXNpdG9yX2lkIjoiMzMyOTkxMDM2NDIwMjExNjkxNCIsInJlZ2lvbl9lZGdlIjoiY2VudHJhbGluZGlhIiwicmVnaW9uX3JlbmRlciI6ImlhZCJ9" data-turbo-transient="true" /><meta name="visitor-hmac" content="b5836964460fd7344f422fcf7a0ec252065e61a8d19e0233bacf84b28dc67e47" data-turbo-transient="true" />


    <meta name="hovercard-subject-tag" content="repository:968522345" data-turbo-transient>


  <meta name="github-keyboard-shortcuts" content="repository,source-code,file-tree,copilot" data-turbo-transient="true" />
  

  <meta name="selected-link" value="repo_source" data-turbo-transient>
  <link rel="assets" href="https://github.githubassets.com/">

    <meta name="google-site-verification" content="Apib7-x98H0j5cPqHWwSMm6dNU4GmODRoqxLiDzdx9I">

<meta name="octolytics-url" content="https://collector.github.com/github/collect" /><meta name="octolytics-actor-id" content="192519190" /><meta name="octolytics-actor-login" content="Kaviyadharsheni18" /><meta name="octolytics-actor-hash" content="f5056cccf39953c222881f2604c16549e61835465099d1daf21b3c4c7c92fcea" />

  <meta name="analytics-location" content="/&lt;user-name&gt;/&lt;repo-name&gt;/blob/show" data-turbo-transient="true" />

  




    <meta name="user-login" content="Kaviyadharsheni18">

  <link rel="sudo-modal" href="/sessions/sudo_modal">

    <meta name="viewport" content="width=device-width">

    

      <meta name="description" content="Contribute to Kaviyadharsheni18/myprojects development by creating an account on GitHub.">

      <link rel="search" type="application/opensearchdescription+xml" href="/opensearch.xml" title="GitHub">

    <link rel="fluid-icon" href="https://github.com/fluidicon.png" title="GitHub">
    <meta property="fb:app_id" content="1401488693436528">
    <meta name="apple-itunes-app" content="app-id=1477376905, app-argument=https://github.com/Kaviyadharsheni18/myprojects/blob/main/dpurbanpricing.ipynb" />

      <meta name="twitter:image" content="https://opengraph.githubassets.com/28f8362bc01ea50df5c1ed434e10658a9c7cf6a3bc365071b3485a9794941146/Kaviyadharsheni18/myprojects" /><meta name="twitter:site" content="@github" /><meta name="twitter:card" content="summary_large_image" /><meta name="twitter:title" content="myprojects/dpurbanpricing.ipynb at main · Kaviyadharsheni18/myprojects" /><meta name="twitter:description" content="Contribute to Kaviyadharsheni18/myprojects development by creating an account on GitHub." />
  <meta property="og:image" content="https://opengraph.githubassets.com/28f8362bc01ea50df5c1ed434e10658a9c7cf6a3bc365071b3485a9794941146/Kaviyadharsheni18/myprojects" /><meta property="og:image:alt" content="Contribute to Kaviyadharsheni18/myprojects development by creating an account on GitHub." /><meta property="og:image:width" content="1200" /><meta property="og:image:height" content="600" /><meta property="og:site_name" content="GitHub" /><meta property="og:type" content="object" /><meta property="og:title" content="myprojects/dpurbanpricing.ipynb at main · Kaviyadharsheni18/myprojects" /><meta property="og:url" content="https://github.com/Kaviyadharsheni18/myprojects/blob/main/dpurbanpricing.ipynb" /><meta property="og:description" content="Contribute to Kaviyadharsheni18/myprojects development by creating an account on GitHub." />
  


      <link rel="shared-web-socket" href="wss://alive.github.com/_sockets/u/192519190/ws?session=eyJ2IjoiVjMiLCJ1IjoxOTI1MTkxOTAsInMiOjE3MzI1MjcxODEsImMiOjEwMjY2MTQ0MjcsInQiOjE3NTMwNzU5MjR9--c9d3014b2a2b18bd610a9d6a7a9f5b466d1f840a9e9c0ac9fa9a09d134b0023d" data-refresh-url="/_alive" data-session-id="059b357bd7ad359d53006037b90b4ba1b4784015d849158dd405ef1bee45ea49">
      <link rel="shared-web-socket-src" href="/assets-cdn/worker/socket-worker-9b665c8109c8.js">


      <meta name="hostname" content="github.com">


      <meta name="keyboard-shortcuts-preference" content="all">
      <meta name="hovercards-preference" content="true">
      <meta name="announcement-preference-hovercard" content="true">

        <meta name="expected-hostname" content="github.com">


  <meta http-equiv="x-pjax-version" content="a10164239a746d51677dd7864bd8a936f1617b21c72f47e9d647f2c061013122" data-turbo-track="reload">
  <meta http-equiv="x-pjax-csp-version" content="352e51c42d5f5727a7c545752bf34d1f83f40219e7036c6959817149a51651bc" data-turbo-track="reload">
  <meta http-equiv="x-pjax-css-version" content="db5407b34ed7dd78a10c3ffb9090ce21da82a95b43668b04d1de30e3d8a51dde" data-turbo-track="reload">
  <meta http-equiv="x-pjax-js-version" content="94f5de206406773bbf4cb7d075bea8be0e6e953d36f462380a86b5c178c4c7ca" data-turbo-track="reload">

  <meta name="turbo-cache-control" content="no-preview" data-turbo-transient="">

      <meta name="turbo-cache-control" content="no-cache" data-turbo-transient>

    <meta data-hydrostats="publish">

  <meta name="go-import" content="github.com/Kaviyadharsheni18/myprojects git https://github.com/Kaviyadharsheni18/myprojects.git">

  <meta name="octolytics-dimension-user_id" content="192519190" /><meta name="octolytics-dimension-user_login" content="Kaviyadharsheni18" /><meta name="octolytics-dimension-repository_id" content="968522345" /><meta name="octolytics-dimension-repository_nwo" content="Kaviyadharsheni18/myprojects" /><meta name="octolytics-dimension-repository_public" content="true" /><meta name="octolytics-dimension-repository_is_fork" content="false" /><meta name="octolytics-dimension-repository_network_root_id" content="968522345" /><meta name="octolytics-dimension-repository_network_root_nwo" content="Kaviyadharsheni18/myprojects" />



    

    <meta name="turbo-body-classes" content="logged-in env-production page-responsive">


  <meta name="browser-stats-url" content="https://api.github.com/_private/browser/stats">

  <meta name="browser-errors-url" content="https://api.github.com/_private/browser/errors">

  <meta name="release" content="5e57f947b6a23b840f1c09707760473d1c65a6cf">
  <meta name="ui-target" content="full">

  <link rel="mask-icon" href="https://github.githubassets.com/assets/pinned-octocat-093da3e6fa40.svg" color="#000000">
  <link rel="alternate icon" class="js-site-favicon" type="image/png" href="https://github.githubassets.com/favicons/favicon.png">
  <link rel="icon" class="js-site-favicon" type="image/svg+xml" href="https://github.githubassets.com/favicons/favicon.svg" data-base-href="https://github.githubassets.com/favicons/favicon">

<meta name="theme-color" content="#1e2327">
<meta name="color-scheme" content="light dark" />


  <link rel="manifest" href="/manifest.json" crossOrigin="use-credentials">

  </head>

  <body class="logged-in env-production page-responsive" style="word-wrap: break-word;">
    <div data-turbo-body class="logged-in env-production page-responsive" style="word-wrap: break-word;">
      



    <div class="position-relative header-wrapper js-header-wrapper ">
      <a href="#start-of-content" data-skip-target-assigned="false" class="p-3 color-bg-accent-emphasis color-fg-on-emphasis show-on-focus js-skip-to-content">Skip to content</a>

      <span data-view-component="true" class="progress-pjax-loader Progress position-fixed width-full">
    <span style="width: 0%;" data-view-component="true" class="Progress-item progress-pjax-loader-bar left-0 top-0 color-bg-accent-emphasis"></span>
</span>      
      
      <script crossorigin="anonymous" type="application/javascript" src="https://github.githubassets.com/assets/ui_packages_ui-commands_ui-commands_ts-b755d908e0b1.js" defer="defer"></script>
<script crossorigin="anonymous" type="application/javascript" src="https://github.githubassets.com/assets/ui_packages_document-metadata_document-metadata_ts-ui_packages_hydro-analytics_hydro-analytic-f29230-07417997172c.js" defer="defer"></script>
<script crossorigin="anonymous" type="application/javascript" src="https://github.githubassets.com/assets/keyboard-shortcuts-dialog-cf9f9950f389.js" defer="defer"></script>
<link crossorigin="anonymous" media="all" rel="stylesheet" href="https://github.githubassets.com/assets/primer-react.47f1598729334a521d2a.module.css" />
<link crossorigin="anonymous" media="all" rel="stylesheet" href="https://github.githubassets.com/assets/keyboard-shortcuts-dialog.f8fba3bd67fe74f9227b.module.css" />

<react-partial
  partial-name="keyboard-shortcuts-dialog"
  data-ssr="false"
  data-attempted-ssr="false"
  data-react-profiling="false"
>
  
  <script type="application/json" data-target="react-partial.embeddedData">{"props":{"docsUrl":"https://docs.github.com/get-started/accessibility/keyboard-shortcuts"}}</script>
  <div data-target="react-partial.reactRoot"></div>
</react-partial>




      

          

              <header class="AppHeader" role="banner">
  <h2 class="sr-only">Navigation Menu</h2>


    

    <div class="AppHeader-globalBar pb-2 js-global-bar">
      <div class="AppHeader-globalBar-start responsive-context-region">
        <div class="">
            <deferred-side-panel data-url="/_side-panels/global">
  <include-fragment data-target="deferred-side-panel.fragment" data-nonce="v2:1d9dc46d-5136-2450-d1b8-bf32da9f285c" data-view-component="true">
  
      <button aria-label="Open global navigation menu" data-action="click:deferred-side-panel#loadPanel click:deferred-side-panel#panelOpened" data-show-dialog-id="dialog-cc54d588-4b91-4f0f-ae3d-94cdbce1db09" id="dialog-show-dialog-cc54d588-4b91-4f0f-ae3d-94cdbce1db09" type="button" data-view-component="true" class="Button Button--iconOnly Button--secondary Button--medium AppHeader-button p-0 color-fg-muted">  <svg aria-hidden="true" height="16" viewBox="0 0 16 16" version="1.1" width="16" data-view-component="true" class="octicon octicon-three-bars Button-visual">
    <path d="M1 2.75A.75.75 0 0 1 1.75 2h12.5a.75.75 0 0 1 0 1.5H1.75A.75.75 0 0 1 1 2.75Zm0 5A.75.75 0 0 1 1.75 7h12.5a.75.75 0 0 1 0 1.5H1.75A.75.75 0 0 1 1 7.75ZM1.75 12h12.5a.75.75 0 0 1 0 1.5H1.75a.75.75 0 0 1 0-1.5Z"></path>
</svg>
</button>

<dialog-helper>
  <dialog data-target="deferred-side-panel.panel" id="dialog-cc54d588-4b91-4f0f-ae3d-94cdbce1db09" aria-modal="true" aria-labelledby="dialog-cc54d588-4b91-4f0f-ae3d-94cdbce1db09-title" aria-describedby="dialog-cc54d588-4b91-4f0f-ae3d-94cdbce1db09-description" data-view-component="true" class="Overlay Overlay-whenNarrow Overlay--size-small-portrait Overlay--motion-scaleFade Overlay--placement-left SidePanel Overlay--disableScroll">
    <div styles="flex-direction: row;" data-view-component="true" class="Overlay-header">
  <div class="Overlay-headerContentWrap">
    <div class="Overlay-titleWrap">
      <h1 class="Overlay-title sr-only" id="dialog-cc54d588-4b91-4f0f-ae3d-94cdbce1db09-title">
        Global navigation
      </h1>
            <div data-view-component="true" class="d-flex">
      <div data-view-component="true" class="AppHeader-logo position-relative">
        <svg aria-hidden="true" height="24" viewBox="0 0 24 24" version="1.1" width="24" data-view-component="true" class="octicon octicon-mark-github">
    <path d="M12 1C5.923 1 1 5.923 1 12c0 4.867 3.149 8.979 7.521 10.436.55.096.756-.233.756-.522 0-.262-.013-1.128-.013-2.049-2.764.509-3.479-.674-3.699-1.292-.124-.317-.66-1.293-1.127-1.554-.385-.207-.936-.715-.014-.729.866-.014 1.485.797 1.691 1.128.99 1.663 2.571 1.196 3.204.907.096-.715.385-1.196.701-1.471-2.448-.275-5.005-1.224-5.005-5.432 0-1.196.426-2.186 1.128-2.956-.111-.275-.496-1.402.11-2.915 0 0 .921-.288 3.024 1.128a10.193 10.193 0 0 1 2.75-.371c.936 0 1.871.123 2.75.371 2.104-1.43 3.025-1.128 3.025-1.128.605 1.513.221 2.64.111 2.915.701.77 1.127 1.747 1.127 2.956 0 4.222-2.571 5.157-5.019 5.432.399.344.743 1.004.743 2.035 0 1.471-.014 2.654-.014 3.025 0 .289.206.632.756.522C19.851 20.979 23 16.854 23 12c0-6.077-4.922-11-11-11Z"></path>
</svg>
</div></div>
    </div>
    <div class="Overlay-actionWrap">
      <button data-close-dialog-id="dialog-cc54d588-4b91-4f0f-ae3d-94cdbce1db09" aria-label="Close" aria-label="Close" type="button" data-view-component="true" class="close-button Overlay-closeButton"><svg aria-hidden="true" height="16" viewBox="0 0 16 16" version="1.1" width="16" data-view-component="true" class="octicon octicon-x">
    <path d="M3.72 3.72a.75.75 0 0 1 1.06 0L8 6.94l3.22-3.22a.749.749 0 0 1 1.275.326.749.749 0 0 1-.215.734L9.06 8l3.22 3.22a.749.749 0 0 1-.326 1.275.749.749 0 0 1-.734-.215L8 9.06l-3.22 3.22a.751.751 0 0 1-1.042-.018.751.751 0 0 1-.018-1.042L6.94 8 3.72 4.78a.75.75 0 0 1 0-1.06Z"></path>
</svg></button>
    </div>
  </div>
  
</div>
      <scrollable-region data-labelled-by="dialog-cc54d588-4b91-4f0f-ae3d-94cdbce1db09-title">
        <div data-view-component="true" class="Overlay-body d-flex flex-column px-2">    <div data-view-component="true" class="d-flex flex-column mb-3">
        <nav aria-label="Site navigation" data-view-component="true" class="ActionList">
  
  <nav-list>
    <ul data-target="nav-list.topLevelList" data-view-component="true" class="ActionListWrap">
        
          
<li data-item-id="" data-targets="nav-list.items" data-view-component="true" class="ActionListItem">
    
    
    <a data-hotkey="g d" data-analytics-event="{&quot;category&quot;:&quot;Global navigation&quot;,&quot;action&quot;:&quot;HOME&quot;,&quot;label&quot;:null}" id="item-14cd9e64-3b25-4ae8-bad1-7cef65727b7e" href="/dashboard" data-view-component="true" class="ActionListContent ActionListContent--visual16">
        <span class="ActionListItem-visual ActionListItem-visual--leading">
          <svg aria-hidden="true" height="16" viewBox="0 0 16 16" version="1.1" width="16" data-view-component="true" class="octicon octicon-home">
    <path d="M6.906.664a1.749 1.749 0 0 1 2.187 0l5.25 4.2c.415.332.657.835.657 1.367v7.019A1.75 1.75 0 0 1 13.25 15h-3.5a.75.75 0 0 1-.75-.75V9H7v5.25a.75.75 0 0 1-.75.75h-3.5A1.75 1.75 0 0 1 1 13.25V6.23c0-.531.242-1.034.657-1.366l5.25-4.2Zm1.25 1.171a.25.25 0 0 0-.312 0l-5.25 4.2a.25.25 0 0 0-.094.196v7.019c0 .138.112.25.25.25H5.5V8.25a.75.75 0 0 1 .75-.75h3.5a.75.75 0 0 1 .75.75v5.25h2.75a.25.25 0 0 0 .25-.25V6.23a.25.25 0 0 0-.094-.195Z"></path>
</svg>
        </span>
      
        <span data-view-component="true" class="ActionListItem-label">
          Home
</span>      
</a>
  
</li>

        
          
<li data-item-id="" data-targets="nav-list.items" data-view-component="true" class="ActionListItem">
    
    
    <a data-hotkey="g i" data-analytics-event="{&quot;category&quot;:&quot;Global navigation&quot;,&quot;action&quot;:&quot;ISSUES&quot;,&quot;label&quot;:null}" id="item-eb62522c-e390-48ef-b3a2-fbe34b655e67" href="/issues" data-view-component="true" class="ActionListContent ActionListContent--visual16">
        <span class="ActionListItem-visual ActionListItem-visual--leading">
          <svg aria-hidden="true" height="16" viewBox="0 0 16 16" version="1.1" width="16" data-view-component="true" class="octicon octicon-issue-opened">
    <path d="M8 9.5a1.5 1.5 0 1 0 0-3 1.5 1.5 0 0 0 0 3Z"></path><path d="M8 0a8 8 0 1 1 0 16A8 8 0 0 1 8 0ZM1.5 8a6.5 6.5 0 1 0 13 0 6.5 6.5 0 0 0-13 0Z"></path>
</svg>
        </span>
      
        <span data-view-component="true" class="ActionListItem-label">
          Issues
</span>      
</a>
  
</li>

        
          
<li data-item-id="" data-targets="nav-list.items" data-view-component="true" class="ActionListItem">
    
    
    <a data-hotkey="g p" data-analytics-event="{&quot;category&quot;:&quot;Global navigation&quot;,&quot;action&quot;:&quot;PULL_REQUESTS&quot;,&quot;label&quot;:null}" id="item-9c5d395e-90a6-4813-87fe-747d9beda6e3" href="/pulls" data-view-component="true" class="ActionListContent ActionListContent--visual16">
        <span class="ActionListItem-visual ActionListItem-visual--leading">
          <svg aria-hidden="true" height="16" viewBox="0 0 16 16" version="1.1" width="16" data-view-component="true" class="octicon octicon-git-pull-request">
    <path d="M1.5 3.25a2.25 2.25 0 1 1 3 2.122v5.256a2.251 2.251 0 1 1-1.5 0V5.372A2.25 2.25 0 0 1 1.5 3.25Zm5.677-.177L9.573.677A.25.25 0 0 1 10 .854V2.5h1A2.5 2.5 0 0 1 13.5 5v5.628a2.251 2.251 0 1 1-1.5 0V5a1 1 0 0 0-1-1h-1v1.646a.25.25 0 0 1-.427.177L7.177 3.427a.25.25 0 0 1 0-.354ZM3.75 2.5a.75.75 0 1 0 0 1.5.75.75 0 0 0 0-1.5Zm0 9.5a.75.75 0 1 0 0 1.5.75.75 0 0 0 0-1.5Zm8.25.75a.75.75 0 1 0 1.5 0 .75.75 0 0 0-1.5 0Z"></path>
</svg>
        </span>
      
        <span data-view-component="true" class="ActionListItem-label">
          Pull requests
</span>      
</a>
  
</li>

        
          
<li data-item-id="" data-targets="nav-list.items" data-item-id="projects" data-view-component="true" class="ActionListItem">
    
    
    <a data-analytics-event="{&quot;category&quot;:&quot;Global navigation&quot;,&quot;action&quot;:&quot;PROJECTS&quot;,&quot;label&quot;:null}" id="item-92b30ebc-106f-4c08-ad3e-f98b10a2435e" href="/projects" data-view-component="true" class="ActionListContent ActionListContent--visual16">
        <span class="ActionListItem-visual ActionListItem-visual--leading">
          <svg aria-hidden="true" height="16" viewBox="0 0 16 16" version="1.1" width="16" data-view-component="true" class="octicon octicon-table">
    <path d="M0 1.75C0 .784.784 0 1.75 0h12.5C15.216 0 16 .784 16 1.75v12.5A1.75 1.75 0 0 1 14.25 16H1.75A1.75 1.75 0 0 1 0 14.25ZM6.5 6.5v8h7.75a.25.25 0 0 0 .25-.25V6.5Zm8-1.5V1.75a.25.25 0 0 0-.25-.25H6.5V5Zm-13 1.5v7.75c0 .138.112.25.25.25H5v-8ZM5 5V1.5H1.75a.25.25 0 0 0-.25.25V5Z"></path>
</svg>
        </span>
      
        <span data-view-component="true" class="ActionListItem-label">
          Projects
</span>      
</a>
  
</li>

        
          
<li data-item-id="" data-targets="nav-list.items" data-view-component="true" class="ActionListItem">
    
    
    <a data-analytics-event="{&quot;category&quot;:&quot;Global navigation&quot;,&quot;action&quot;:&quot;DISCUSSIONS&quot;,&quot;label&quot;:null}" id="item-018448ec-4048-4d76-abc1-8dfa083e4fdc" href="/discussions" data-view-component="true" class="ActionListContent ActionListContent--visual16">
        <span class="ActionListItem-visual ActionListItem-visual--leading">
          <svg aria-hidden="true" height="16" viewBox="0 0 16 16" version="1.1" width="16" data-view-component="true" class="octicon octicon-comment-discussion">
    <path d="M1.75 1h8.5c.966 0 1.75.784 1.75 1.75v5.5A1.75 1.75 0 0 1 10.25 10H7.061l-2.574 2.573A1.458 1.458 0 0 1 2 11.543V10h-.25A1.75 1.75 0 0 1 0 8.25v-5.5C0 1.784.784 1 1.75 1ZM1.5 2.75v5.5c0 .138.112.25.25.25h1a.75.75 0 0 1 .75.75v2.19l2.72-2.72a.749.749 0 0 1 .53-.22h3.5a.25.25 0 0 0 .25-.25v-5.5a.25.25 0 0 0-.25-.25h-8.5a.25.25 0 0 0-.25.25Zm13 2a.25.25 0 0 0-.25-.25h-.5a.75.75 0 0 1 0-1.5h.5c.966 0 1.75.784 1.75 1.75v5.5A1.75 1.75 0 0 1 14.25 12H14v1.543a1.458 1.458 0 0 1-2.487 1.03L9.22 12.28a.749.749 0 0 1 .326-1.275.749.749 0 0 1 .734.215l2.22 2.22v-2.19a.75.75 0 0 1 .75-.75h1a.25.25 0 0 0 .25-.25Z"></path>
</svg>
        </span>
      
        <span data-view-component="true" class="ActionListItem-label">
          Discussions
</span>      
</a>
  
</li>

        
          
<li data-item-id="" data-targets="nav-list.items" data-view-component="true" class="ActionListItem">
    
    
    <a data-analytics-event="{&quot;category&quot;:&quot;Global navigation&quot;,&quot;action&quot;:&quot;CODESPACES&quot;,&quot;label&quot;:null}" id="item-1833cf27-24fe-4cc8-80ea-ecd3c7da0c75" href="https://github.com/codespaces" data-view-component="true" class="ActionListContent ActionListContent--visual16">
        <span class="ActionListItem-visual ActionListItem-visual--leading">
          <svg aria-hidden="true" height="16" viewBox="0 0 16 16" version="1.1" width="16" data-view-component="true" class="octicon octicon-codespaces">
    <path d="M0 11.25c0-.966.784-1.75 1.75-1.75h12.5c.966 0 1.75.784 1.75 1.75v3A1.75 1.75 0 0 1 14.25 16H1.75A1.75 1.75 0 0 1 0 14.25Zm2-9.5C2 .784 2.784 0 3.75 0h8.5C13.216 0 14 .784 14 1.75v5a1.75 1.75 0 0 1-1.75 1.75h-8.5A1.75 1.75 0 0 1 2 6.75Zm1.75-.25a.25.25 0 0 0-.25.25v5c0 .138.112.25.25.25h8.5a.25.25 0 0 0 .25-.25v-5a.25.25 0 0 0-.25-.25Zm-2 9.5a.25.25 0 0 0-.25.25v3c0 .138.112.25.25.25h12.5a.25.25 0 0 0 .25-.25v-3a.25.25 0 0 0-.25-.25Z"></path><path d="M7 12.75a.75.75 0 0 1 .75-.75h4.5a.75.75 0 0 1 0 1.5h-4.5a.75.75 0 0 1-.75-.75Zm-4 0a.75.75 0 0 1 .75-.75h.5a.75.75 0 0 1 0 1.5h-.5a.75.75 0 0 1-.75-.75Z"></path>
</svg>
        </span>
      
        <span data-view-component="true" class="ActionListItem-label">
          Codespaces
</span>      
</a>
  
</li>

        
          <li role="presentation" aria-hidden="true" data-view-component="true" class="ActionList-sectionDivider hide-whenRegular"></li>
        
          
<li data-item-id="" data-targets="nav-list.items" data-view-component="true" class="ActionListItem">
    
    
    <a data-analytics-event="{&quot;category&quot;:&quot;Global navigation&quot;,&quot;action&quot;:&quot;COPILOT&quot;,&quot;label&quot;:null}" id="item-64570739-9f3e-46e3-afcc-a9b428d51bc5" href="/copilot" data-view-component="true" class="ActionListContent ActionListContent--visual16">
        <span class="ActionListItem-visual ActionListItem-visual--leading">
          <svg aria-hidden="true" height="16" viewBox="0 0 16 16" version="1.1" width="16" data-view-component="true" class="octicon octicon-copilot">
    <path d="M7.998 15.035c-4.562 0-7.873-2.914-7.998-3.749V9.338c.085-.628.677-1.686 1.588-2.065.013-.07.024-.143.036-.218.029-.183.06-.384.126-.612-.201-.508-.254-1.084-.254-1.656 0-.87.128-1.769.693-2.484.579-.733 1.494-1.124 2.724-1.261 1.206-.134 2.262.034 2.944.765.05.053.096.108.139.165.044-.057.094-.112.143-.165.682-.731 1.738-.899 2.944-.765 1.23.137 2.145.528 2.724 1.261.566.715.693 1.614.693 2.484 0 .572-.053 1.148-.254 1.656.066.228.098.429.126.612.012.076.024.148.037.218.924.385 1.522 1.471 1.591 2.095v1.872c0 .766-3.351 3.795-8.002 3.795Zm0-1.485c2.28 0 4.584-1.11 5.002-1.433V7.862l-.023-.116c-.49.21-1.075.291-1.727.291-1.146 0-2.059-.327-2.71-.991A3.222 3.222 0 0 1 8 6.303a3.24 3.24 0 0 1-.544.743c-.65.664-1.563.991-2.71.991-.652 0-1.236-.081-1.727-.291l-.023.116v4.255c.419.323 2.722 1.433 5.002 1.433ZM6.762 2.83c-.193-.206-.637-.413-1.682-.297-1.019.113-1.479.404-1.713.7-.247.312-.369.789-.369 1.554 0 .793.129 1.171.308 1.371.162.181.519.379 1.442.379.853 0 1.339-.235 1.638-.54.315-.322.527-.827.617-1.553.117-.935-.037-1.395-.241-1.614Zm4.155-.297c-1.044-.116-1.488.091-1.681.297-.204.219-.359.679-.242 1.614.091.726.303 1.231.618 1.553.299.305.784.54 1.638.54.922 0 1.28-.198 1.442-.379.179-.2.308-.578.308-1.371 0-.765-.123-1.242-.37-1.554-.233-.296-.693-.587-1.713-.7Z"></path><path d="M6.25 9.037a.75.75 0 0 1 .75.75v1.501a.75.75 0 0 1-1.5 0V9.787a.75.75 0 0 1 .75-.75Zm4.25.75v1.501a.75.75 0 0 1-1.5 0V9.787a.75.75 0 0 1 1.5 0Z"></path>
</svg>
        </span>
      
        <span data-view-component="true" class="ActionListItem-label">
          Copilot
</span>      
</a>
  
</li>

        
          
<li data-item-id="" data-targets="nav-list.items" data-view-component="true" class="ActionListItem hide-whenRegular">
    
    
    <a id="item-7c10d328-3638-4463-a8dd-af11ef6b0f4e" href="/copilot/spaces" data-view-component="true" class="ActionListContent ActionListContent--visual16">
        <span class="ActionListItem-visual ActionListItem-visual--leading">
          <svg width="16" height="16" data-view-component="true">              <svg
                width=16
                height=16
                fill="none"
                viewBox="0 0 16 16"
                aria-hidden="true"
                xmlns="http://www.w3.org/2000/svg"
              >
                <path
                  fillRule="evenodd"
                  clipRule="evenodd"
                  d="M11.9853 4.76795c.2467 1.23107.1819 2.55631-.3218 3.71134 1.0897-1.00527 1.7464-2.46826 1.7464-3.86921 0-.41421.3357-.75.75-.75.4142 0 .75.33579.75.75 0 2.80515-2.0553 5.92172-5.26314 6.53282.12999.0339.26315.0635.39904.0885 1.3486.2485 2.7916.0174 3.7282-.5446.3552-.2131.8159-.0979 1.029.2573.2131.3552.0979.8159-.2573 1.029-1.3033.782-3.1303 1.0359-4.77168.7335-1.47895-.2726-2.95185-1.0297-3.73462-2.4328.03609.3407.0998.6912.19117 1.0445.39625 1.5319 1.23152 2.7976 2.12066 3.2689.36598.194.5054.6479.31141 1.0139-.19399.366-.64793.5054-1.01391.3114-1.41889-.7521-2.42362-2.4914-2.87037-4.2186-.37219-1.439-.41354-3.09054.18406-4.40236-.18676.13263-.36743.27694-.54001.43237-1.03593.93306-1.73142 2.22122-1.73142 3.69879 0 .4142-.33579.75-.75.75-.41422 0-.75-.3358-.75-.75 0-1.97509.934-3.64826 2.22755-4.81334.88055-.7931 1.9505-1.37217 3.05387-1.65822-.11043-.0376-.22261-.07252-.33631-.10464-1.50098-.42402-2.98649-.28172-3.84609.36302-.33136.24853-.80147.18139-1.05-.14998-.24854-.33136-.1814-.80146.14997-1.05 1.38041-1.03537 3.4149-1.0978 5.1539-.60654 1.67421.47295 3.33259 1.53108 4.06402 3.11319l.0038.00674c.035-.47081.0022-.96424-.0972-1.46029-.2603-1.29954-.95701-2.50156-1.90466-3.21238-.33135-.24854-.39848-.71865-.14994-1.050006.24855-.331356.71865-.398487 1.05001-.14994C10.8023 1.6197 11.6657 3.17263 11.9853 4.76795ZM7.99998 6.0001c-1.10457 0-2 .89543-2 2s.89543 2 2 2 2-.89543 2-2-.89543-2-2-2Z"
                  fill="currentColor"
                />
              </svg>
</svg>
        </span>
      
        <span data-view-component="true" class="ActionListItem-label">
          Spaces
</span>      
</a>
  
</li>

        
          
<li data-item-id="" data-targets="nav-list.items" data-view-component="true" class="ActionListItem ActionListItem--hasSubItem hide-whenRegular">
    
    
    <button id="item-b357b0ba-7d68-4caf-96a4-c991d12fc267" type="button" aria-expanded="false" data-action="
            click:nav-list#handleItemWithSubItemClick
            keydown:nav-list#handleItemWithSubItemKeydown
          " data-view-component="true" class="ActionListContent ActionListContent--visual16">
        <span class="ActionListItem-visual ActionListItem-visual--leading">
          <svg aria-hidden="true" height="16" viewBox="0 0 16 16" version="1.1" width="16" data-view-component="true" class="octicon octicon-download">
    <path d="M2.75 14A1.75 1.75 0 0 1 1 12.25v-2.5a.75.75 0 0 1 1.5 0v2.5c0 .138.112.25.25.25h10.5a.25.25 0 0 0 .25-.25v-2.5a.75.75 0 0 1 1.5 0v2.5A1.75 1.75 0 0 1 13.25 14Z"></path><path d="M7.25 7.689V2a.75.75 0 0 1 1.5 0v5.689l1.97-1.969a.749.749 0 1 1 1.06 1.06l-3.25 3.25a.749.749 0 0 1-1.06 0L4.22 6.78a.749.749 0 1 1 1.06-1.06l1.97 1.969Z"></path>
</svg>
        </span>
      
        <span data-view-component="true" class="ActionListItem-label">
          Download Copilot
</span>      
        <span class="ActionListItem-visual ActionListItem-action--trailing">
          <svg aria-hidden="true" height="16" viewBox="0 0 16 16" version="1.1" width="16" data-view-component="true" class="octicon octicon-chevron-down ActionListItem-collapseIcon">
    <path d="M12.78 5.22a.749.749 0 0 1 0 1.06l-4.25 4.25a.749.749 0 0 1-1.06 0L3.22 6.28a.749.749 0 1 1 1.06-1.06L8 8.939l3.72-3.719a.749.749 0 0 1 1.06 0Z"></path>
</svg>
        </span>
</button>
        <ul role="list" data-action="keydown:nav-list#handleItemWithSubItemKeydown" aria-labelledby="item-b357b0ba-7d68-4caf-96a4-c991d12fc267" data-view-component="true" class="ActionList ActionList--subGroup">
          
<li data-item-id="" data-targets="nav-list.items" data-view-component="true" class="ActionListItem--subItem ActionListItem">
    
    
    <a id="item-cf970e3e-2e10-4504-9580-9fcc6133e40e" href="https://marketplace.visualstudio.com/items?itemName=GitHub.copilot" data-view-component="true" class="ActionListContent">
      
        <span data-view-component="true" class="ActionListItem-label">
          Visual Studio Code
</span>      
</a>
  
</li>

          
<li data-item-id="" data-targets="nav-list.items" data-view-component="true" class="ActionListItem--subItem ActionListItem">
    
    
    <a id="item-be87197d-252a-4e31-a3f6-c88db191aa2a" href="https://visualstudio.microsoft.com/github-copilot/" data-view-component="true" class="ActionListContent">
      
        <span data-view-component="true" class="ActionListItem-label">
          Visual Studio
</span>      
</a>
  
</li>

          
<li data-item-id="" data-targets="nav-list.items" data-view-component="true" class="ActionListItem--subItem ActionListItem">
    
    
    <a id="item-736082e0-6b82-4638-b030-8aaebc6a2f2e" href="https://github.com/github/CopilotForXcode" data-view-component="true" class="ActionListContent">
      
        <span data-view-component="true" class="ActionListItem-label">
          Xcode
</span>      
</a>
  
</li>

          
<li data-item-id="" data-targets="nav-list.items" data-view-component="true" class="ActionListItem--subItem ActionListItem">
    
    
    <a id="item-695dcb60-28d8-49bb-b77e-f72e474188bf" href="https://plugins.jetbrains.com/plugin/17718-github-copilot" data-view-component="true" class="ActionListContent">
      
        <span data-view-component="true" class="ActionListItem-label">
          JetBrains
</span>      
</a>
  
</li>

          
<li data-item-id="" data-targets="nav-list.items" data-view-component="true" class="ActionListItem--subItem ActionListItem">
    
    
    <a id="item-b91e3910-3948-4eed-bd49-b48c0b197b60" href="https://github.com/github/copilot.vim" data-view-component="true" class="ActionListContent">
      
        <span data-view-component="true" class="ActionListItem-label">
          Neovim
</span>      
</a>
  
</li>

          
<li data-item-id="" data-targets="nav-list.items" data-view-component="true" class="ActionListItem--subItem ActionListItem">
    
    
    <a id="item-1e7db05e-9069-4347-b356-8f540bef2218" href="https://docs.github.com/en/copilot/how-tos/set-up/installing-github-copilot-in-the-cli" data-view-component="true" class="ActionListContent">
      
        <span data-view-component="true" class="ActionListItem-label">
          CLI
</span>      
</a>
  
</li>

</ul>
</li>

        
          <li role="presentation" aria-hidden="true" data-view-component="true" class="ActionList-sectionDivider"></li>
        
          
<li data-item-id="" data-targets="nav-list.items" data-view-component="true" class="ActionListItem">
    
    
    <a data-analytics-event="{&quot;category&quot;:&quot;Global navigation&quot;,&quot;action&quot;:&quot;EXPLORE&quot;,&quot;label&quot;:null}" id="item-33cf402c-644f-4db4-9b3f-40ba530dfffb" href="/explore" data-view-component="true" class="ActionListContent ActionListContent--visual16">
        <span class="ActionListItem-visual ActionListItem-visual--leading">
          <svg aria-hidden="true" height="16" viewBox="0 0 16 16" version="1.1" width="16" data-view-component="true" class="octicon octicon-telescope">
    <path d="M14.184 1.143v-.001l1.422 2.464a1.75 1.75 0 0 1-.757 2.451L3.104 11.713a1.75 1.75 0 0 1-2.275-.702l-.447-.775a1.75 1.75 0 0 1 .53-2.32L11.682.573a1.748 1.748 0 0 1 2.502.57Zm-4.709 9.32h-.001l2.644 3.863a.75.75 0 1 1-1.238.848l-1.881-2.75v2.826a.75.75 0 0 1-1.5 0v-2.826l-1.881 2.75a.75.75 0 1 1-1.238-.848l2.049-2.992a.746.746 0 0 1 .293-.253l1.809-.87a.749.749 0 0 1 .944.252ZM9.436 3.92h-.001l-4.97 3.39.942 1.63 5.42-2.61Zm3.091-2.108h.001l-1.85 1.26 1.505 2.605 2.016-.97a.247.247 0 0 0 .13-.151.247.247 0 0 0-.022-.199l-1.422-2.464a.253.253 0 0 0-.161-.119.254.254 0 0 0-.197.038ZM1.756 9.157a.25.25 0 0 0-.075.33l.447.775a.25.25 0 0 0 .325.1l1.598-.769-.83-1.436-1.465 1Z"></path>
</svg>
        </span>
      
        <span data-view-component="true" class="ActionListItem-label">
          Explore
</span>      
</a>
  
</li>

        
          
<li data-item-id="" data-targets="nav-list.items" data-view-component="true" class="ActionListItem">
    
    
    <a data-analytics-event="{&quot;category&quot;:&quot;Global navigation&quot;,&quot;action&quot;:&quot;MARKETPLACE&quot;,&quot;label&quot;:null}" id="item-d2fd969d-1873-4459-ba22-bba72e5c2873" href="/marketplace" data-view-component="true" class="ActionListContent ActionListContent--visual16">
        <span class="ActionListItem-visual ActionListItem-visual--leading">
          <svg aria-hidden="true" height="16" viewBox="0 0 16 16" version="1.1" width="16" data-view-component="true" class="octicon octicon-gift">
    <path d="M2 2.75A2.75 2.75 0 0 1 4.75 0c.983 0 1.873.42 2.57 1.232.268.318.497.668.68 1.042.183-.375.411-.725.68-1.044C9.376.42 10.266 0 11.25 0a2.75 2.75 0 0 1 2.45 4h.55c.966 0 1.75.784 1.75 1.75v2c0 .698-.409 1.301-1 1.582v4.918A1.75 1.75 0 0 1 13.25 16H2.75A1.75 1.75 0 0 1 1 14.25V9.332C.409 9.05 0 8.448 0 7.75v-2C0 4.784.784 4 1.75 4h.55c-.192-.375-.3-.8-.3-1.25ZM7.25 9.5H2.5v4.75c0 .138.112.25.25.25h4.5Zm1.5 0v5h4.5a.25.25 0 0 0 .25-.25V9.5Zm0-4V8h5.5a.25.25 0 0 0 .25-.25v-2a.25.25 0 0 0-.25-.25Zm-7 0a.25.25 0 0 0-.25.25v2c0 .138.112.25.25.25h5.5V5.5h-5.5Zm3-4a1.25 1.25 0 0 0 0 2.5h2.309c-.233-.818-.542-1.401-.878-1.793-.43-.502-.915-.707-1.431-.707ZM8.941 4h2.309a1.25 1.25 0 0 0 0-2.5c-.516 0-1 .205-1.43.707-.337.392-.646.975-.879 1.793Z"></path>
</svg>
        </span>
      
        <span data-view-component="true" class="ActionListItem-label">
          Marketplace
</span>      
</a>
  
</li>

</ul>  </nav-list>
</nav>

        <div data-view-component="true" class="my-3 d-flex flex-justify-center height-full">
          <span data-view-component="true">
  <svg style="box-sizing: content-box; color: var(--color-icon-primary);" width="16" height="16" viewBox="0 0 16 16" fill="none" aria-hidden="true" data-view-component="true" class="anim-rotate">
    <circle cx="8" cy="8" r="7" stroke="currentColor" stroke-opacity="0.25" stroke-width="2" vector-effect="non-scaling-stroke" fill="none" />
    <path d="M15 8a7.002 7.002 0 00-7-7" stroke="currentColor" stroke-width="2" stroke-linecap="round" vector-effect="non-scaling-stroke" />
</svg>    <span class="sr-only">Loading</span>
</span>
</div>
</div>
      <div data-view-component="true" class="flex-1"></div>


      <div data-view-component="true" class="px-2">      <p class="color-fg-subtle text-small text-light">&copy; 2025 GitHub, Inc.</p>

      <div data-view-component="true" class="d-flex flex-wrap text-small text-light">
          <a target="_blank" href="https://github.com/about" data-view-component="true" class="Link mr-2">About</a>
          <a target="_blank" href="https://github.blog" data-view-component="true" class="Link mr-2">Blog</a>
          <a target="_blank" href="https://docs.github.com/site-policy/github-terms/github-terms-of-service" data-view-component="true" class="Link mr-2">Terms</a>
          <a target="_blank" href="https://docs.github.com/site-policy/privacy-policies/github-privacy-statement" data-view-component="true" class="Link mr-2">Privacy</a>
          <a target="_blank" href="https://github.com/security" data-view-component="true" class="Link mr-2">Security</a>
          <a target="_blank" href="https://www.githubstatus.com/" data-view-component="true" class="Link mr-3">Status</a>

</div></div>
</div>
      </scrollable-region>
      
</dialog></dialog-helper>


  <div data-show-on-forbidden-error hidden>
    <div class="Box">
  <div class="blankslate-container">
    <div data-view-component="true" class="blankslate blankslate-spacious color-bg-default rounded-2">
      

      <h3 data-view-component="true" class="blankslate-heading">        Uh oh!
</h3>
      <p data-view-component="true">        <p class="color-fg-muted my-2 mb-2 ws-normal">There was an error while loading. <a class="Link--inTextBlock" data-turbo="false" href="" aria-label="Please reload this page">Please reload this page</a>.</p>
</p>

</div>  </div>
</div>  </div>
</include-fragment></deferred-side-panel>
        </div>

        <a class="AppHeader-logo ml-1 "
          href="https://github.com/"
          data-hotkey="g d"
          aria-label="Homepage "
          data-turbo="false"
          data-analytics-event="{&quot;category&quot;:&quot;Header&quot;,&quot;action&quot;:&quot;go to dashboard&quot;,&quot;label&quot;:&quot;icon:logo&quot;}"
        >
          <svg height="32" aria-hidden="true" viewBox="0 0 24 24" version="1.1" width="32" data-view-component="true" class="octicon octicon-mark-github v-align-middle">
    <path d="M12 1C5.923 1 1 5.923 1 12c0 4.867 3.149 8.979 7.521 10.436.55.096.756-.233.756-.522 0-.262-.013-1.128-.013-2.049-2.764.509-3.479-.674-3.699-1.292-.124-.317-.66-1.293-1.127-1.554-.385-.207-.936-.715-.014-.729.866-.014 1.485.797 1.691 1.128.99 1.663 2.571 1.196 3.204.907.096-.715.385-1.196.701-1.471-2.448-.275-5.005-1.224-5.005-5.432 0-1.196.426-2.186 1.128-2.956-.111-.275-.496-1.402.11-2.915 0 0 .921-.288 3.024 1.128a10.193 10.193 0 0 1 2.75-.371c.936 0 1.871.123 2.75.371 2.104-1.43 3.025-1.128 3.025-1.128.605 1.513.221 2.64.111 2.915.701.77 1.127 1.747 1.127 2.956 0 4.222-2.571 5.157-5.019 5.432.399.344.743 1.004.743 2.035 0 1.471-.014 2.654-.014 3.025 0 .289.206.632.756.522C19.851 20.979 23 16.854 23 12c0-6.077-4.922-11-11-11Z"></path>
</svg>
        </a>

          <context-region-controller
  class="AppHeader-context responsive-context-region"
  data-max-items="5"
  
>
  <div class="AppHeader-context-full">
    <nav role="navigation" aria-label="GitHub Breadcrumb">
      
<context-region data-target="context-region-controller.contextRegion" role="list"  data-action="context-region-changed:context-region-controller#crumbsChanged">
    <context-region-crumb
      data-crumb-id="contextregion-usercrumb-kaviyadharsheni18"
      data-targets="context-region.crumbs"
      data-label="Kaviyadharsheni18"
      data-href="/Kaviyadharsheni18"
      data-pre-rendered
      role="listitem"
      
    >
      <a data-target="context-region-crumb.linkElement" data-analytics-event="{&quot;category&quot;:&quot;SiteHeaderComponent&quot;,&quot;action&quot;:&quot;context_region_crumb&quot;,&quot;label&quot;:&quot;Kaviyadharsheni18&quot;,&quot;screen_size&quot;:&quot;full&quot;}" data-hovercard-type="user" data-hovercard-url="/users/Kaviyadharsheni18/hovercard" data-octo-click="hovercard-link-click" data-octo-dimensions="link_type:self" href="/Kaviyadharsheni18" id="contextregion-usercrumb-kaviyadharsheni18-link" data-view-component="true" class="AppHeader-context-item">
        <span data-target="context-region-crumb.labelElement" class="AppHeader-context-item-label ">
          Kaviyadharsheni18
        </span>

</a>
      <context-region-divider data-target="context-region-crumb.dividerElement" data-pre-rendered >
  <span class="AppHeader-context-item-separator">
    <span class="sr-only">/</span>
    <svg width="16" height="16" viewBox="0 0 16 16" xmlns="http://www.w3.org/2000/svg" aria-hidden="true">
      <path d="M10.956 1.27994L6.06418 14.7201L5 14.7201L9.89181 1.27994L10.956 1.27994Z" fill="currentcolor" />
    </svg>
  </span>
</context-region-divider>

    </context-region-crumb>

      <li data-target="context-region-controller.overflowMenuContainer context-region.overflowMenuContainer" role="listitem" hidden>
        <action-menu data-target="context-region-controller.overflowActionMenu" data-select-variant="none" data-view-component="true">
  <focus-group direction="vertical" mnemonics retain>
    <button id="action-menu-a4ec49ac-f7d3-4562-9f4f-b4ae36481bba-button" popovertarget="action-menu-a4ec49ac-f7d3-4562-9f4f-b4ae36481bba-overlay" aria-controls="action-menu-a4ec49ac-f7d3-4562-9f4f-b4ae36481bba-list" aria-haspopup="true" aria-labelledby="tooltip-fcab7a1c-2231-4d3f-84a8-ece5b2255a7c" type="button" data-view-component="true" class="Button Button--iconOnly Button--secondary Button--medium">  <svg aria-hidden="true" height="16" viewBox="0 0 16 16" version="1.1" width="16" data-view-component="true" class="octicon octicon-kebab-horizontal Button-visual">
    <path d="M8 9a1.5 1.5 0 1 0 0-3 1.5 1.5 0 0 0 0 3ZM1.5 9a1.5 1.5 0 1 0 0-3 1.5 1.5 0 0 0 0 3Zm13 0a1.5 1.5 0 1 0 0-3 1.5 1.5 0 0 0 0 3Z"></path>
</svg>
</button><tool-tip id="tooltip-fcab7a1c-2231-4d3f-84a8-ece5b2255a7c" for="action-menu-a4ec49ac-f7d3-4562-9f4f-b4ae36481bba-button" popover="manual" data-direction="s" data-type="label" data-view-component="true" class="sr-only position-absolute">Show more breadcrumb items</tool-tip>


<anchored-position data-target="action-menu.overlay" id="action-menu-a4ec49ac-f7d3-4562-9f4f-b4ae36481bba-overlay" anchor="action-menu-a4ec49ac-f7d3-4562-9f4f-b4ae36481bba-button" align="start" side="outside-bottom" anchor-offset="normal" popover="auto" data-view-component="true">
  <div data-view-component="true" class="Overlay Overlay--size-auto">
    
      <div data-view-component="true" class="Overlay-body Overlay-body--paddingNone">          <action-list>
  <div data-view-component="true">
    <ul aria-labelledby="action-menu-a4ec49ac-f7d3-4562-9f4f-b4ae36481bba-button" id="action-menu-a4ec49ac-f7d3-4562-9f4f-b4ae36481bba-list" role="menu" data-view-component="true" class="ActionListWrap--inset ActionListWrap">
        <li hidden="hidden" data-crumb-id="contextregion-usercrumb-kaviyadharsheni18" data-targets="context-region.overflowCrumbs action-list.items" data-analytics-event="{&quot;category&quot;:&quot;SiteHeaderComponent&quot;,&quot;action&quot;:&quot;context_region_overflow_menu_crumb&quot;,&quot;label&quot;:&quot;global-navigation&quot;}" role="none" data-view-component="true" class="ActionListItem">
    
    
    <a tabindex="-1" id="item-86606c3e-6daf-46eb-a186-7f511dc9f5a0" href="/Kaviyadharsheni18" role="menuitem" data-view-component="true" class="ActionListContent">
      
        <span data-view-component="true" class="ActionListItem-label">
          Kaviyadharsheni18
</span>      
</a>
  
</li>
        <li hidden="hidden" data-crumb-id="contextregion-repositorycrumb-myprojects" data-targets="context-region.overflowCrumbs action-list.items" data-analytics-event="{&quot;category&quot;:&quot;SiteHeaderComponent&quot;,&quot;action&quot;:&quot;context_region_overflow_menu_crumb&quot;,&quot;label&quot;:&quot;global-navigation&quot;}" role="none" data-view-component="true" class="ActionListItem">
    
    
    <a tabindex="-1" id="item-c6ad8d76-1f87-42ea-b26f-72d92e761098" href="/Kaviyadharsheni18/myprojects" role="menuitem" data-view-component="true" class="ActionListContent">
      
        <span data-view-component="true" class="ActionListItem-label">
          myprojects
</span>      
</a>
  
</li>
</ul>    
</div></action-list>


</div>
      
</div></anchored-position>  </focus-group>
</action-menu>
  <context-region-divider data-target="context-region-crumb.dividerElement" data-pre-rendered >
  <span class="AppHeader-context-item-separator">
    <span class="sr-only">/</span>
    <svg width="16" height="16" viewBox="0 0 16 16" xmlns="http://www.w3.org/2000/svg" aria-hidden="true">
      <path d="M10.956 1.27994L6.06418 14.7201L5 14.7201L9.89181 1.27994L10.956 1.27994Z" fill="currentcolor" />
    </svg>
  </span>
</context-region-divider>


      </li>
    <context-region-crumb
      data-crumb-id="contextregion-repositorycrumb-myprojects"
      data-targets="context-region.crumbs"
      data-label="myprojects"
      data-href="/Kaviyadharsheni18/myprojects"
      data-pre-rendered
      role="listitem"
      
    >
      <a data-target="context-region-crumb.linkElement" data-analytics-event="{&quot;category&quot;:&quot;SiteHeaderComponent&quot;,&quot;action&quot;:&quot;context_region_crumb&quot;,&quot;label&quot;:&quot;myprojects&quot;,&quot;screen_size&quot;:&quot;full&quot;}" href="/Kaviyadharsheni18/myprojects" id="contextregion-repositorycrumb-myprojects-link" data-view-component="true" class="AppHeader-context-item">
        <span data-target="context-region-crumb.labelElement" class="AppHeader-context-item-label ">
          myprojects
        </span>

</a>
      <context-region-divider data-target="context-region-crumb.dividerElement" data-pre-rendered >
  <span class="AppHeader-context-item-separator">
    <span class="sr-only">/</span>
    <svg width="16" height="16" viewBox="0 0 16 16" xmlns="http://www.w3.org/2000/svg" aria-hidden="true">
      <path d="M10.956 1.27994L6.06418 14.7201L5 14.7201L9.89181 1.27994L10.956 1.27994Z" fill="currentcolor" />
    </svg>
  </span>
</context-region-divider>

    </context-region-crumb>

</context-region>

    </nav>
  </div>
</context-region-controller>

      </div>
      <div class="AppHeader-globalBar-end">
          <div class="AppHeader-search" >
              


<qbsearch-input class="search-input" data-scope="repo:Kaviyadharsheni18/myprojects" data-custom-scopes-path="/search/custom_scopes" data-delete-custom-scopes-csrf="4fIwkZ6FEGoXidBqv0sihEzB-nar8iy99jmBHv3Jk-F9QIVy8mtRmO55hwmQa32XnI9eCiiftfH3BNeMKO8nIQ" data-max-custom-scopes="10" data-header-redesign-enabled="true" data-initial-value="" data-blackbird-suggestions-path="/search/suggestions" data-jump-to-suggestions-path="/_graphql/GetSuggestedNavigationDestinations" data-current-repository="Kaviyadharsheni18/myprojects" data-current-org="" data-current-owner="Kaviyadharsheni18" data-logged-in="true" data-copilot-chat-enabled="true" data-nl-search-enabled="false">
  <div
    class="search-input-container search-with-dialog position-relative d-flex flex-row flex-items-center height-auto color-bg-transparent border-0 color-fg-subtle mx-0"
    data-action="click:qbsearch-input#searchInputContainerClicked"
  >
      
            <button type="button" data-action="click:qbsearch-input#handleExpand" class="AppHeader-button AppHeader-search-whenNarrow" aria-label="Search or jump to…" aria-expanded="false" aria-haspopup="dialog">
            <svg aria-hidden="true" height="16" viewBox="0 0 16 16" version="1.1" width="16" data-view-component="true" class="octicon octicon-search">
    <path d="M10.68 11.74a6 6 0 0 1-7.922-8.982 6 6 0 0 1 8.982 7.922l3.04 3.04a.749.749 0 0 1-.326 1.275.749.749 0 0 1-.734-.215ZM11.5 7a4.499 4.499 0 1 0-8.997 0A4.499 4.499 0 0 0 11.5 7Z"></path>
</svg>
          </button>


<div class="AppHeader-search-whenRegular">
  <div class="AppHeader-search-wrap AppHeader-search-wrap--hasTrailing">
    <div class="AppHeader-search-control AppHeader-search-control-overflow">
      <label
        for="AppHeader-searchInput"
        aria-label="Search or jump to…"
        class="AppHeader-search-visual--leading"
      >
        <svg aria-hidden="true" height="16" viewBox="0 0 16 16" version="1.1" width="16" data-view-component="true" class="octicon octicon-search">
    <path d="M10.68 11.74a6 6 0 0 1-7.922-8.982 6 6 0 0 1 8.982 7.922l3.04 3.04a.749.749 0 0 1-.326 1.275.749.749 0 0 1-.734-.215ZM11.5 7a4.499 4.499 0 1 0-8.997 0A4.499 4.499 0 0 0 11.5 7Z"></path>
</svg>
      </label>

                <button
            type="button"
            data-target="qbsearch-input.inputButton"
            data-action="click:qbsearch-input#handleExpand"
            class="AppHeader-searchButton form-control input-contrast text-left color-fg-subtle no-wrap"
            data-hotkey="s,/"
            data-analytics-event="{&quot;location&quot;:&quot;navbar&quot;,&quot;action&quot;:&quot;searchbar&quot;,&quot;context&quot;:&quot;global&quot;,&quot;tag&quot;:&quot;input&quot;,&quot;label&quot;:&quot;searchbar_input_global_navbar&quot;}"
            aria-describedby="search-error-message-flash"
          >
            <div class="overflow-hidden">
              <span id="qb-input-query" data-target="qbsearch-input.inputButtonText">
                  Type <kbd class="AppHeader-search-kbd">/</kbd> to search
              </span>
            </div>
          </button>

    </div>


  </div>
</div>

    <input type="hidden" name="type" class="js-site-search-type-field">

    
<div class="Overlay--hidden " data-modal-dialog-overlay>
  <modal-dialog data-action="close:qbsearch-input#handleClose cancel:qbsearch-input#handleClose" data-target="qbsearch-input.searchSuggestionsDialog" role="dialog" id="search-suggestions-dialog" aria-modal="true" aria-labelledby="search-suggestions-dialog-header" data-view-component="true" class="Overlay Overlay--width-medium Overlay--height-auto">
      <h1 id="search-suggestions-dialog-header" class="sr-only">Search code, repositories, users, issues, pull requests...</h1>
    <div class="Overlay-body Overlay-body--paddingNone">
      
          <div data-view-component="true">        <div class="search-suggestions position-absolute width-full color-shadow-large border color-fg-default color-bg-default overflow-hidden d-flex flex-column query-builder-container"
          style="border-radius: 12px;"
          data-target="qbsearch-input.queryBuilderContainer"
          hidden
        >
          <!-- '"` --><!-- </textarea></xmp> --></option></form><form id="query-builder-test-form" action="" accept-charset="UTF-8" method="get">
  <query-builder data-target="qbsearch-input.queryBuilder" id="query-builder-query-builder-test" data-filter-key=":" data-view-component="true" class="QueryBuilder search-query-builder">
    <div class="FormControl FormControl--fullWidth">
      <label id="query-builder-test-label" for="query-builder-test" class="FormControl-label sr-only">
        Search
      </label>
      <div
        class="QueryBuilder-StyledInput width-fit "
        data-target="query-builder.styledInput"
      >
          <span id="query-builder-test-leadingvisual-wrap" class="FormControl-input-leadingVisualWrap QueryBuilder-leadingVisualWrap">
            <svg aria-hidden="true" height="16" viewBox="0 0 16 16" version="1.1" width="16" data-view-component="true" class="octicon octicon-search FormControl-input-leadingVisual">
    <path d="M10.68 11.74a6 6 0 0 1-7.922-8.982 6 6 0 0 1 8.982 7.922l3.04 3.04a.749.749 0 0 1-.326 1.275.749.749 0 0 1-.734-.215ZM11.5 7a4.499 4.499 0 1 0-8.997 0A4.499 4.499 0 0 0 11.5 7Z"></path>
</svg>
          </span>
        <div data-target="query-builder.styledInputContainer" class="QueryBuilder-StyledInputContainer">
          <div
            aria-hidden="true"
            class="QueryBuilder-StyledInputContent"
            data-target="query-builder.styledInputContent"
          ></div>
          <div class="QueryBuilder-InputWrapper">
            <div aria-hidden="true" class="QueryBuilder-Sizer" data-target="query-builder.sizer"></div>
            <input id="query-builder-test" name="query-builder-test" value="" autocomplete="off" type="text" role="combobox" spellcheck="false" aria-expanded="false" aria-describedby="validation-a2beb4b1-27ce-459c-a650-6870e2740150" data-target="query-builder.input" data-action="
          input:query-builder#inputChange
          blur:query-builder#inputBlur
          keydown:query-builder#inputKeydown
          focus:query-builder#inputFocus
        " data-view-component="true" class="FormControl-input QueryBuilder-Input FormControl-medium" />
          </div>
        </div>
          <span class="sr-only" id="query-builder-test-clear">Clear</span>
          <button role="button" id="query-builder-test-clear-button" aria-labelledby="query-builder-test-clear query-builder-test-label" data-target="query-builder.clearButton" data-action="
                click:query-builder#clear
                focus:query-builder#clearButtonFocus
                blur:query-builder#clearButtonBlur
              " variant="small" hidden="hidden" type="button" data-view-component="true" class="Button Button--iconOnly Button--invisible Button--medium mr-1 px-2 py-0 d-flex flex-items-center rounded-1 color-fg-muted">  <svg aria-hidden="true" height="16" viewBox="0 0 16 16" version="1.1" width="16" data-view-component="true" class="octicon octicon-x-circle-fill Button-visual">
    <path d="M2.343 13.657A8 8 0 1 1 13.658 2.343 8 8 0 0 1 2.343 13.657ZM6.03 4.97a.751.751 0 0 0-1.042.018.751.751 0 0 0-.018 1.042L6.94 8 4.97 9.97a.749.749 0 0 0 .326 1.275.749.749 0 0 0 .734-.215L8 9.06l1.97 1.97a.749.749 0 0 0 1.275-.326.749.749 0 0 0-.215-.734L9.06 8l1.97-1.97a.749.749 0 0 0-.326-1.275.749.749 0 0 0-.734.215L8 6.94Z"></path>
</svg>
</button>

      </div>
      <template id="search-icon">
  <svg aria-hidden="true" height="16" viewBox="0 0 16 16" version="1.1" width="16" data-view-component="true" class="octicon octicon-search">
    <path d="M10.68 11.74a6 6 0 0 1-7.922-8.982 6 6 0 0 1 8.982 7.922l3.04 3.04a.749.749 0 0 1-.326 1.275.749.749 0 0 1-.734-.215ZM11.5 7a4.499 4.499 0 1 0-8.997 0A4.499 4.499 0 0 0 11.5 7Z"></path>
</svg>
</template>

<template id="code-icon">
  <svg aria-hidden="true" height="16" viewBox="0 0 16 16" version="1.1" width="16" data-view-component="true" class="octicon octicon-code">
    <path d="m11.28 3.22 4.25 4.25a.75.75 0 0 1 0 1.06l-4.25 4.25a.749.749 0 0 1-1.275-.326.749.749 0 0 1 .215-.734L13.94 8l-3.72-3.72a.749.749 0 0 1 .326-1.275.749.749 0 0 1 .734.215Zm-6.56 0a.751.751 0 0 1 1.042.018.751.751 0 0 1 .018 1.042L2.06 8l3.72 3.72a.749.749 0 0 1-.326 1.275.749.749 0 0 1-.734-.215L.47 8.53a.75.75 0 0 1 0-1.06Z"></path>
</svg>
</template>

<template id="file-code-icon">
  <svg aria-hidden="true" height="16" viewBox="0 0 16 16" version="1.1" width="16" data-view-component="true" class="octicon octicon-file-code">
    <path d="M4 1.75C4 .784 4.784 0 5.75 0h5.586c.464 0 .909.184 1.237.513l2.914 2.914c.329.328.513.773.513 1.237v8.586A1.75 1.75 0 0 1 14.25 15h-9a.75.75 0 0 1 0-1.5h9a.25.25 0 0 0 .25-.25V6h-2.75A1.75 1.75 0 0 1 10 4.25V1.5H5.75a.25.25 0 0 0-.25.25v2.5a.75.75 0 0 1-1.5 0Zm1.72 4.97a.75.75 0 0 1 1.06 0l2 2a.75.75 0 0 1 0 1.06l-2 2a.749.749 0 0 1-1.275-.326.749.749 0 0 1 .215-.734l1.47-1.47-1.47-1.47a.75.75 0 0 1 0-1.06ZM3.28 7.78 1.81 9.25l1.47 1.47a.751.751 0 0 1-.018 1.042.751.751 0 0 1-1.042.018l-2-2a.75.75 0 0 1 0-1.06l2-2a.751.751 0 0 1 1.042.018.751.751 0 0 1 .018 1.042Zm8.22-6.218V4.25c0 .138.112.25.25.25h2.688l-.011-.013-2.914-2.914-.013-.011Z"></path>
</svg>
</template>

<template id="history-icon">
  <svg aria-hidden="true" height="16" viewBox="0 0 16 16" version="1.1" width="16" data-view-component="true" class="octicon octicon-history">
    <path d="m.427 1.927 1.215 1.215a8.002 8.002 0 1 1-1.6 5.685.75.75 0 1 1 1.493-.154 6.5 6.5 0 1 0 1.18-4.458l1.358 1.358A.25.25 0 0 1 3.896 6H.25A.25.25 0 0 1 0 5.75V2.104a.25.25 0 0 1 .427-.177ZM7.75 4a.75.75 0 0 1 .75.75v2.992l2.028.812a.75.75 0 0 1-.557 1.392l-2.5-1A.751.751 0 0 1 7 8.25v-3.5A.75.75 0 0 1 7.75 4Z"></path>
</svg>
</template>

<template id="repo-icon">
  <svg aria-hidden="true" height="16" viewBox="0 0 16 16" version="1.1" width="16" data-view-component="true" class="octicon octicon-repo">
    <path d="M2 2.5A2.5 2.5 0 0 1 4.5 0h8.75a.75.75 0 0 1 .75.75v12.5a.75.75 0 0 1-.75.75h-2.5a.75.75 0 0 1 0-1.5h1.75v-2h-8a1 1 0 0 0-.714 1.7.75.75 0 1 1-1.072 1.05A2.495 2.495 0 0 1 2 11.5Zm10.5-1h-8a1 1 0 0 0-1 1v6.708A2.486 2.486 0 0 1 4.5 9h8ZM5 12.25a.25.25 0 0 1 .25-.25h3.5a.25.25 0 0 1 .25.25v3.25a.25.25 0 0 1-.4.2l-1.45-1.087a.249.249 0 0 0-.3 0L5.4 15.7a.25.25 0 0 1-.4-.2Z"></path>
</svg>
</template>

<template id="bookmark-icon">
  <svg aria-hidden="true" height="16" viewBox="0 0 16 16" version="1.1" width="16" data-view-component="true" class="octicon octicon-bookmark">
    <path d="M3 2.75C3 1.784 3.784 1 4.75 1h6.5c.966 0 1.75.784 1.75 1.75v11.5a.75.75 0 0 1-1.227.579L8 11.722l-3.773 3.107A.751.751 0 0 1 3 14.25Zm1.75-.25a.25.25 0 0 0-.25.25v9.91l3.023-2.489a.75.75 0 0 1 .954 0l3.023 2.49V2.75a.25.25 0 0 0-.25-.25Z"></path>
</svg>
</template>

<template id="plus-circle-icon">
  <svg aria-hidden="true" height="16" viewBox="0 0 16 16" version="1.1" width="16" data-view-component="true" class="octicon octicon-plus-circle">
    <path d="M8 0a8 8 0 1 1 0 16A8 8 0 0 1 8 0ZM1.5 8a6.5 6.5 0 1 0 13 0 6.5 6.5 0 0 0-13 0Zm7.25-3.25v2.5h2.5a.75.75 0 0 1 0 1.5h-2.5v2.5a.75.75 0 0 1-1.5 0v-2.5h-2.5a.75.75 0 0 1 0-1.5h2.5v-2.5a.75.75 0 0 1 1.5 0Z"></path>
</svg>
</template>

<template id="circle-icon">
  <svg aria-hidden="true" height="16" viewBox="0 0 16 16" version="1.1" width="16" data-view-component="true" class="octicon octicon-dot-fill">
    <path d="M8 4a4 4 0 1 1 0 8 4 4 0 0 1 0-8Z"></path>
</svg>
</template>

<template id="trash-icon">
  <svg aria-hidden="true" height="16" viewBox="0 0 16 16" version="1.1" width="16" data-view-component="true" class="octicon octicon-trash">
    <path d="M11 1.75V3h2.25a.75.75 0 0 1 0 1.5H2.75a.75.75 0 0 1 0-1.5H5V1.75C5 .784 5.784 0 6.75 0h2.5C10.216 0 11 .784 11 1.75ZM4.496 6.675l.66 6.6a.25.25 0 0 0 .249.225h5.19a.25.25 0 0 0 .249-.225l.66-6.6a.75.75 0 0 1 1.492.149l-.66 6.6A1.748 1.748 0 0 1 10.595 15h-5.19a1.75 1.75 0 0 1-1.741-1.575l-.66-6.6a.75.75 0 1 1 1.492-.15ZM6.5 1.75V3h3V1.75a.25.25 0 0 0-.25-.25h-2.5a.25.25 0 0 0-.25.25Z"></path>
</svg>
</template>

<template id="team-icon">
  <svg aria-hidden="true" height="16" viewBox="0 0 16 16" version="1.1" width="16" data-view-component="true" class="octicon octicon-people">
    <path d="M2 5.5a3.5 3.5 0 1 1 5.898 2.549 5.508 5.508 0 0 1 3.034 4.084.75.75 0 1 1-1.482.235 4 4 0 0 0-7.9 0 .75.75 0 0 1-1.482-.236A5.507 5.507 0 0 1 3.102 8.05 3.493 3.493 0 0 1 2 5.5ZM11 4a3.001 3.001 0 0 1 2.22 5.018 5.01 5.01 0 0 1 2.56 3.012.749.749 0 0 1-.885.954.752.752 0 0 1-.549-.514 3.507 3.507 0 0 0-2.522-2.372.75.75 0 0 1-.574-.73v-.352a.75.75 0 0 1 .416-.672A1.5 1.5 0 0 0 11 5.5.75.75 0 0 1 11 4Zm-5.5-.5a2 2 0 1 0-.001 3.999A2 2 0 0 0 5.5 3.5Z"></path>
</svg>
</template>

<template id="project-icon">
  <svg aria-hidden="true" height="16" viewBox="0 0 16 16" version="1.1" width="16" data-view-component="true" class="octicon octicon-project">
    <path d="M1.75 0h12.5C15.216 0 16 .784 16 1.75v12.5A1.75 1.75 0 0 1 14.25 16H1.75A1.75 1.75 0 0 1 0 14.25V1.75C0 .784.784 0 1.75 0ZM1.5 1.75v12.5c0 .138.112.25.25.25h12.5a.25.25 0 0 0 .25-.25V1.75a.25.25 0 0 0-.25-.25H1.75a.25.25 0 0 0-.25.25ZM11.75 3a.75.75 0 0 1 .75.75v7.5a.75.75 0 0 1-1.5 0v-7.5a.75.75 0 0 1 .75-.75Zm-8.25.75a.75.75 0 0 1 1.5 0v5.5a.75.75 0 0 1-1.5 0ZM8 3a.75.75 0 0 1 .75.75v3.5a.75.75 0 0 1-1.5 0v-3.5A.75.75 0 0 1 8 3Z"></path>
</svg>
</template>

<template id="pencil-icon">
  <svg aria-hidden="true" height="16" viewBox="0 0 16 16" version="1.1" width="16" data-view-component="true" class="octicon octicon-pencil">
    <path d="M11.013 1.427a1.75 1.75 0 0 1 2.474 0l1.086 1.086a1.75 1.75 0 0 1 0 2.474l-8.61 8.61c-.21.21-.47.364-.756.445l-3.251.93a.75.75 0 0 1-.927-.928l.929-3.25c.081-.286.235-.547.445-.758l8.61-8.61Zm.176 4.823L9.75 4.81l-6.286 6.287a.253.253 0 0 0-.064.108l-.558 1.953 1.953-.558a.253.253 0 0 0 .108-.064Zm1.238-3.763a.25.25 0 0 0-.354 0L10.811 3.75l1.439 1.44 1.263-1.263a.25.25 0 0 0 0-.354Z"></path>
</svg>
</template>

<template id="copilot-icon">
  <svg aria-hidden="true" height="16" viewBox="0 0 16 16" version="1.1" width="16" data-view-component="true" class="octicon octicon-copilot">
    <path d="M7.998 15.035c-4.562 0-7.873-2.914-7.998-3.749V9.338c.085-.628.677-1.686 1.588-2.065.013-.07.024-.143.036-.218.029-.183.06-.384.126-.612-.201-.508-.254-1.084-.254-1.656 0-.87.128-1.769.693-2.484.579-.733 1.494-1.124 2.724-1.261 1.206-.134 2.262.034 2.944.765.05.053.096.108.139.165.044-.057.094-.112.143-.165.682-.731 1.738-.899 2.944-.765 1.23.137 2.145.528 2.724 1.261.566.715.693 1.614.693 2.484 0 .572-.053 1.148-.254 1.656.066.228.098.429.126.612.012.076.024.148.037.218.924.385 1.522 1.471 1.591 2.095v1.872c0 .766-3.351 3.795-8.002 3.795Zm0-1.485c2.28 0 4.584-1.11 5.002-1.433V7.862l-.023-.116c-.49.21-1.075.291-1.727.291-1.146 0-2.059-.327-2.71-.991A3.222 3.222 0 0 1 8 6.303a3.24 3.24 0 0 1-.544.743c-.65.664-1.563.991-2.71.991-.652 0-1.236-.081-1.727-.291l-.023.116v4.255c.419.323 2.722 1.433 5.002 1.433ZM6.762 2.83c-.193-.206-.637-.413-1.682-.297-1.019.113-1.479.404-1.713.7-.247.312-.369.789-.369 1.554 0 .793.129 1.171.308 1.371.162.181.519.379 1.442.379.853 0 1.339-.235 1.638-.54.315-.322.527-.827.617-1.553.117-.935-.037-1.395-.241-1.614Zm4.155-.297c-1.044-.116-1.488.091-1.681.297-.204.219-.359.679-.242 1.614.091.726.303 1.231.618 1.553.299.305.784.54 1.638.54.922 0 1.28-.198 1.442-.379.179-.2.308-.578.308-1.371 0-.765-.123-1.242-.37-1.554-.233-.296-.693-.587-1.713-.7Z"></path><path d="M6.25 9.037a.75.75 0 0 1 .75.75v1.501a.75.75 0 0 1-1.5 0V9.787a.75.75 0 0 1 .75-.75Zm4.25.75v1.501a.75.75 0 0 1-1.5 0V9.787a.75.75 0 0 1 1.5 0Z"></path>
</svg>
</template>

<template id="copilot-error-icon">
  <svg aria-hidden="true" height="16" viewBox="0 0 16 16" version="1.1" width="16" data-view-component="true" class="octicon octicon-copilot-error">
    <path d="M16 11.24c0 .112-.072.274-.21.467L13 9.688V7.862l-.023-.116c-.49.21-1.075.291-1.727.291-.198 0-.388-.009-.571-.029L6.833 5.226a4.01 4.01 0 0 0 .17-.782c.117-.935-.037-1.395-.241-1.614-.193-.206-.637-.413-1.682-.297-.683.076-1.115.231-1.395.415l-1.257-.91c.579-.564 1.413-.877 2.485-.996 1.206-.134 2.262.034 2.944.765.05.053.096.108.139.165.044-.057.094-.112.143-.165.682-.731 1.738-.899 2.944-.765 1.23.137 2.145.528 2.724 1.261.566.715.693 1.614.693 2.484 0 .572-.053 1.148-.254 1.656.066.228.098.429.126.612.012.076.024.148.037.218.924.385 1.522 1.471 1.591 2.095Zm-5.083-8.707c-1.044-.116-1.488.091-1.681.297-.204.219-.359.679-.242 1.614.091.726.303 1.231.618 1.553.299.305.784.54 1.638.54.922 0 1.28-.198 1.442-.379.179-.2.308-.578.308-1.371 0-.765-.123-1.242-.37-1.554-.233-.296-.693-.587-1.713-.7Zm2.511 11.074c-1.393.776-3.272 1.428-5.43 1.428-4.562 0-7.873-2.914-7.998-3.749V9.338c.085-.628.677-1.686 1.588-2.065.013-.07.024-.143.036-.218.029-.183.06-.384.126-.612-.18-.455-.241-.963-.252-1.475L.31 4.107A.747.747 0 0 1 0 3.509V3.49a.748.748 0 0 1 .625-.73c.156-.026.306.047.435.139l14.667 10.578a.592.592 0 0 1 .227.264.752.752 0 0 1 .046.249v.022a.75.75 0 0 1-1.19.596Zm-1.367-.991L5.635 7.964a5.128 5.128 0 0 1-.889.073c-.652 0-1.236-.081-1.727-.291l-.023.116v4.255c.419.323 2.722 1.433 5.002 1.433 1.539 0 3.089-.505 4.063-.934Z"></path>
</svg>
</template>

<template id="workflow-icon">
  <svg aria-hidden="true" height="16" viewBox="0 0 16 16" version="1.1" width="16" data-view-component="true" class="octicon octicon-workflow">
    <path d="M0 1.75C0 .784.784 0 1.75 0h3.5C6.216 0 7 .784 7 1.75v3.5A1.75 1.75 0 0 1 5.25 7H4v4a1 1 0 0 0 1 1h4v-1.25C9 9.784 9.784 9 10.75 9h3.5c.966 0 1.75.784 1.75 1.75v3.5A1.75 1.75 0 0 1 14.25 16h-3.5A1.75 1.75 0 0 1 9 14.25v-.75H5A2.5 2.5 0 0 1 2.5 11V7h-.75A1.75 1.75 0 0 1 0 5.25Zm1.75-.25a.25.25 0 0 0-.25.25v3.5c0 .138.112.25.25.25h3.5a.25.25 0 0 0 .25-.25v-3.5a.25.25 0 0 0-.25-.25Zm9 9a.25.25 0 0 0-.25.25v3.5c0 .138.112.25.25.25h3.5a.25.25 0 0 0 .25-.25v-3.5a.25.25 0 0 0-.25-.25Z"></path>
</svg>
</template>

<template id="book-icon">
  <svg aria-hidden="true" height="16" viewBox="0 0 16 16" version="1.1" width="16" data-view-component="true" class="octicon octicon-book">
    <path d="M0 1.75A.75.75 0 0 1 .75 1h4.253c1.227 0 2.317.59 3 1.501A3.743 3.743 0 0 1 11.006 1h4.245a.75.75 0 0 1 .75.75v10.5a.75.75 0 0 1-.75.75h-4.507a2.25 2.25 0 0 0-1.591.659l-.622.621a.75.75 0 0 1-1.06 0l-.622-.621A2.25 2.25 0 0 0 5.258 13H.75a.75.75 0 0 1-.75-.75Zm7.251 10.324.004-5.073-.002-2.253A2.25 2.25 0 0 0 5.003 2.5H1.5v9h3.757a3.75 3.75 0 0 1 1.994.574ZM8.755 4.75l-.004 7.322a3.752 3.752 0 0 1 1.992-.572H14.5v-9h-3.495a2.25 2.25 0 0 0-2.25 2.25Z"></path>
</svg>
</template>

<template id="code-review-icon">
  <svg aria-hidden="true" height="16" viewBox="0 0 16 16" version="1.1" width="16" data-view-component="true" class="octicon octicon-code-review">
    <path d="M1.75 1h12.5c.966 0 1.75.784 1.75 1.75v8.5A1.75 1.75 0 0 1 14.25 13H8.061l-2.574 2.573A1.458 1.458 0 0 1 3 14.543V13H1.75A1.75 1.75 0 0 1 0 11.25v-8.5C0 1.784.784 1 1.75 1ZM1.5 2.75v8.5c0 .138.112.25.25.25h2a.75.75 0 0 1 .75.75v2.19l2.72-2.72a.749.749 0 0 1 .53-.22h6.5a.25.25 0 0 0 .25-.25v-8.5a.25.25 0 0 0-.25-.25H1.75a.25.25 0 0 0-.25.25Zm5.28 1.72a.75.75 0 0 1 0 1.06L5.31 7l1.47 1.47a.751.751 0 0 1-.018 1.042.751.751 0 0 1-1.042.018l-2-2a.75.75 0 0 1 0-1.06l2-2a.75.75 0 0 1 1.06 0Zm2.44 0a.75.75 0 0 1 1.06 0l2 2a.75.75 0 0 1 0 1.06l-2 2a.751.751 0 0 1-1.042-.018.751.751 0 0 1-.018-1.042L10.69 7 9.22 5.53a.75.75 0 0 1 0-1.06Z"></path>
</svg>
</template>

<template id="codespaces-icon">
  <svg aria-hidden="true" height="16" viewBox="0 0 16 16" version="1.1" width="16" data-view-component="true" class="octicon octicon-codespaces">
    <path d="M0 11.25c0-.966.784-1.75 1.75-1.75h12.5c.966 0 1.75.784 1.75 1.75v3A1.75 1.75 0 0 1 14.25 16H1.75A1.75 1.75 0 0 1 0 14.25Zm2-9.5C2 .784 2.784 0 3.75 0h8.5C13.216 0 14 .784 14 1.75v5a1.75 1.75 0 0 1-1.75 1.75h-8.5A1.75 1.75 0 0 1 2 6.75Zm1.75-.25a.25.25 0 0 0-.25.25v5c0 .138.112.25.25.25h8.5a.25.25 0 0 0 .25-.25v-5a.25.25 0 0 0-.25-.25Zm-2 9.5a.25.25 0 0 0-.25.25v3c0 .138.112.25.25.25h12.5a.25.25 0 0 0 .25-.25v-3a.25.25 0 0 0-.25-.25Z"></path><path d="M7 12.75a.75.75 0 0 1 .75-.75h4.5a.75.75 0 0 1 0 1.5h-4.5a.75.75 0 0 1-.75-.75Zm-4 0a.75.75 0 0 1 .75-.75h.5a.75.75 0 0 1 0 1.5h-.5a.75.75 0 0 1-.75-.75Z"></path>
</svg>
</template>

<template id="comment-icon">
  <svg aria-hidden="true" height="16" viewBox="0 0 16 16" version="1.1" width="16" data-view-component="true" class="octicon octicon-comment">
    <path d="M1 2.75C1 1.784 1.784 1 2.75 1h10.5c.966 0 1.75.784 1.75 1.75v7.5A1.75 1.75 0 0 1 13.25 12H9.06l-2.573 2.573A1.458 1.458 0 0 1 4 13.543V12H2.75A1.75 1.75 0 0 1 1 10.25Zm1.75-.25a.25.25 0 0 0-.25.25v7.5c0 .138.112.25.25.25h2a.75.75 0 0 1 .75.75v2.19l2.72-2.72a.749.749 0 0 1 .53-.22h4.5a.25.25 0 0 0 .25-.25v-7.5a.25.25 0 0 0-.25-.25Z"></path>
</svg>
</template>

<template id="comment-discussion-icon">
  <svg aria-hidden="true" height="16" viewBox="0 0 16 16" version="1.1" width="16" data-view-component="true" class="octicon octicon-comment-discussion">
    <path d="M1.75 1h8.5c.966 0 1.75.784 1.75 1.75v5.5A1.75 1.75 0 0 1 10.25 10H7.061l-2.574 2.573A1.458 1.458 0 0 1 2 11.543V10h-.25A1.75 1.75 0 0 1 0 8.25v-5.5C0 1.784.784 1 1.75 1ZM1.5 2.75v5.5c0 .138.112.25.25.25h1a.75.75 0 0 1 .75.75v2.19l2.72-2.72a.749.749 0 0 1 .53-.22h3.5a.25.25 0 0 0 .25-.25v-5.5a.25.25 0 0 0-.25-.25h-8.5a.25.25 0 0 0-.25.25Zm13 2a.25.25 0 0 0-.25-.25h-.5a.75.75 0 0 1 0-1.5h.5c.966 0 1.75.784 1.75 1.75v5.5A1.75 1.75 0 0 1 14.25 12H14v1.543a1.458 1.458 0 0 1-2.487 1.03L9.22 12.28a.749.749 0 0 1 .326-1.275.749.749 0 0 1 .734.215l2.22 2.22v-2.19a.75.75 0 0 1 .75-.75h1a.25.25 0 0 0 .25-.25Z"></path>
</svg>
</template>

<template id="organization-icon">
  <svg aria-hidden="true" height="16" viewBox="0 0 16 16" version="1.1" width="16" data-view-component="true" class="octicon octicon-organization">
    <path d="M1.75 16A1.75 1.75 0 0 1 0 14.25V1.75C0 .784.784 0 1.75 0h8.5C11.216 0 12 .784 12 1.75v12.5c0 .085-.006.168-.018.25h2.268a.25.25 0 0 0 .25-.25V8.285a.25.25 0 0 0-.111-.208l-1.055-.703a.749.749 0 1 1 .832-1.248l1.055.703c.487.325.779.871.779 1.456v5.965A1.75 1.75 0 0 1 14.25 16h-3.5a.766.766 0 0 1-.197-.026c-.099.017-.2.026-.303.026h-3a.75.75 0 0 1-.75-.75V14h-1v1.25a.75.75 0 0 1-.75.75Zm-.25-1.75c0 .138.112.25.25.25H4v-1.25a.75.75 0 0 1 .75-.75h2.5a.75.75 0 0 1 .75.75v1.25h2.25a.25.25 0 0 0 .25-.25V1.75a.25.25 0 0 0-.25-.25h-8.5a.25.25 0 0 0-.25.25ZM3.75 6h.5a.75.75 0 0 1 0 1.5h-.5a.75.75 0 0 1 0-1.5ZM3 3.75A.75.75 0 0 1 3.75 3h.5a.75.75 0 0 1 0 1.5h-.5A.75.75 0 0 1 3 3.75Zm4 3A.75.75 0 0 1 7.75 6h.5a.75.75 0 0 1 0 1.5h-.5A.75.75 0 0 1 7 6.75ZM7.75 3h.5a.75.75 0 0 1 0 1.5h-.5a.75.75 0 0 1 0-1.5ZM3 9.75A.75.75 0 0 1 3.75 9h.5a.75.75 0 0 1 0 1.5h-.5A.75.75 0 0 1 3 9.75ZM7.75 9h.5a.75.75 0 0 1 0 1.5h-.5a.75.75 0 0 1 0-1.5Z"></path>
</svg>
</template>

<template id="rocket-icon">
  <svg aria-hidden="true" height="16" viewBox="0 0 16 16" version="1.1" width="16" data-view-component="true" class="octicon octicon-rocket">
    <path d="M14.064 0h.186C15.216 0 16 .784 16 1.75v.186a8.752 8.752 0 0 1-2.564 6.186l-.458.459c-.314.314-.641.616-.979.904v3.207c0 .608-.315 1.172-.833 1.49l-2.774 1.707a.749.749 0 0 1-1.11-.418l-.954-3.102a1.214 1.214 0 0 1-.145-.125L3.754 9.816a1.218 1.218 0 0 1-.124-.145L.528 8.717a.749.749 0 0 1-.418-1.11l1.71-2.774A1.748 1.748 0 0 1 3.31 4h3.204c.288-.338.59-.665.904-.979l.459-.458A8.749 8.749 0 0 1 14.064 0ZM8.938 3.623h-.002l-.458.458c-.76.76-1.437 1.598-2.02 2.5l-1.5 2.317 2.143 2.143 2.317-1.5c.902-.583 1.74-1.26 2.499-2.02l.459-.458a7.25 7.25 0 0 0 2.123-5.127V1.75a.25.25 0 0 0-.25-.25h-.186a7.249 7.249 0 0 0-5.125 2.123ZM3.56 14.56c-.732.732-2.334 1.045-3.005 1.148a.234.234 0 0 1-.201-.064.234.234 0 0 1-.064-.201c.103-.671.416-2.273 1.15-3.003a1.502 1.502 0 1 1 2.12 2.12Zm6.94-3.935c-.088.06-.177.118-.266.175l-2.35 1.521.548 1.783 1.949-1.2a.25.25 0 0 0 .119-.213ZM3.678 8.116 5.2 5.766c.058-.09.117-.178.176-.266H3.309a.25.25 0 0 0-.213.119l-1.2 1.95ZM12 5a1 1 0 1 1-2 0 1 1 0 0 1 2 0Z"></path>
</svg>
</template>

<template id="shield-check-icon">
  <svg aria-hidden="true" height="16" viewBox="0 0 16 16" version="1.1" width="16" data-view-component="true" class="octicon octicon-shield-check">
    <path d="m8.533.133 5.25 1.68A1.75 1.75 0 0 1 15 3.48V7c0 1.566-.32 3.182-1.303 4.682-.983 1.498-2.585 2.813-5.032 3.855a1.697 1.697 0 0 1-1.33 0c-2.447-1.042-4.049-2.357-5.032-3.855C1.32 10.182 1 8.566 1 7V3.48a1.75 1.75 0 0 1 1.217-1.667l5.25-1.68a1.748 1.748 0 0 1 1.066 0Zm-.61 1.429.001.001-5.25 1.68a.251.251 0 0 0-.174.237V7c0 1.36.275 2.666 1.057 3.859.784 1.194 2.121 2.342 4.366 3.298a.196.196 0 0 0 .154 0c2.245-.957 3.582-2.103 4.366-3.297C13.225 9.666 13.5 8.358 13.5 7V3.48a.25.25 0 0 0-.174-.238l-5.25-1.68a.25.25 0 0 0-.153 0ZM11.28 6.28l-3.5 3.5a.75.75 0 0 1-1.06 0l-1.5-1.5a.749.749 0 0 1 .326-1.275.749.749 0 0 1 .734.215l.97.97 2.97-2.97a.751.751 0 0 1 1.042.018.751.751 0 0 1 .018 1.042Z"></path>
</svg>
</template>

<template id="heart-icon">
  <svg aria-hidden="true" height="16" viewBox="0 0 16 16" version="1.1" width="16" data-view-component="true" class="octicon octicon-heart">
    <path d="m8 14.25.345.666a.75.75 0 0 1-.69 0l-.008-.004-.018-.01a7.152 7.152 0 0 1-.31-.17 22.055 22.055 0 0 1-3.434-2.414C2.045 10.731 0 8.35 0 5.5 0 2.836 2.086 1 4.25 1 5.797 1 7.153 1.802 8 3.02 8.847 1.802 10.203 1 11.75 1 13.914 1 16 2.836 16 5.5c0 2.85-2.045 5.231-3.885 6.818a22.066 22.066 0 0 1-3.744 2.584l-.018.01-.006.003h-.002ZM4.25 2.5c-1.336 0-2.75 1.164-2.75 3 0 2.15 1.58 4.144 3.365 5.682A20.58 20.58 0 0 0 8 13.393a20.58 20.58 0 0 0 3.135-2.211C12.92 9.644 14.5 7.65 14.5 5.5c0-1.836-1.414-3-2.75-3-1.373 0-2.609.986-3.029 2.456a.749.749 0 0 1-1.442 0C6.859 3.486 5.623 2.5 4.25 2.5Z"></path>
</svg>
</template>

<template id="server-icon">
  <svg aria-hidden="true" height="16" viewBox="0 0 16 16" version="1.1" width="16" data-view-component="true" class="octicon octicon-server">
    <path d="M1.75 1h12.5c.966 0 1.75.784 1.75 1.75v4c0 .372-.116.717-.314 1 .198.283.314.628.314 1v4a1.75 1.75 0 0 1-1.75 1.75H1.75A1.75 1.75 0 0 1 0 12.75v-4c0-.358.109-.707.314-1a1.739 1.739 0 0 1-.314-1v-4C0 1.784.784 1 1.75 1ZM1.5 2.75v4c0 .138.112.25.25.25h12.5a.25.25 0 0 0 .25-.25v-4a.25.25 0 0 0-.25-.25H1.75a.25.25 0 0 0-.25.25Zm.25 5.75a.25.25 0 0 0-.25.25v4c0 .138.112.25.25.25h12.5a.25.25 0 0 0 .25-.25v-4a.25.25 0 0 0-.25-.25ZM7 4.75A.75.75 0 0 1 7.75 4h4.5a.75.75 0 0 1 0 1.5h-4.5A.75.75 0 0 1 7 4.75ZM7.75 10h4.5a.75.75 0 0 1 0 1.5h-4.5a.75.75 0 0 1 0-1.5ZM3 4.75A.75.75 0 0 1 3.75 4h.5a.75.75 0 0 1 0 1.5h-.5A.75.75 0 0 1 3 4.75ZM3.75 10h.5a.75.75 0 0 1 0 1.5h-.5a.75.75 0 0 1 0-1.5Z"></path>
</svg>
</template>

<template id="globe-icon">
  <svg aria-hidden="true" height="16" viewBox="0 0 16 16" version="1.1" width="16" data-view-component="true" class="octicon octicon-globe">
    <path d="M8 0a8 8 0 1 1 0 16A8 8 0 0 1 8 0ZM5.78 8.75a9.64 9.64 0 0 0 1.363 4.177c.255.426.542.832.857 1.215.245-.296.551-.705.857-1.215A9.64 9.64 0 0 0 10.22 8.75Zm4.44-1.5a9.64 9.64 0 0 0-1.363-4.177c-.307-.51-.612-.919-.857-1.215a9.927 9.927 0 0 0-.857 1.215A9.64 9.64 0 0 0 5.78 7.25Zm-5.944 1.5H1.543a6.507 6.507 0 0 0 4.666 5.5c-.123-.181-.24-.365-.352-.552-.715-1.192-1.437-2.874-1.581-4.948Zm-2.733-1.5h2.733c.144-2.074.866-3.756 1.58-4.948.12-.197.237-.381.353-.552a6.507 6.507 0 0 0-4.666 5.5Zm10.181 1.5c-.144 2.074-.866 3.756-1.58 4.948-.12.197-.237.381-.353.552a6.507 6.507 0 0 0 4.666-5.5Zm2.733-1.5a6.507 6.507 0 0 0-4.666-5.5c.123.181.24.365.353.552.714 1.192 1.436 2.874 1.58 4.948Z"></path>
</svg>
</template>

<template id="issue-opened-icon">
  <svg aria-hidden="true" height="16" viewBox="0 0 16 16" version="1.1" width="16" data-view-component="true" class="octicon octicon-issue-opened">
    <path d="M8 9.5a1.5 1.5 0 1 0 0-3 1.5 1.5 0 0 0 0 3Z"></path><path d="M8 0a8 8 0 1 1 0 16A8 8 0 0 1 8 0ZM1.5 8a6.5 6.5 0 1 0 13 0 6.5 6.5 0 0 0-13 0Z"></path>
</svg>
</template>

<template id="device-mobile-icon">
  <svg aria-hidden="true" height="16" viewBox="0 0 16 16" version="1.1" width="16" data-view-component="true" class="octicon octicon-device-mobile">
    <path d="M3.75 0h8.5C13.216 0 14 .784 14 1.75v12.5A1.75 1.75 0 0 1 12.25 16h-8.5A1.75 1.75 0 0 1 2 14.25V1.75C2 .784 2.784 0 3.75 0ZM3.5 1.75v12.5c0 .138.112.25.25.25h8.5a.25.25 0 0 0 .25-.25V1.75a.25.25 0 0 0-.25-.25h-8.5a.25.25 0 0 0-.25.25ZM8 13a1 1 0 1 1 0-2 1 1 0 0 1 0 2Z"></path>
</svg>
</template>

<template id="package-icon">
  <svg aria-hidden="true" height="16" viewBox="0 0 16 16" version="1.1" width="16" data-view-component="true" class="octicon octicon-package">
    <path d="m8.878.392 5.25 3.045c.54.314.872.89.872 1.514v6.098a1.75 1.75 0 0 1-.872 1.514l-5.25 3.045a1.75 1.75 0 0 1-1.756 0l-5.25-3.045A1.75 1.75 0 0 1 1 11.049V4.951c0-.624.332-1.201.872-1.514L7.122.392a1.75 1.75 0 0 1 1.756 0ZM7.875 1.69l-4.63 2.685L8 7.133l4.755-2.758-4.63-2.685a.248.248 0 0 0-.25 0ZM2.5 5.677v5.372c0 .09.047.171.125.216l4.625 2.683V8.432Zm6.25 8.271 4.625-2.683a.25.25 0 0 0 .125-.216V5.677L8.75 8.432Z"></path>
</svg>
</template>

<template id="credit-card-icon">
  <svg aria-hidden="true" height="16" viewBox="0 0 16 16" version="1.1" width="16" data-view-component="true" class="octicon octicon-credit-card">
    <path d="M10.75 9a.75.75 0 0 0 0 1.5h1.5a.75.75 0 0 0 0-1.5h-1.5Z"></path><path d="M0 3.75C0 2.784.784 2 1.75 2h12.5c.966 0 1.75.784 1.75 1.75v8.5A1.75 1.75 0 0 1 14.25 14H1.75A1.75 1.75 0 0 1 0 12.25ZM14.5 6.5h-13v5.75c0 .138.112.25.25.25h12.5a.25.25 0 0 0 .25-.25Zm0-2.75a.25.25 0 0 0-.25-.25H1.75a.25.25 0 0 0-.25.25V5h13Z"></path>
</svg>
</template>

<template id="play-icon">
  <svg aria-hidden="true" height="16" viewBox="0 0 16 16" version="1.1" width="16" data-view-component="true" class="octicon octicon-play">
    <path d="M8 0a8 8 0 1 1 0 16A8 8 0 0 1 8 0ZM1.5 8a6.5 6.5 0 1 0 13 0 6.5 6.5 0 0 0-13 0Zm4.879-2.773 4.264 2.559a.25.25 0 0 1 0 .428l-4.264 2.559A.25.25 0 0 1 6 10.559V5.442a.25.25 0 0 1 .379-.215Z"></path>
</svg>
</template>

<template id="gift-icon">
  <svg aria-hidden="true" height="16" viewBox="0 0 16 16" version="1.1" width="16" data-view-component="true" class="octicon octicon-gift">
    <path d="M2 2.75A2.75 2.75 0 0 1 4.75 0c.983 0 1.873.42 2.57 1.232.268.318.497.668.68 1.042.183-.375.411-.725.68-1.044C9.376.42 10.266 0 11.25 0a2.75 2.75 0 0 1 2.45 4h.55c.966 0 1.75.784 1.75 1.75v2c0 .698-.409 1.301-1 1.582v4.918A1.75 1.75 0 0 1 13.25 16H2.75A1.75 1.75 0 0 1 1 14.25V9.332C.409 9.05 0 8.448 0 7.75v-2C0 4.784.784 4 1.75 4h.55c-.192-.375-.3-.8-.3-1.25ZM7.25 9.5H2.5v4.75c0 .138.112.25.25.25h4.5Zm1.5 0v5h4.5a.25.25 0 0 0 .25-.25V9.5Zm0-4V8h5.5a.25.25 0 0 0 .25-.25v-2a.25.25 0 0 0-.25-.25Zm-7 0a.25.25 0 0 0-.25.25v2c0 .138.112.25.25.25h5.5V5.5h-5.5Zm3-4a1.25 1.25 0 0 0 0 2.5h2.309c-.233-.818-.542-1.401-.878-1.793-.43-.502-.915-.707-1.431-.707ZM8.941 4h2.309a1.25 1.25 0 0 0 0-2.5c-.516 0-1 .205-1.43.707-.337.392-.646.975-.879 1.793Z"></path>
</svg>
</template>

<template id="code-square-icon">
  <svg aria-hidden="true" height="16" viewBox="0 0 16 16" version="1.1" width="16" data-view-component="true" class="octicon octicon-code-square">
    <path d="M0 1.75C0 .784.784 0 1.75 0h12.5C15.216 0 16 .784 16 1.75v12.5A1.75 1.75 0 0 1 14.25 16H1.75A1.75 1.75 0 0 1 0 14.25Zm1.75-.25a.25.25 0 0 0-.25.25v12.5c0 .138.112.25.25.25h12.5a.25.25 0 0 0 .25-.25V1.75a.25.25 0 0 0-.25-.25Zm7.47 3.97a.75.75 0 0 1 1.06 0l2 2a.75.75 0 0 1 0 1.06l-2 2a.749.749 0 0 1-1.275-.326.749.749 0 0 1 .215-.734L10.69 8 9.22 6.53a.75.75 0 0 1 0-1.06ZM6.78 6.53 5.31 8l1.47 1.47a.749.749 0 0 1-.326 1.275.749.749 0 0 1-.734-.215l-2-2a.75.75 0 0 1 0-1.06l2-2a.751.751 0 0 1 1.042.018.751.751 0 0 1 .018 1.042Z"></path>
</svg>
</template>

<template id="device-desktop-icon">
  <svg aria-hidden="true" height="16" viewBox="0 0 16 16" version="1.1" width="16" data-view-component="true" class="octicon octicon-device-desktop">
    <path d="M14.25 1c.966 0 1.75.784 1.75 1.75v7.5A1.75 1.75 0 0 1 14.25 12h-3.727c.099 1.041.52 1.872 1.292 2.757A.752.752 0 0 1 11.25 16h-6.5a.75.75 0 0 1-.565-1.243c.772-.885 1.192-1.716 1.292-2.757H1.75A1.75 1.75 0 0 1 0 10.25v-7.5C0 1.784.784 1 1.75 1ZM1.75 2.5a.25.25 0 0 0-.25.25v7.5c0 .138.112.25.25.25h12.5a.25.25 0 0 0 .25-.25v-7.5a.25.25 0 0 0-.25-.25ZM9.018 12H6.982a5.72 5.72 0 0 1-.765 2.5h3.566a5.72 5.72 0 0 1-.765-2.5Z"></path>
</svg>
</template>

        <div class="position-relative">
                <ul
                  role="listbox"
                  class="ActionListWrap QueryBuilder-ListWrap"
                  aria-label="Suggestions"
                  data-action="
                    combobox-commit:query-builder#comboboxCommit
                    mousedown:query-builder#resultsMousedown
                  "
                  data-target="query-builder.resultsList"
                  data-persist-list=false
                  id="query-builder-test-results"
                  tabindex="-1"
                ></ul>
        </div>
      <div class="FormControl-inlineValidation" id="validation-a2beb4b1-27ce-459c-a650-6870e2740150" hidden="hidden">
        <span class="FormControl-inlineValidation--visual">
          <svg aria-hidden="true" height="12" viewBox="0 0 12 12" version="1.1" width="12" data-view-component="true" class="octicon octicon-alert-fill">
    <path d="M4.855.708c.5-.896 1.79-.896 2.29 0l4.675 8.351a1.312 1.312 0 0 1-1.146 1.954H1.33A1.313 1.313 0 0 1 .183 9.058ZM7 7V3H5v4Zm-1 3a1 1 0 1 0 0-2 1 1 0 0 0 0 2Z"></path>
</svg>
        </span>
        <span></span>
</div>    </div>
    <div data-target="query-builder.screenReaderFeedback" aria-live="polite" aria-atomic="true" class="sr-only"></div>
</query-builder></form>
          <div class="d-flex flex-row color-fg-muted px-3 text-small color-bg-default search-feedback-prompt">
            <a target="_blank" href="https://docs.github.com/search-github/github-code-search/understanding-github-code-search-syntax" data-view-component="true" class="Link color-fg-accent text-normal ml-2">Search syntax tips</a>            <div class="d-flex flex-1"></div>
              <button data-action="click:qbsearch-input#showFeedbackDialog" type="button" data-view-component="true" class="Button--link Button--medium Button color-fg-accent text-normal ml-2">  <span class="Button-content">
    <span class="Button-label">Give feedback</span>
  </span>
</button>
          </div>
        </div>
</div>

    </div>
</modal-dialog></div>
  </div>
  <div data-action="click:qbsearch-input#retract" class="dark-backdrop position-fixed" hidden data-target="qbsearch-input.darkBackdrop"></div>
  <div class="color-fg-default">
    
<dialog-helper>
  <dialog data-target="qbsearch-input.feedbackDialog" data-action="close:qbsearch-input#handleDialogClose cancel:qbsearch-input#handleDialogClose" id="feedback-dialog" aria-modal="true" aria-labelledby="feedback-dialog-title" aria-describedby="feedback-dialog-description" data-view-component="true" class="Overlay Overlay-whenNarrow Overlay--size-medium Overlay--motion-scaleFade Overlay--disableScroll">
    <div data-view-component="true" class="Overlay-header">
  <div class="Overlay-headerContentWrap">
    <div class="Overlay-titleWrap">
      <h1 class="Overlay-title " id="feedback-dialog-title">
        Provide feedback
      </h1>
        
    </div>
    <div class="Overlay-actionWrap">
      <button data-close-dialog-id="feedback-dialog" aria-label="Close" aria-label="Close" type="button" data-view-component="true" class="close-button Overlay-closeButton"><svg aria-hidden="true" height="16" viewBox="0 0 16 16" version="1.1" width="16" data-view-component="true" class="octicon octicon-x">
    <path d="M3.72 3.72a.75.75 0 0 1 1.06 0L8 6.94l3.22-3.22a.749.749 0 0 1 1.275.326.749.749 0 0 1-.215.734L9.06 8l3.22 3.22a.749.749 0 0 1-.326 1.275.749.749 0 0 1-.734-.215L8 9.06l-3.22 3.22a.751.751 0 0 1-1.042-.018.751.751 0 0 1-.018-1.042L6.94 8 3.72 4.78a.75.75 0 0 1 0-1.06Z"></path>
</svg></button>
    </div>
  </div>
  
</div>
      <scrollable-region data-labelled-by="feedback-dialog-title">
        <div data-view-component="true" class="Overlay-body">        <!-- '"` --><!-- </textarea></xmp> --></option></form><form id="code-search-feedback-form" data-turbo="false" action="/search/feedback" accept-charset="UTF-8" method="post"><input type="hidden" name="authenticity_token" value="agcmeVSPqc8Pql-W8KXlr28qr66mXsdWE1TcLeWjoEUY7JX50czjfoxh9oxSucwoCmSaZ9iZqU75d0EHOVp1RA" />
          <p>We read every piece of feedback, and take your input very seriously.</p>
          <textarea name="feedback" class="form-control width-full mb-2" style="height: 120px" id="feedback"></textarea>
          <input name="include_email" id="include_email" aria-label="Include my email address so I can be contacted" class="form-control mr-2" type="checkbox">
          <label for="include_email" style="font-weight: normal">Include my email address so I can be contacted</label>
</form></div>
      </scrollable-region>
      <div data-view-component="true" class="Overlay-footer Overlay-footer--alignEnd">          <button data-close-dialog-id="feedback-dialog" type="button" data-view-component="true" class="btn">    Cancel
</button>
          <button form="code-search-feedback-form" data-action="click:qbsearch-input#submitFeedback" type="submit" data-view-component="true" class="btn-primary btn">    Submit feedback
</button>
</div>
</dialog></dialog-helper>

    <custom-scopes data-target="qbsearch-input.customScopesManager">
    
<dialog-helper>
  <dialog data-target="custom-scopes.customScopesModalDialog" data-action="close:qbsearch-input#handleDialogClose cancel:qbsearch-input#handleDialogClose" id="custom-scopes-dialog" aria-modal="true" aria-labelledby="custom-scopes-dialog-title" aria-describedby="custom-scopes-dialog-description" data-view-component="true" class="Overlay Overlay-whenNarrow Overlay--size-medium Overlay--motion-scaleFade Overlay--disableScroll">
    <div data-view-component="true" class="Overlay-header Overlay-header--divided">
  <div class="Overlay-headerContentWrap">
    <div class="Overlay-titleWrap">
      <h1 class="Overlay-title " id="custom-scopes-dialog-title">
        Saved searches
      </h1>
        <h2 id="custom-scopes-dialog-description" class="Overlay-description">Use saved searches to filter your results more quickly</h2>
    </div>
    <div class="Overlay-actionWrap">
      <button data-close-dialog-id="custom-scopes-dialog" aria-label="Close" aria-label="Close" type="button" data-view-component="true" class="close-button Overlay-closeButton"><svg aria-hidden="true" height="16" viewBox="0 0 16 16" version="1.1" width="16" data-view-component="true" class="octicon octicon-x">
    <path d="M3.72 3.72a.75.75 0 0 1 1.06 0L8 6.94l3.22-3.22a.749.749 0 0 1 1.275.326.749.749 0 0 1-.215.734L9.06 8l3.22 3.22a.749.749 0 0 1-.326 1.275.749.749 0 0 1-.734-.215L8 9.06l-3.22 3.22a.751.751 0 0 1-1.042-.018.751.751 0 0 1-.018-1.042L6.94 8 3.72 4.78a.75.75 0 0 1 0-1.06Z"></path>
</svg></button>
    </div>
  </div>
  
</div>
      <scrollable-region data-labelled-by="custom-scopes-dialog-title">
        <div data-view-component="true" class="Overlay-body">        <div data-target="custom-scopes.customScopesModalDialogFlash"></div>

        <div hidden class="create-custom-scope-form" data-target="custom-scopes.createCustomScopeForm">
        <!-- '"` --><!-- </textarea></xmp> --></option></form><form id="custom-scopes-dialog-form" data-turbo="false" action="/search/custom_scopes" accept-charset="UTF-8" method="post"><input type="hidden" name="authenticity_token" value="dxoEOmGWU4BBzQB0xNsONRSwtvHONqI8UAbSABGHYaDWG9UGCg7T2virJSOdM2mEcdYkj9b-8FOeBPpaZzRf7A" />
          <div data-target="custom-scopes.customScopesModalDialogFlash"></div>

          <input type="hidden" id="custom_scope_id" name="custom_scope_id" data-target="custom-scopes.customScopesIdField">

          <div class="form-group">
            <label for="custom_scope_name">Name</label>
            <auto-check src="/search/custom_scopes/check_name" required>
              <input
                type="text"
                name="custom_scope_name"
                id="custom_scope_name"
                data-target="custom-scopes.customScopesNameField"
                class="form-control"
                autocomplete="off"
                placeholder="github-ruby"
                required
                maxlength="50">
              <input type="hidden" value="zsypEZrZkEGUFy9XVmpVqqg4sHtxsg5We01RNi_TkgW0IVC7Y-PyffLr6CPOCFQz3hR3YgP0GA0N3pFypMOtYA" data-csrf="true" />
            </auto-check>
          </div>

          <div class="form-group">
            <label for="custom_scope_query">Query</label>
            <input
              type="text"
              name="custom_scope_query"
              id="custom_scope_query"
              data-target="custom-scopes.customScopesQueryField"
              class="form-control"
              autocomplete="off"
              placeholder="(repo:mona/a OR repo:mona/b) AND lang:python"
              required
              maxlength="500">
          </div>

          <p class="text-small color-fg-muted">
            To see all available qualifiers, see our <a class="Link--inTextBlock" href="https://docs.github.com/search-github/github-code-search/understanding-github-code-search-syntax">documentation</a>.
          </p>
</form>        </div>

        <div data-target="custom-scopes.manageCustomScopesForm">
          <div data-target="custom-scopes.list"></div>
        </div>

</div>
      </scrollable-region>
      <div data-view-component="true" class="Overlay-footer Overlay-footer--alignEnd Overlay-footer--divided">          <button data-action="click:custom-scopes#customScopesCancel" type="button" data-view-component="true" class="btn">    Cancel
</button>
          <button form="custom-scopes-dialog-form" data-action="click:custom-scopes#customScopesSubmit" data-target="custom-scopes.customScopesSubmitButton" type="submit" data-view-component="true" class="btn-primary btn">    Create saved search
</button>
</div>
</dialog></dialog-helper>
    </custom-scopes>
  </div>
</qbsearch-input>  <input type="hidden" value="eBi0AWaV-CBrf3EWHFsTpVT4YFGFYx6OZE22IxZPh_1o8GrXixYvbIXmEuR2aBkbgqggY6YmS1A1FTp2S-PtwA" data-csrf="true" class="js-data-jump-to-suggestions-path-csrf" />


          </div>

        
          <div class="AppHeader-CopilotChat hide-sm hide-md">
  <react-partial-anchor>
      <a href="/copilot" data-target="react-partial-anchor.anchor" id="copilot-chat-header-button" aria-labelledby="tooltip-b595fdf2-6aa4-4c08-a1ad-ad5d9ff3bac9" data-view-component="true" class="Button Button--iconOnly Button--secondary Button--medium AppHeader-button AppHeader-buttonLeft cursor-wait">  <svg aria-hidden="true" height="16" viewBox="0 0 16 16" version="1.1" width="16" data-view-component="true" class="octicon octicon-copilot Button-visual">
    <path d="M7.998 15.035c-4.562 0-7.873-2.914-7.998-3.749V9.338c.085-.628.677-1.686 1.588-2.065.013-.07.024-.143.036-.218.029-.183.06-.384.126-.612-.201-.508-.254-1.084-.254-1.656 0-.87.128-1.769.693-2.484.579-.733 1.494-1.124 2.724-1.261 1.206-.134 2.262.034 2.944.765.05.053.096.108.139.165.044-.057.094-.112.143-.165.682-.731 1.738-.899 2.944-.765 1.23.137 2.145.528 2.724 1.261.566.715.693 1.614.693 2.484 0 .572-.053 1.148-.254 1.656.066.228.098.429.126.612.012.076.024.148.037.218.924.385 1.522 1.471 1.591 2.095v1.872c0 .766-3.351 3.795-8.002 3.795Zm0-1.485c2.28 0 4.584-1.11 5.002-1.433V7.862l-.023-.116c-.49.21-1.075.291-1.727.291-1.146 0-2.059-.327-2.71-.991A3.222 3.222 0 0 1 8 6.303a3.24 3.24 0 0 1-.544.743c-.65.664-1.563.991-2.71.991-.652 0-1.236-.081-1.727-.291l-.023.116v4.255c.419.323 2.722 1.433 5.002 1.433ZM6.762 2.83c-.193-.206-.637-.413-1.682-.297-1.019.113-1.479.404-1.713.7-.247.312-.369.789-.369 1.554 0 .793.129 1.171.308 1.371.162.181.519.379 1.442.379.853 0 1.339-.235 1.638-.54.315-.322.527-.827.617-1.553.117-.935-.037-1.395-.241-1.614Zm4.155-.297c-1.044-.116-1.488.091-1.681.297-.204.219-.359.679-.242 1.614.091.726.303 1.231.618 1.553.299.305.784.54 1.638.54.922 0 1.28-.198 1.442-.379.179-.2.308-.578.308-1.371 0-.765-.123-1.242-.37-1.554-.233-.296-.693-.587-1.713-.7Z"></path><path d="M6.25 9.037a.75.75 0 0 1 .75.75v1.501a.75.75 0 0 1-1.5 0V9.787a.75.75 0 0 1 .75-.75Zm4.25.75v1.501a.75.75 0 0 1-1.5 0V9.787a.75.75 0 0 1 1.5 0Z"></path>
</svg>
</a><tool-tip id="tooltip-b595fdf2-6aa4-4c08-a1ad-ad5d9ff3bac9" for="copilot-chat-header-button" popover="manual" data-direction="s" data-type="label" data-view-component="true" class="sr-only position-absolute">Chat with Copilot</tool-tip>

    <template data-target="react-partial-anchor.template">
      <script crossorigin="anonymous" type="application/javascript" src="https://github.githubassets.com/assets/vendors-node_modules_tanstack_query-core_build_modern_queryObserver_js-node_modules_tanstack_-defd52-0024bc0658ed.js" defer="defer"></script>
<script crossorigin="anonymous" type="application/javascript" src="https://github.githubassets.com/assets/vendors-node_modules_react-relay_index_js-cce72ae26cdb.js" defer="defer"></script>
<script crossorigin="anonymous" type="application/javascript" src="https://github.githubassets.com/assets/vendors-node_modules_remark-gfm_lib_index_js-node_modules_remark-parse_lib_index_js-node_modu-44d0fc-a919845a804c.js" defer="defer"></script>
<script crossorigin="anonymous" type="application/javascript" src="https://github.githubassets.com/assets/vendors-node_modules_hastscript_lib_index_js-node_modules_lowlight_lib_all_js-node_modules_re-713cc1-b7c90cd7720d.js" defer="defer"></script>
<script crossorigin="anonymous" type="application/javascript" src="https://github.githubassets.com/assets/vendors-node_modules_diff_lib_index_mjs-3d31f78b8478.js" defer="defer"></script>
<script crossorigin="anonymous" type="application/javascript" src="https://github.githubassets.com/assets/vendors-node_modules_github_mini-throttle_dist_decorators_js-node_modules_accname_dist_access-ce77c7-4daf69fcf5e0.js" defer="defer"></script>
<script crossorigin="anonymous" type="application/javascript" src="https://github.githubassets.com/assets/vendors-node_modules_github_hotkey_dist_index_js-node_modules_tanstack_react-query_build_mode-b4cf9a-f91a30f5eeba.js" defer="defer"></script>
<script crossorigin="anonymous" type="application/javascript" src="https://github.githubassets.com/assets/ui_packages_relay-environment_relay-environment_ts-44d4cb174711.js" defer="defer"></script>
<script crossorigin="anonymous" type="application/javascript" src="https://github.githubassets.com/assets/ui_packages_copilot-chat_utils_copilot-chat-helpers_ts-e9d630919f0d.js" defer="defer"></script>
<script crossorigin="anonymous" type="application/javascript" src="https://github.githubassets.com/assets/ui_packages_item-picker_components_RepositoryPicker_tsx-ui_packages_safe-html_VerifiedHTML_tsx-457d4328964e.js" defer="defer"></script>
<script crossorigin="anonymous" type="application/javascript" src="https://github.githubassets.com/assets/ui_packages_verified-fetch_verified-fetch_ts-ui_packages_copilot-markdown_MarkdownRenderer_tsx-825c068b94c9.js" defer="defer"></script>
<script crossorigin="anonymous" type="application/javascript" src="https://github.githubassets.com/assets/ui_packages_copilot-chat_utils_CopilotChatContext_tsx-55d20e7b9df0.js" defer="defer"></script>
<script crossorigin="anonymous" type="application/javascript" src="https://github.githubassets.com/assets/ui_packages_copilot-chat_components_CopilotIconAnimation_tsx-ui_packages_copilot-chat_compone-8be2e4-830e298fac8f.js" defer="defer"></script>
<script crossorigin="anonymous" type="application/javascript" src="https://github.githubassets.com/assets/ui_packages_copilot-chat_hooks_use-chat-message-behavior_ts-ui_packages_copilot-chat_hooks_us-ac6581-24d475516295.js" defer="defer"></script>
<script crossorigin="anonymous" type="application/javascript" src="https://github.githubassets.com/assets/copilot-chat-cde731813318.js" defer="defer"></script>
<link crossorigin="anonymous" media="all" rel="stylesheet" href="https://github.githubassets.com/assets/primer-react.47f1598729334a521d2a.module.css" />
<link crossorigin="anonymous" media="all" rel="stylesheet" href="https://github.githubassets.com/assets/ui_packages_copilot-chat_hooks_use-chat-message-behavior_ts-ui_packages_copilot-chat_hooks_us-ac6581.392f837e631053b641f6.module.css" />
<link crossorigin="anonymous" media="all" rel="stylesheet" href="https://github.githubassets.com/assets/copilot-chat.6ae9ba57f0d371044f7d.module.css" />
      <link crossorigin="anonymous" media="all" rel="stylesheet" href="https://github.githubassets.com/assets/copilot-markdown-rendering-ddd978d4a7c0.css" />
      <include-fragment src="/github-copilot/chat?skip_anchor=true" data-nonce="v2:1d9dc46d-5136-2450-d1b8-bf32da9f285c" data-view-component="true">
  
  <div data-show-on-forbidden-error hidden>
    <div class="Box">
  <div class="blankslate-container">
    <div data-view-component="true" class="blankslate blankslate-spacious color-bg-default rounded-2">
      

      <h3 data-view-component="true" class="blankslate-heading">        Uh oh!
</h3>
      <p data-view-component="true">        <p class="color-fg-muted my-2 mb-2 ws-normal">There was an error while loading. <a class="Link--inTextBlock" data-turbo="false" href="" aria-label="Please reload this page">Please reload this page</a>.</p>
</p>

</div>  </div>
</div>  </div>
</include-fragment>
    </template>
  </react-partial-anchor>
  <react-partial-anchor>
    <button id="global-copilot-menu-button" data-target="react-partial-anchor.anchor" aria-expanded="false" aria-labelledby="tooltip-5be18554-41fe-4b95-bc57-52b6618ca845" type="button" data-view-component="true" class="Button Button--iconOnly Button--secondary Button--medium AppHeader-button AppHeader-buttonRight">  <svg aria-hidden="true" height="16" viewBox="0 0 16 16" version="1.1" width="16" data-view-component="true" class="octicon octicon-triangle-down Button-visual">
    <path d="m4.427 7.427 3.396 3.396a.25.25 0 0 0 .354 0l3.396-3.396A.25.25 0 0 0 11.396 7H4.604a.25.25 0 0 0-.177.427Z"></path>
</svg>
</button><tool-tip id="tooltip-5be18554-41fe-4b95-bc57-52b6618ca845" for="global-copilot-menu-button" popover="manual" data-direction="s" data-type="label" data-view-component="true" class="sr-only position-absolute">Open Copilot…</tool-tip>

    <template data-target="react-partial-anchor.template">
      <script crossorigin="anonymous" type="application/javascript" src="https://github.githubassets.com/assets/vendors-node_modules_date-fns_format_mjs-a93a5b85c8ea.js" defer="defer"></script>
<script crossorigin="anonymous" type="application/javascript" src="https://github.githubassets.com/assets/vendors-node_modules_date-fns_addWeeks_mjs-node_modules_date-fns_addYears_mjs-node_modules_da-827f4f-87575d6383fe.js" defer="defer"></script>
<script crossorigin="anonymous" type="application/javascript" src="https://github.githubassets.com/assets/vendors-node_modules_focus-visible_dist_focus-visible_js-node_modules_github_hotkey_dist_inde-70f9af-30df9bed9390.js" defer="defer"></script>
<script crossorigin="anonymous" type="application/javascript" src="https://github.githubassets.com/assets/vendors-node_modules_dnd-kit_modifiers_dist_modifiers_esm_js-node_modules_dnd-kit_sortable_di-72228e-b01c014f1995.js" defer="defer"></script>
<script crossorigin="anonymous" type="application/javascript" src="https://github.githubassets.com/assets/ui_packages_date-picker_components_DatePicker_tsx-99a2135088d3.js" defer="defer"></script>
<script crossorigin="anonymous" type="application/javascript" src="https://github.githubassets.com/assets/ui_packages_drag-and-drop_drag-and-drop_ts-ui_packages_hydro-analytics_hydro-analytics_ts-084ef0746453.js" defer="defer"></script>
<script crossorigin="anonymous" type="application/javascript" src="https://github.githubassets.com/assets/ui_packages_list-view_src_hooks_use-next-header-tag_ts-ui_packages_list-view_src_ListItem_Lis-0a5d95-17009f8f0b87.js" defer="defer"></script>
<script crossorigin="anonymous" type="application/javascript" src="https://github.githubassets.com/assets/ui_packages_document-metadata_document-metadata_ts-ui_packages_mergebox_index_ts-ui_packages_-4f286e-2155a56c5cb7.js" defer="defer"></script>
<script crossorigin="anonymous" type="application/javascript" src="https://github.githubassets.com/assets/ui_packages_alive_alive_ts-ui_packages_alive_connect-alive-subscription_ts-ui_packages_global-896b52-6224f63beff3.js" defer="defer"></script>
<script crossorigin="anonymous" type="application/javascript" src="https://github.githubassets.com/assets/global-copilot-menu-898557719162.js" defer="defer"></script>
<link crossorigin="anonymous" media="all" rel="stylesheet" href="https://github.githubassets.com/assets/primer-react.47f1598729334a521d2a.module.css" />
<link crossorigin="anonymous" media="all" rel="stylesheet" href="https://github.githubassets.com/assets/ui_packages_document-metadata_document-metadata_ts-ui_packages_mergebox_index_ts-ui_packages_-4f286e.6e84a78ac94b23a7e026.module.css" />
<link crossorigin="anonymous" media="all" rel="stylesheet" href="https://github.githubassets.com/assets/global-copilot-menu.883439cd55b58dd50e2e.module.css" />

<react-partial
  partial-name="global-copilot-menu"
  data-ssr="false"
  data-attempted-ssr="false"
  data-react-profiling="false"
>
  
  <script type="application/json" data-target="react-partial.embeddedData">{"props":{}}</script>
  <div data-target="react-partial.reactRoot"></div>
</react-partial>

    </template>
  </react-partial-anchor>
</div>


        <div class="AppHeader-actions position-relative">
             <react-partial-anchor>
      <button id="global-create-menu-anchor" aria-label="Create something new" data-target="react-partial-anchor.anchor" type="button" disabled="disabled" data-view-component="true" class="AppHeader-button global-create-button cursor-wait Button--secondary Button--medium Button width-auto color-fg-muted">  <span class="Button-content">
      <span class="Button-visual Button-leadingVisual">
        <svg aria-hidden="true" height="16" viewBox="0 0 16 16" version="1.1" width="16" data-view-component="true" class="octicon octicon-plus">
    <path d="M7.75 2a.75.75 0 0 1 .75.75V7h4.25a.75.75 0 0 1 0 1.5H8.5v4.25a.75.75 0 0 1-1.5 0V8.5H2.75a.75.75 0 0 1 0-1.5H7V2.75A.75.75 0 0 1 7.75 2Z"></path>
</svg>
      </span>
    <span class="Button-label"><svg aria-hidden="true" height="16" viewBox="0 0 16 16" version="1.1" width="16" data-view-component="true" class="octicon octicon-triangle-down">
    <path d="m4.427 7.427 3.396 3.396a.25.25 0 0 0 .354 0l3.396-3.396A.25.25 0 0 0 11.396 7H4.604a.25.25 0 0 0-.177.427Z"></path>
</svg></span>
  </span>
</button><tool-tip id="tooltip-913e0567-5dce-4c58-9349-b004395bbc68" for="global-create-menu-anchor" popover="manual" data-direction="s" data-type="description" data-view-component="true" class="sr-only position-absolute">Create new...</tool-tip>

      <template data-target="react-partial-anchor.template">
        <script crossorigin="anonymous" type="application/javascript" src="https://github.githubassets.com/assets/ui_packages_document-metadata_document-metadata_ts-ui_packages_promise-with-resolvers-polyfil-b81d9e-603c022fef90.js" defer="defer"></script>
<script crossorigin="anonymous" type="application/javascript" src="https://github.githubassets.com/assets/global-create-menu-8cf1ac98044f.js" defer="defer"></script>
<link crossorigin="anonymous" media="all" rel="stylesheet" href="https://github.githubassets.com/assets/primer-react.47f1598729334a521d2a.module.css" />
<link crossorigin="anonymous" media="all" rel="stylesheet" href="https://github.githubassets.com/assets/global-create-menu.be9cb11ea6367dfdb719.module.css" />

<react-partial
  partial-name="global-create-menu"
  data-ssr="false"
  data-attempted-ssr="false"
  data-react-profiling="false"
>
  
  <script type="application/json" data-target="react-partial.embeddedData">{"props":{"createRepo":true,"importRepo":true,"codespaces":true,"spark":false,"codingAgent":false,"gist":true,"createOrg":true,"createProject":false,"createProjectUrl":"/Kaviyadharsheni18?tab=projects","createLegacyProject":false,"createIssue":true,"org":null,"owner":"Kaviyadharsheni18","repo":"myprojects"}}</script>
  <div data-target="react-partial.reactRoot"></div>
</react-partial>

      </template>
    </react-partial-anchor>


            <a href="/issues" data-analytics-event="{&quot;category&quot;:&quot;Global navigation&quot;,&quot;action&quot;:&quot;ISSUES_HEADER&quot;,&quot;label&quot;:null}" id="icon-button-12c208ae-0cea-44c5-b4b9-b69be4c49382" aria-labelledby="tooltip-ce32f1d1-89a5-411a-a172-6ba96f783ab7" data-view-component="true" class="Button Button--iconOnly Button--secondary Button--medium AppHeader-button color-fg-muted">  <svg aria-hidden="true" height="16" viewBox="0 0 16 16" version="1.1" width="16" data-view-component="true" class="octicon octicon-issue-opened Button-visual">
    <path d="M8 9.5a1.5 1.5 0 1 0 0-3 1.5 1.5 0 0 0 0 3Z"></path><path d="M8 0a8 8 0 1 1 0 16A8 8 0 0 1 8 0ZM1.5 8a6.5 6.5 0 1 0 13 0 6.5 6.5 0 0 0-13 0Z"></path>
</svg>
</a><tool-tip id="tooltip-ce32f1d1-89a5-411a-a172-6ba96f783ab7" for="icon-button-12c208ae-0cea-44c5-b4b9-b69be4c49382" popover="manual" data-direction="s" data-type="label" data-view-component="true" class="sr-only position-absolute">Your issues</tool-tip>

            <a href="/pulls" data-analytics-event="{&quot;category&quot;:&quot;Global navigation&quot;,&quot;action&quot;:&quot;PULL_REQUESTS_HEADER&quot;,&quot;label&quot;:null}" id="icon-button-a386fbd6-8673-406d-8e4c-472a31f66059" aria-labelledby="tooltip-003e0d38-304d-4e6e-af6a-e88c5b1e9ba3" data-view-component="true" class="Button Button--iconOnly Button--secondary Button--medium AppHeader-button color-fg-muted">  <svg aria-hidden="true" height="16" viewBox="0 0 16 16" version="1.1" width="16" data-view-component="true" class="octicon octicon-git-pull-request Button-visual">
    <path d="M1.5 3.25a2.25 2.25 0 1 1 3 2.122v5.256a2.251 2.251 0 1 1-1.5 0V5.372A2.25 2.25 0 0 1 1.5 3.25Zm5.677-.177L9.573.677A.25.25 0 0 1 10 .854V2.5h1A2.5 2.5 0 0 1 13.5 5v5.628a2.251 2.251 0 1 1-1.5 0V5a1 1 0 0 0-1-1h-1v1.646a.25.25 0 0 1-.427.177L7.177 3.427a.25.25 0 0 1 0-.354ZM3.75 2.5a.75.75 0 1 0 0 1.5.75.75 0 0 0 0-1.5Zm0 9.5a.75.75 0 1 0 0 1.5.75.75 0 0 0 0-1.5Zm8.25.75a.75.75 0 1 0 1.5 0 .75.75 0 0 0-1.5 0Z"></path>
</svg>
</a><tool-tip id="tooltip-003e0d38-304d-4e6e-af6a-e88c5b1e9ba3" for="icon-button-a386fbd6-8673-406d-8e4c-472a31f66059" popover="manual" data-direction="s" data-type="label" data-view-component="true" class="sr-only position-absolute">Your pull requests</tool-tip>

        </div>

          <notification-indicator data-channel="eyJjIjoibm90aWZpY2F0aW9uLWNoYW5nZWQ6MTkyNTE5MTkwIiwidCI6MTc1MzA3NTkyNH0=--0ecad75bcfe9de70e547ef71b6f7eb41be054ebfb4a093738ea1ddec402a0821" data-indicator-mode="none" data-tooltip-global="You have unread notifications" data-tooltip-unavailable="Notifications are unavailable at the moment." data-tooltip-none="You have no unread notifications" data-header-redesign-enabled="true" data-fetch-indicator-src="/notifications/indicator" data-fetch-indicator-enabled="true" data-view-component="true" class="js-socket-channel">
    <a id="AppHeader-notifications-button" href="/notifications" aria-labelledby="notification-indicator-tooltip" data-hotkey="g n" data-target="notification-indicator.link" data-analytics-event="{&quot;category&quot;:&quot;Global navigation&quot;,&quot;action&quot;:&quot;NOTIFICATIONS_HEADER&quot;,&quot;label&quot;:null}" data-view-component="true" class="Button Button--iconOnly Button--secondary Button--medium AppHeader-button  color-fg-muted">  <svg aria-hidden="true" height="16" viewBox="0 0 16 16" version="1.1" width="16" data-view-component="true" class="octicon octicon-inbox Button-visual">
    <path d="M2.8 2.06A1.75 1.75 0 0 1 4.41 1h7.18c.7 0 1.333.417 1.61 1.06l2.74 6.395c.04.093.06.194.06.295v4.5A1.75 1.75 0 0 1 14.25 15H1.75A1.75 1.75 0 0 1 0 13.25v-4.5c0-.101.02-.202.06-.295Zm1.61.44a.25.25 0 0 0-.23.152L1.887 8H4.75a.75.75 0 0 1 .6.3L6.625 10h2.75l1.275-1.7a.75.75 0 0 1 .6-.3h2.863L11.82 2.652a.25.25 0 0 0-.23-.152Zm10.09 7h-2.875l-1.275 1.7a.75.75 0 0 1-.6.3h-3.5a.75.75 0 0 1-.6-.3L4.375 9.5H1.5v3.75c0 .138.112.25.25.25h12.5a.25.25 0 0 0 .25-.25Z"></path>
</svg>
</a>

    <tool-tip id="notification-indicator-tooltip" data-target="notification-indicator.tooltip" for="AppHeader-notifications-button" popover="manual" data-direction="s" data-type="label" data-view-component="true" class="sr-only position-absolute">Notifications</tool-tip>
</notification-indicator>

        <div class="AppHeader-user">
          <deferred-side-panel data-url="/_side-panels/user?repository_id=968522345">
  <include-fragment data-target="deferred-side-panel.fragment" data-nonce="v2:1d9dc46d-5136-2450-d1b8-bf32da9f285c" data-view-component="true">
  
    <react-partial-anchor
  
>
  <button data-target="react-partial-anchor.anchor" data-login="Kaviyadharsheni18" aria-label="Open user navigation menu" type="button" data-view-component="true" class="cursor-wait Button--invisible Button--medium Button Button--invisible-noVisuals color-bg-transparent p-0">  <span class="Button-content">
    <span class="Button-label"><img src="https://avatars.githubusercontent.com/u/192519190?v=4" alt="" size="32" height="32" width="32" data-view-component="true" class="avatar circle" /></span>
  </span>
</button>
  <template data-target="react-partial-anchor.template">
    <script crossorigin="anonymous" type="application/javascript" src="https://github.githubassets.com/assets/ui_packages_global-user-nav-drawer_entry_ts-11defcccb047.js" defer="defer"></script>
<script crossorigin="anonymous" type="application/javascript" src="https://github.githubassets.com/assets/global-user-nav-drawer-fa10170e4806.js" defer="defer"></script>
<link crossorigin="anonymous" media="all" rel="stylesheet" href="https://github.githubassets.com/assets/primer-react.47f1598729334a521d2a.module.css" />
<link crossorigin="anonymous" media="all" rel="stylesheet" href="https://github.githubassets.com/assets/global-user-nav-drawer.e8cf9cec9edb459b70de.module.css" />

<react-partial
  partial-name="global-user-nav-drawer"
  data-ssr="false"
  data-attempted-ssr="false"
  data-react-profiling="false"
>
  
  <script type="application/json" data-target="react-partial.embeddedData">{"props":{"owner":{"login":"Kaviyadharsheni18","name":null,"avatarUrl":"https://avatars.githubusercontent.com/u/192519190?v=4"},"drawerId":"global-user-nav-drawer","lazyLoadItemDataFetchUrl":"/_side-panels/user.json","canAddAccount":true,"addAccountPath":"/login?add_account=1\u0026return_to=https%3A%2F%2Fgithub.com%2FKaviyadharsheni18%2Fmyprojects%2Fblob%2Fmain%2Fdpurbanpricing.ipynb","switchAccountPath":"/switch_account","loginAccountPath":"/login?add_account=1","projectsPath":"/Kaviyadharsheni18?tab=projects","gistsUrl":"https://gist.github.com/mine","docsUrl":"https://docs.github.com","yourEnterpriseUrl":null,"enterpriseSettingsUrl":null,"supportUrl":"https://support.github.com","showAccountSwitcher":true,"showCopilot":true,"showEnterprises":true,"showEnterprise":false,"showGithubMCPServerCTA":true,"showGists":true,"showOrganizations":true,"showSponsors":true,"showUpgrade":true,"showFeaturesPreviews":true,"showEnterpriseSettings":false,"createMenuProps":{"createRepo":true,"importRepo":true,"codespaces":true,"spark":false,"codingAgent":false,"gist":true,"createOrg":true,"createProject":false,"createProjectUrl":"/Kaviyadharsheni18?tab=projects","createLegacyProject":false,"createIssue":true,"org":null,"owner":"Kaviyadharsheni18","repo":"myprojects"}}}</script>
  <div data-target="react-partial.reactRoot"></div>
</react-partial>

  </template>
</react-partial-anchor>


  <div data-show-on-forbidden-error hidden>
    <div class="Box">
  <div class="blankslate-container">
    <div data-view-component="true" class="blankslate blankslate-spacious color-bg-default rounded-2">
      

      <h3 data-view-component="true" class="blankslate-heading">        Uh oh!
</h3>
      <p data-view-component="true">        <p class="color-fg-muted my-2 mb-2 ws-normal">There was an error while loading. <a class="Link--inTextBlock" data-turbo="false" href="" aria-label="Please reload this page">Please reload this page</a>.</p>
</p>

</div>  </div>
</div>  </div>
</include-fragment></deferred-side-panel>
        </div>

        <div class="position-absolute mt-2">
            
<site-header-logged-in-user-menu>

</site-header-logged-in-user-menu>

        </div>
      </div>
    </div>


    
        <div class="AppHeader-localBar" >
          <nav data-pjax="#js-repo-pjax-container" aria-label="Repository" data-view-component="true" class="js-repo-nav js-sidenav-container-pjax js-responsive-underlinenav overflow-hidden UnderlineNav">

  <ul data-view-component="true" class="UnderlineNav-body list-style-none">
      <li data-view-component="true" class="d-inline-flex">
  <a id="code-tab" href="/Kaviyadharsheni18/myprojects" data-tab-item="i0code-tab" data-selected-links="repo_source repo_downloads repo_commits repo_releases repo_tags repo_branches repo_packages repo_deployments repo_attestations /Kaviyadharsheni18/myprojects" data-pjax="#repo-content-pjax-container" data-turbo-frame="repo-content-turbo-frame" data-hotkey="g c" data-analytics-event="{&quot;category&quot;:&quot;Underline navbar&quot;,&quot;action&quot;:&quot;Click tab&quot;,&quot;label&quot;:&quot;Code&quot;,&quot;target&quot;:&quot;UNDERLINE_NAV.TAB&quot;}" data-view-component="true" class="UnderlineNav-item no-wrap js-responsive-underlinenav-item js-selected-navigation-item">
    
              <svg aria-hidden="true" height="16" viewBox="0 0 16 16" version="1.1" width="16" data-view-component="true" class="octicon octicon-code UnderlineNav-octicon d-none d-sm-inline">
    <path d="m11.28 3.22 4.25 4.25a.75.75 0 0 1 0 1.06l-4.25 4.25a.749.749 0 0 1-1.275-.326.749.749 0 0 1 .215-.734L13.94 8l-3.72-3.72a.749.749 0 0 1 .326-1.275.749.749 0 0 1 .734.215Zm-6.56 0a.751.751 0 0 1 1.042.018.751.751 0 0 1 .018 1.042L2.06 8l3.72 3.72a.749.749 0 0 1-.326 1.275.749.749 0 0 1-.734-.215L.47 8.53a.75.75 0 0 1 0-1.06Z"></path>
</svg>
        <span data-content="Code">Code</span>
          <span id="code-repo-tab-count" data-pjax-replace="" data-turbo-replace="" title="Not available" data-view-component="true" class="Counter"></span>


    
</a></li>
      <li data-view-component="true" class="d-inline-flex">
  <a id="issues-tab" href="/Kaviyadharsheni18/myprojects/issues" data-tab-item="i1issues-tab" data-selected-links="repo_issues repo_labels repo_milestones /Kaviyadharsheni18/myprojects/issues" data-pjax="#repo-content-pjax-container" data-turbo-frame="repo-content-turbo-frame" data-hotkey="g i" data-analytics-event="{&quot;category&quot;:&quot;Underline navbar&quot;,&quot;action&quot;:&quot;Click tab&quot;,&quot;label&quot;:&quot;Issues&quot;,&quot;target&quot;:&quot;UNDERLINE_NAV.TAB&quot;}" data-view-component="true" class="UnderlineNav-item no-wrap js-responsive-underlinenav-item js-selected-navigation-item">
    
              <svg aria-hidden="true" height="16" viewBox="0 0 16 16" version="1.1" width="16" data-view-component="true" class="octicon octicon-issue-opened UnderlineNav-octicon d-none d-sm-inline">
    <path d="M8 9.5a1.5 1.5 0 1 0 0-3 1.5 1.5 0 0 0 0 3Z"></path><path d="M8 0a8 8 0 1 1 0 16A8 8 0 0 1 8 0ZM1.5 8a6.5 6.5 0 1 0 13 0 6.5 6.5 0 0 0-13 0Z"></path>
</svg>
        <span data-content="Issues">Issues</span>
          <span id="issues-repo-tab-count" data-pjax-replace="" data-turbo-replace="" title="0" hidden="hidden" data-view-component="true" class="Counter">0</span>


    
</a></li>
      <li data-view-component="true" class="d-inline-flex">
  <a id="pull-requests-tab" href="/Kaviyadharsheni18/myprojects/pulls" data-tab-item="i2pull-requests-tab" data-selected-links="repo_pulls checks /Kaviyadharsheni18/myprojects/pulls" data-pjax="#repo-content-pjax-container" data-turbo-frame="repo-content-turbo-frame" data-hotkey="g p" data-analytics-event="{&quot;category&quot;:&quot;Underline navbar&quot;,&quot;action&quot;:&quot;Click tab&quot;,&quot;label&quot;:&quot;Pull requests&quot;,&quot;target&quot;:&quot;UNDERLINE_NAV.TAB&quot;}" data-view-component="true" class="UnderlineNav-item no-wrap js-responsive-underlinenav-item js-selected-navigation-item">
    
              <svg aria-hidden="true" height="16" viewBox="0 0 16 16" version="1.1" width="16" data-view-component="true" class="octicon octicon-git-pull-request UnderlineNav-octicon d-none d-sm-inline">
    <path d="M1.5 3.25a2.25 2.25 0 1 1 3 2.122v5.256a2.251 2.251 0 1 1-1.5 0V5.372A2.25 2.25 0 0 1 1.5 3.25Zm5.677-.177L9.573.677A.25.25 0 0 1 10 .854V2.5h1A2.5 2.5 0 0 1 13.5 5v5.628a2.251 2.251 0 1 1-1.5 0V5a1 1 0 0 0-1-1h-1v1.646a.25.25 0 0 1-.427.177L7.177 3.427a.25.25 0 0 1 0-.354ZM3.75 2.5a.75.75 0 1 0 0 1.5.75.75 0 0 0 0-1.5Zm0 9.5a.75.75 0 1 0 0 1.5.75.75 0 0 0 0-1.5Zm8.25.75a.75.75 0 1 0 1.5 0 .75.75 0 0 0-1.5 0Z"></path>
</svg>
        <span data-content="Pull requests">Pull requests</span>
          <span id="pull-requests-repo-tab-count" data-pjax-replace="" data-turbo-replace="" title="0" hidden="hidden" data-view-component="true" class="Counter">0</span>


    
</a></li>
      <li data-view-component="true" class="d-inline-flex">
  <a id="actions-tab" href="/Kaviyadharsheni18/myprojects/actions" data-tab-item="i3actions-tab" data-selected-links="repo_actions /Kaviyadharsheni18/myprojects/actions" data-pjax="#repo-content-pjax-container" data-turbo-frame="repo-content-turbo-frame" data-hotkey="g a" data-analytics-event="{&quot;category&quot;:&quot;Underline navbar&quot;,&quot;action&quot;:&quot;Click tab&quot;,&quot;label&quot;:&quot;Actions&quot;,&quot;target&quot;:&quot;UNDERLINE_NAV.TAB&quot;}" data-view-component="true" class="UnderlineNav-item no-wrap js-responsive-underlinenav-item js-selected-navigation-item">
    
              <svg aria-hidden="true" height="16" viewBox="0 0 16 16" version="1.1" width="16" data-view-component="true" class="octicon octicon-play UnderlineNav-octicon d-none d-sm-inline">
    <path d="M8 0a8 8 0 1 1 0 16A8 8 0 0 1 8 0ZM1.5 8a6.5 6.5 0 1 0 13 0 6.5 6.5 0 0 0-13 0Zm4.879-2.773 4.264 2.559a.25.25 0 0 1 0 .428l-4.264 2.559A.25.25 0 0 1 6 10.559V5.442a.25.25 0 0 1 .379-.215Z"></path>
</svg>
        <span data-content="Actions">Actions</span>
          <span id="actions-repo-tab-count" data-pjax-replace="" data-turbo-replace="" title="Not available" data-view-component="true" class="Counter"></span>


    
</a></li>
      <li data-view-component="true" class="d-inline-flex">
  <a id="projects-tab" href="/Kaviyadharsheni18/myprojects/projects" data-tab-item="i4projects-tab" data-selected-links="repo_projects new_repo_project repo_project /Kaviyadharsheni18/myprojects/projects" data-pjax="#repo-content-pjax-container" data-turbo-frame="repo-content-turbo-frame" data-hotkey="g b" data-analytics-event="{&quot;category&quot;:&quot;Underline navbar&quot;,&quot;action&quot;:&quot;Click tab&quot;,&quot;label&quot;:&quot;Projects&quot;,&quot;target&quot;:&quot;UNDERLINE_NAV.TAB&quot;}" data-view-component="true" class="UnderlineNav-item no-wrap js-responsive-underlinenav-item js-selected-navigation-item">
    
              <svg aria-hidden="true" height="16" viewBox="0 0 16 16" version="1.1" width="16" data-view-component="true" class="octicon octicon-table UnderlineNav-octicon d-none d-sm-inline">
    <path d="M0 1.75C0 .784.784 0 1.75 0h12.5C15.216 0 16 .784 16 1.75v12.5A1.75 1.75 0 0 1 14.25 16H1.75A1.75 1.75 0 0 1 0 14.25ZM6.5 6.5v8h7.75a.25.25 0 0 0 .25-.25V6.5Zm8-1.5V1.75a.25.25 0 0 0-.25-.25H6.5V5Zm-13 1.5v7.75c0 .138.112.25.25.25H5v-8ZM5 5V1.5H1.75a.25.25 0 0 0-.25.25V5Z"></path>
</svg>
        <span data-content="Projects">Projects</span>
          <span id="projects-repo-tab-count" data-pjax-replace="" data-turbo-replace="" title="0" hidden="hidden" data-view-component="true" class="Counter">0</span>


    
</a></li>
      <li data-view-component="true" class="d-inline-flex">
  <a id="wiki-tab" href="/Kaviyadharsheni18/myprojects/wiki" data-tab-item="i5wiki-tab" data-selected-links="repo_wiki /Kaviyadharsheni18/myprojects/wiki" data-pjax="#repo-content-pjax-container" data-turbo-frame="repo-content-turbo-frame" data-hotkey="g w" data-analytics-event="{&quot;category&quot;:&quot;Underline navbar&quot;,&quot;action&quot;:&quot;Click tab&quot;,&quot;label&quot;:&quot;Wiki&quot;,&quot;target&quot;:&quot;UNDERLINE_NAV.TAB&quot;}" data-view-component="true" class="UnderlineNav-item no-wrap js-responsive-underlinenav-item js-selected-navigation-item">
    
              <svg aria-hidden="true" height="16" viewBox="0 0 16 16" version="1.1" width="16" data-view-component="true" class="octicon octicon-book UnderlineNav-octicon d-none d-sm-inline">
    <path d="M0 1.75A.75.75 0 0 1 .75 1h4.253c1.227 0 2.317.59 3 1.501A3.743 3.743 0 0 1 11.006 1h4.245a.75.75 0 0 1 .75.75v10.5a.75.75 0 0 1-.75.75h-4.507a2.25 2.25 0 0 0-1.591.659l-.622.621a.75.75 0 0 1-1.06 0l-.622-.621A2.25 2.25 0 0 0 5.258 13H.75a.75.75 0 0 1-.75-.75Zm7.251 10.324.004-5.073-.002-2.253A2.25 2.25 0 0 0 5.003 2.5H1.5v9h3.757a3.75 3.75 0 0 1 1.994.574ZM8.755 4.75l-.004 7.322a3.752 3.752 0 0 1 1.992-.572H14.5v-9h-3.495a2.25 2.25 0 0 0-2.25 2.25Z"></path>
</svg>
        <span data-content="Wiki">Wiki</span>
          <span id="wiki-repo-tab-count" data-pjax-replace="" data-turbo-replace="" title="Not available" data-view-component="true" class="Counter"></span>


    
</a></li>
      <li data-view-component="true" class="d-inline-flex">
  <a id="security-tab" href="/Kaviyadharsheni18/myprojects/security" data-tab-item="i6security-tab" data-selected-links="security overview alerts policy token_scanning code_scanning /Kaviyadharsheni18/myprojects/security" data-pjax="#repo-content-pjax-container" data-turbo-frame="repo-content-turbo-frame" data-hotkey="g s" data-analytics-event="{&quot;category&quot;:&quot;Underline navbar&quot;,&quot;action&quot;:&quot;Click tab&quot;,&quot;label&quot;:&quot;Security&quot;,&quot;target&quot;:&quot;UNDERLINE_NAV.TAB&quot;}" data-view-component="true" class="UnderlineNav-item no-wrap js-responsive-underlinenav-item js-selected-navigation-item">
    
              <svg aria-hidden="true" height="16" viewBox="0 0 16 16" version="1.1" width="16" data-view-component="true" class="octicon octicon-shield UnderlineNav-octicon d-none d-sm-inline">
    <path d="M7.467.133a1.748 1.748 0 0 1 1.066 0l5.25 1.68A1.75 1.75 0 0 1 15 3.48V7c0 1.566-.32 3.182-1.303 4.682-.983 1.498-2.585 2.813-5.032 3.855a1.697 1.697 0 0 1-1.33 0c-2.447-1.042-4.049-2.357-5.032-3.855C1.32 10.182 1 8.566 1 7V3.48a1.75 1.75 0 0 1 1.217-1.667Zm.61 1.429a.25.25 0 0 0-.153 0l-5.25 1.68a.25.25 0 0 0-.174.238V7c0 1.358.275 2.666 1.057 3.86.784 1.194 2.121 2.34 4.366 3.297a.196.196 0 0 0 .154 0c2.245-.956 3.582-2.104 4.366-3.298C13.225 9.666 13.5 8.36 13.5 7V3.48a.251.251 0 0 0-.174-.237l-5.25-1.68ZM8.75 4.75v3a.75.75 0 0 1-1.5 0v-3a.75.75 0 0 1 1.5 0ZM9 10.5a1 1 0 1 1-2 0 1 1 0 0 1 2 0Z"></path>
</svg>
        <span data-content="Security">Security</span>
          <include-fragment src="/Kaviyadharsheni18/myprojects/security/overall-count" accept="text/fragment+html" data-nonce="v2:1d9dc46d-5136-2450-d1b8-bf32da9f285c" data-view-component="true">
  
  <div data-show-on-forbidden-error hidden>
    <div class="Box">
  <div class="blankslate-container">
    <div data-view-component="true" class="blankslate blankslate-spacious color-bg-default rounded-2">
      

      <h3 data-view-component="true" class="blankslate-heading">        Uh oh!
</h3>
      <p data-view-component="true">        <p class="color-fg-muted my-2 mb-2 ws-normal">There was an error while loading. <a class="Link--inTextBlock" data-turbo="false" href="" aria-label="Please reload this page">Please reload this page</a>.</p>
</p>

</div>  </div>
</div>  </div>
</include-fragment>

    
</a></li>
      <li data-view-component="true" class="d-inline-flex">
  <a id="insights-tab" href="/Kaviyadharsheni18/myprojects/pulse" data-tab-item="i7insights-tab" data-selected-links="repo_graphs repo_contributors dependency_graph dependabot_updates pulse people community /Kaviyadharsheni18/myprojects/pulse" data-pjax="#repo-content-pjax-container" data-turbo-frame="repo-content-turbo-frame" data-analytics-event="{&quot;category&quot;:&quot;Underline navbar&quot;,&quot;action&quot;:&quot;Click tab&quot;,&quot;label&quot;:&quot;Insights&quot;,&quot;target&quot;:&quot;UNDERLINE_NAV.TAB&quot;}" data-view-component="true" class="UnderlineNav-item no-wrap js-responsive-underlinenav-item js-selected-navigation-item">
    
              <svg aria-hidden="true" height="16" viewBox="0 0 16 16" version="1.1" width="16" data-view-component="true" class="octicon octicon-graph UnderlineNav-octicon d-none d-sm-inline">
    <path d="M1.5 1.75V13.5h13.75a.75.75 0 0 1 0 1.5H.75a.75.75 0 0 1-.75-.75V1.75a.75.75 0 0 1 1.5 0Zm14.28 2.53-5.25 5.25a.75.75 0 0 1-1.06 0L7 7.06 4.28 9.78a.751.751 0 0 1-1.042-.018.751.751 0 0 1-.018-1.042l3.25-3.25a.75.75 0 0 1 1.06 0L10 7.94l4.72-4.72a.751.751 0 0 1 1.042.018.751.751 0 0 1 .018 1.042Z"></path>
</svg>
        <span data-content="Insights">Insights</span>
          <span id="insights-repo-tab-count" data-pjax-replace="" data-turbo-replace="" title="Not available" data-view-component="true" class="Counter"></span>


    
</a></li>
      <li data-view-component="true" class="d-inline-flex">
  <a id="settings-tab" href="/Kaviyadharsheni18/myprojects/settings" data-tab-item="i8settings-tab" data-selected-links="code_review_limits code_quality codespaces_repository_settings collaborators custom_tabs github_models_repo_settings hooks integration_installations interaction_limits issue_template_editor key_links_settings notifications repo_announcements repo_branch_settings repo_custom_properties repo_keys_settings repo_pages_settings repo_protected_tags_settings repo_rule_insights repo_rules_bypass_requests repo_rulesets repo_settings_copilot_coding_guidelines repo_settings_copilot_content_exclusion repo_settings_copilot_swe_agent repo_settings reported_content repository_actions_settings_add_new_runner repository_actions_settings_general repository_actions_settings_runner_details repository_actions_settings_runners repository_actions_settings repository_environments role_details secrets_settings_actions secrets_settings_codespaces secrets_settings_dependabot secrets security_analysis security_products /Kaviyadharsheni18/myprojects/settings" data-pjax="#repo-content-pjax-container" data-turbo-frame="repo-content-turbo-frame" data-analytics-event="{&quot;category&quot;:&quot;Underline navbar&quot;,&quot;action&quot;:&quot;Click tab&quot;,&quot;label&quot;:&quot;Settings&quot;,&quot;target&quot;:&quot;UNDERLINE_NAV.TAB&quot;}" data-view-component="true" class="UnderlineNav-item no-wrap js-responsive-underlinenav-item js-selected-navigation-item">
    
              <svg aria-hidden="true" height="16" viewBox="0 0 16 16" version="1.1" width="16" data-view-component="true" class="octicon octicon-gear UnderlineNav-octicon d-none d-sm-inline">
    <path d="M8 0a8.2 8.2 0 0 1 .701.031C9.444.095 9.99.645 10.16 1.29l.288 1.107c.018.066.079.158.212.224.231.114.454.243.668.386.123.082.233.09.299.071l1.103-.303c.644-.176 1.392.021 1.82.63.27.385.506.792.704 1.218.315.675.111 1.422-.364 1.891l-.814.806c-.049.048-.098.147-.088.294.016.257.016.515 0 .772-.01.147.038.246.088.294l.814.806c.475.469.679 1.216.364 1.891a7.977 7.977 0 0 1-.704 1.217c-.428.61-1.176.807-1.82.63l-1.102-.302c-.067-.019-.177-.011-.3.071a5.909 5.909 0 0 1-.668.386c-.133.066-.194.158-.211.224l-.29 1.106c-.168.646-.715 1.196-1.458 1.26a8.006 8.006 0 0 1-1.402 0c-.743-.064-1.289-.614-1.458-1.26l-.289-1.106c-.018-.066-.079-.158-.212-.224a5.738 5.738 0 0 1-.668-.386c-.123-.082-.233-.09-.299-.071l-1.103.303c-.644.176-1.392-.021-1.82-.63a8.12 8.12 0 0 1-.704-1.218c-.315-.675-.111-1.422.363-1.891l.815-.806c.05-.048.098-.147.088-.294a6.214 6.214 0 0 1 0-.772c.01-.147-.038-.246-.088-.294l-.815-.806C.635 6.045.431 5.298.746 4.623a7.92 7.92 0 0 1 .704-1.217c.428-.61 1.176-.807 1.82-.63l1.102.302c.067.019.177.011.3-.071.214-.143.437-.272.668-.386.133-.066.194-.158.211-.224l.29-1.106C6.009.645 6.556.095 7.299.03 7.53.01 7.764 0 8 0Zm-.571 1.525c-.036.003-.108.036-.137.146l-.289 1.105c-.147.561-.549.967-.998 1.189-.173.086-.34.183-.5.29-.417.278-.97.423-1.529.27l-1.103-.303c-.109-.03-.175.016-.195.045-.22.312-.412.644-.573.99-.014.031-.021.11.059.19l.815.806c.411.406.562.957.53 1.456a4.709 4.709 0 0 0 0 .582c.032.499-.119 1.05-.53 1.456l-.815.806c-.081.08-.073.159-.059.19.162.346.353.677.573.989.02.03.085.076.195.046l1.102-.303c.56-.153 1.113-.008 1.53.27.161.107.328.204.501.29.447.222.85.629.997 1.189l.289 1.105c.029.109.101.143.137.146a6.6 6.6 0 0 0 1.142 0c.036-.003.108-.036.137-.146l.289-1.105c.147-.561.549-.967.998-1.189.173-.086.34-.183.5-.29.417-.278.97-.423 1.529-.27l1.103.303c.109.029.175-.016.195-.045.22-.313.411-.644.573-.99.014-.031.021-.11-.059-.19l-.815-.806c-.411-.406-.562-.957-.53-1.456a4.709 4.709 0 0 0 0-.582c-.032-.499.119-1.05.53-1.456l.815-.806c.081-.08.073-.159.059-.19a6.464 6.464 0 0 0-.573-.989c-.02-.03-.085-.076-.195-.046l-1.102.303c-.56.153-1.113.008-1.53-.27a4.44 4.44 0 0 0-.501-.29c-.447-.222-.85-.629-.997-1.189l-.289-1.105c-.029-.11-.101-.143-.137-.146a6.6 6.6 0 0 0-1.142 0ZM11 8a3 3 0 1 1-6 0 3 3 0 0 1 6 0ZM9.5 8a1.5 1.5 0 1 0-3.001.001A1.5 1.5 0 0 0 9.5 8Z"></path>
</svg>
        <span data-content="Settings">Settings</span>
          <span id="settings-repo-tab-count" data-pjax-replace="" data-turbo-replace="" title="Not available" data-view-component="true" class="Counter"></span>


    
</a></li>
</ul>
    <div style="visibility:hidden;" data-view-component="true" class="UnderlineNav-actions js-responsive-underlinenav-overflow position-absolute pr-3 pr-md-4 pr-lg-5 right-0">      <action-menu data-select-variant="none" data-view-component="true">
  <focus-group direction="vertical" mnemonics retain>
    <button id="action-menu-2ff39c1f-142f-41e2-9174-686d7334480e-button" popovertarget="action-menu-2ff39c1f-142f-41e2-9174-686d7334480e-overlay" aria-controls="action-menu-2ff39c1f-142f-41e2-9174-686d7334480e-list" aria-haspopup="true" aria-labelledby="tooltip-8e82a948-fbf3-4277-aa14-ae0e4df2bbc6" type="button" data-view-component="true" class="Button Button--iconOnly Button--secondary Button--medium UnderlineNav-item">  <svg aria-hidden="true" height="16" viewBox="0 0 16 16" version="1.1" width="16" data-view-component="true" class="octicon octicon-kebab-horizontal Button-visual">
    <path d="M8 9a1.5 1.5 0 1 0 0-3 1.5 1.5 0 0 0 0 3ZM1.5 9a1.5 1.5 0 1 0 0-3 1.5 1.5 0 0 0 0 3Zm13 0a1.5 1.5 0 1 0 0-3 1.5 1.5 0 0 0 0 3Z"></path>
</svg>
</button><tool-tip id="tooltip-8e82a948-fbf3-4277-aa14-ae0e4df2bbc6" for="action-menu-2ff39c1f-142f-41e2-9174-686d7334480e-button" popover="manual" data-direction="s" data-type="label" data-view-component="true" class="sr-only position-absolute">Additional navigation options</tool-tip>


<anchored-position data-target="action-menu.overlay" id="action-menu-2ff39c1f-142f-41e2-9174-686d7334480e-overlay" anchor="action-menu-2ff39c1f-142f-41e2-9174-686d7334480e-button" align="start" side="outside-bottom" anchor-offset="normal" popover="auto" data-view-component="true">
  <div data-view-component="true" class="Overlay Overlay--size-auto">
    
      <div data-view-component="true" class="Overlay-body Overlay-body--paddingNone">          <action-list>
  <div data-view-component="true">
    <ul aria-labelledby="action-menu-2ff39c1f-142f-41e2-9174-686d7334480e-button" id="action-menu-2ff39c1f-142f-41e2-9174-686d7334480e-list" role="menu" data-view-component="true" class="ActionListWrap--inset ActionListWrap">
        <li hidden="hidden" data-menu-item="i0code-tab" data-targets="action-list.items" role="none" data-view-component="true" class="ActionListItem">
    
    
    <a tabindex="-1" id="item-5ddfc729-1839-4a47-a400-e3512910a557" href="/Kaviyadharsheni18/myprojects" role="menuitem" data-view-component="true" class="ActionListContent ActionListContent--visual16">
        <span class="ActionListItem-visual ActionListItem-visual--leading">
          <svg aria-hidden="true" height="16" viewBox="0 0 16 16" version="1.1" width="16" data-view-component="true" class="octicon octicon-code">
    <path d="m11.28 3.22 4.25 4.25a.75.75 0 0 1 0 1.06l-4.25 4.25a.749.749 0 0 1-1.275-.326.749.749 0 0 1 .215-.734L13.94 8l-3.72-3.72a.749.749 0 0 1 .326-1.275.749.749 0 0 1 .734.215Zm-6.56 0a.751.751 0 0 1 1.042.018.751.751 0 0 1 .018 1.042L2.06 8l3.72 3.72a.749.749 0 0 1-.326 1.275.749.749 0 0 1-.734-.215L.47 8.53a.75.75 0 0 1 0-1.06Z"></path>
</svg>
        </span>
      
        <span data-view-component="true" class="ActionListItem-label">
          Code
</span>      
</a>
  
</li>
        <li hidden="hidden" data-menu-item="i1issues-tab" data-targets="action-list.items" role="none" data-view-component="true" class="ActionListItem">
    
    
    <a tabindex="-1" id="item-14e3bb8f-ff1e-452a-a7b9-9b14d1ea3a40" href="/Kaviyadharsheni18/myprojects/issues" role="menuitem" data-view-component="true" class="ActionListContent ActionListContent--visual16">
        <span class="ActionListItem-visual ActionListItem-visual--leading">
          <svg aria-hidden="true" height="16" viewBox="0 0 16 16" version="1.1" width="16" data-view-component="true" class="octicon octicon-issue-opened">
    <path d="M8 9.5a1.5 1.5 0 1 0 0-3 1.5 1.5 0 0 0 0 3Z"></path><path d="M8 0a8 8 0 1 1 0 16A8 8 0 0 1 8 0ZM1.5 8a6.5 6.5 0 1 0 13 0 6.5 6.5 0 0 0-13 0Z"></path>
</svg>
        </span>
      
        <span data-view-component="true" class="ActionListItem-label">
          Issues
</span>      
</a>
  
</li>
        <li hidden="hidden" data-menu-item="i2pull-requests-tab" data-targets="action-list.items" role="none" data-view-component="true" class="ActionListItem">
    
    
    <a tabindex="-1" id="item-b0e098f3-aac3-4106-a7c4-6441e95c4bb6" href="/Kaviyadharsheni18/myprojects/pulls" role="menuitem" data-view-component="true" class="ActionListContent ActionListContent--visual16">
        <span class="ActionListItem-visual ActionListItem-visual--leading">
          <svg aria-hidden="true" height="16" viewBox="0 0 16 16" version="1.1" width="16" data-view-component="true" class="octicon octicon-git-pull-request">
    <path d="M1.5 3.25a2.25 2.25 0 1 1 3 2.122v5.256a2.251 2.251 0 1 1-1.5 0V5.372A2.25 2.25 0 0 1 1.5 3.25Zm5.677-.177L9.573.677A.25.25 0 0 1 10 .854V2.5h1A2.5 2.5 0 0 1 13.5 5v5.628a2.251 2.251 0 1 1-1.5 0V5a1 1 0 0 0-1-1h-1v1.646a.25.25 0 0 1-.427.177L7.177 3.427a.25.25 0 0 1 0-.354ZM3.75 2.5a.75.75 0 1 0 0 1.5.75.75 0 0 0 0-1.5Zm0 9.5a.75.75 0 1 0 0 1.5.75.75 0 0 0 0-1.5Zm8.25.75a.75.75 0 1 0 1.5 0 .75.75 0 0 0-1.5 0Z"></path>
</svg>
        </span>
      
        <span data-view-component="true" class="ActionListItem-label">
          Pull requests
</span>      
</a>
  
</li>
        <li hidden="hidden" data-menu-item="i3actions-tab" data-targets="action-list.items" role="none" data-view-component="true" class="ActionListItem">
    
    
    <a tabindex="-1" id="item-38e00519-40b4-4cf9-99ba-96d5739ab88e" href="/Kaviyadharsheni18/myprojects/actions" role="menuitem" data-view-component="true" class="ActionListContent ActionListContent--visual16">
        <span class="ActionListItem-visual ActionListItem-visual--leading">
          <svg aria-hidden="true" height="16" viewBox="0 0 16 16" version="1.1" width="16" data-view-component="true" class="octicon octicon-play">
    <path d="M8 0a8 8 0 1 1 0 16A8 8 0 0 1 8 0ZM1.5 8a6.5 6.5 0 1 0 13 0 6.5 6.5 0 0 0-13 0Zm4.879-2.773 4.264 2.559a.25.25 0 0 1 0 .428l-4.264 2.559A.25.25 0 0 1 6 10.559V5.442a.25.25 0 0 1 .379-.215Z"></path>
</svg>
        </span>
      
        <span data-view-component="true" class="ActionListItem-label">
          Actions
</span>      
</a>
  
</li>
        <li hidden="hidden" data-menu-item="i4projects-tab" data-targets="action-list.items" role="none" data-view-component="true" class="ActionListItem">
    
    
    <a tabindex="-1" id="item-a7c9dad3-f52e-4bef-b4e2-b646acec78bc" href="/Kaviyadharsheni18/myprojects/projects" role="menuitem" data-view-component="true" class="ActionListContent ActionListContent--visual16">
        <span class="ActionListItem-visual ActionListItem-visual--leading">
          <svg aria-hidden="true" height="16" viewBox="0 0 16 16" version="1.1" width="16" data-view-component="true" class="octicon octicon-table">
    <path d="M0 1.75C0 .784.784 0 1.75 0h12.5C15.216 0 16 .784 16 1.75v12.5A1.75 1.75 0 0 1 14.25 16H1.75A1.75 1.75 0 0 1 0 14.25ZM6.5 6.5v8h7.75a.25.25 0 0 0 .25-.25V6.5Zm8-1.5V1.75a.25.25 0 0 0-.25-.25H6.5V5Zm-13 1.5v7.75c0 .138.112.25.25.25H5v-8ZM5 5V1.5H1.75a.25.25 0 0 0-.25.25V5Z"></path>
</svg>
        </span>
      
        <span data-view-component="true" class="ActionListItem-label">
          Projects
</span>      
</a>
  
</li>
        <li hidden="hidden" data-menu-item="i5wiki-tab" data-targets="action-list.items" role="none" data-view-component="true" class="ActionListItem">
    
    
    <a tabindex="-1" id="item-af0c33ea-d7f5-428a-bfc1-1017998f5037" href="/Kaviyadharsheni18/myprojects/wiki" role="menuitem" data-view-component="true" class="ActionListContent ActionListContent--visual16">
        <span class="ActionListItem-visual ActionListItem-visual--leading">
          <svg aria-hidden="true" height="16" viewBox="0 0 16 16" version="1.1" width="16" data-view-component="true" class="octicon octicon-book">
    <path d="M0 1.75A.75.75 0 0 1 .75 1h4.253c1.227 0 2.317.59 3 1.501A3.743 3.743 0 0 1 11.006 1h4.245a.75.75 0 0 1 .75.75v10.5a.75.75 0 0 1-.75.75h-4.507a2.25 2.25 0 0 0-1.591.659l-.622.621a.75.75 0 0 1-1.06 0l-.622-.621A2.25 2.25 0 0 0 5.258 13H.75a.75.75 0 0 1-.75-.75Zm7.251 10.324.004-5.073-.002-2.253A2.25 2.25 0 0 0 5.003 2.5H1.5v9h3.757a3.75 3.75 0 0 1 1.994.574ZM8.755 4.75l-.004 7.322a3.752 3.752 0 0 1 1.992-.572H14.5v-9h-3.495a2.25 2.25 0 0 0-2.25 2.25Z"></path>
</svg>
        </span>
      
        <span data-view-component="true" class="ActionListItem-label">
          Wiki
</span>      
</a>
  
</li>
        <li hidden="hidden" data-menu-item="i6security-tab" data-targets="action-list.items" role="none" data-view-component="true" class="ActionListItem">
    
    
    <a tabindex="-1" id="item-e48dfd63-b7b2-4fea-9921-fe4def7ce09d" href="/Kaviyadharsheni18/myprojects/security" role="menuitem" data-view-component="true" class="ActionListContent ActionListContent--visual16">
        <span class="ActionListItem-visual ActionListItem-visual--leading">
          <svg aria-hidden="true" height="16" viewBox="0 0 16 16" version="1.1" width="16" data-view-component="true" class="octicon octicon-shield">
    <path d="M7.467.133a1.748 1.748 0 0 1 1.066 0l5.25 1.68A1.75 1.75 0 0 1 15 3.48V7c0 1.566-.32 3.182-1.303 4.682-.983 1.498-2.585 2.813-5.032 3.855a1.697 1.697 0 0 1-1.33 0c-2.447-1.042-4.049-2.357-5.032-3.855C1.32 10.182 1 8.566 1 7V3.48a1.75 1.75 0 0 1 1.217-1.667Zm.61 1.429a.25.25 0 0 0-.153 0l-5.25 1.68a.25.25 0 0 0-.174.238V7c0 1.358.275 2.666 1.057 3.86.784 1.194 2.121 2.34 4.366 3.297a.196.196 0 0 0 .154 0c2.245-.956 3.582-2.104 4.366-3.298C13.225 9.666 13.5 8.36 13.5 7V3.48a.251.251 0 0 0-.174-.237l-5.25-1.68ZM8.75 4.75v3a.75.75 0 0 1-1.5 0v-3a.75.75 0 0 1 1.5 0ZM9 10.5a1 1 0 1 1-2 0 1 1 0 0 1 2 0Z"></path>
</svg>
        </span>
      
        <span data-view-component="true" class="ActionListItem-label">
          Security
</span>      
</a>
  
</li>
        <li hidden="hidden" data-menu-item="i7insights-tab" data-targets="action-list.items" role="none" data-view-component="true" class="ActionListItem">
    
    
    <a tabindex="-1" id="item-8b2cb4a8-bcfc-488e-8c68-ad13c6ffb285" href="/Kaviyadharsheni18/myprojects/pulse" role="menuitem" data-view-component="true" class="ActionListContent ActionListContent--visual16">
        <span class="ActionListItem-visual ActionListItem-visual--leading">
          <svg aria-hidden="true" height="16" viewBox="0 0 16 16" version="1.1" width="16" data-view-component="true" class="octicon octicon-graph">
    <path d="M1.5 1.75V13.5h13.75a.75.75 0 0 1 0 1.5H.75a.75.75 0 0 1-.75-.75V1.75a.75.75 0 0 1 1.5 0Zm14.28 2.53-5.25 5.25a.75.75 0 0 1-1.06 0L7 7.06 4.28 9.78a.751.751 0 0 1-1.042-.018.751.751 0 0 1-.018-1.042l3.25-3.25a.75.75 0 0 1 1.06 0L10 7.94l4.72-4.72a.751.751 0 0 1 1.042.018.751.751 0 0 1 .018 1.042Z"></path>
</svg>
        </span>
      
        <span data-view-component="true" class="ActionListItem-label">
          Insights
</span>      
</a>
  
</li>
        <li hidden="hidden" data-menu-item="i8settings-tab" data-targets="action-list.items" role="none" data-view-component="true" class="ActionListItem">
    
    
    <a tabindex="-1" id="item-32b75e26-01fc-44df-a6c2-cf002b14b509" href="/Kaviyadharsheni18/myprojects/settings" role="menuitem" data-view-component="true" class="ActionListContent ActionListContent--visual16">
        <span class="ActionListItem-visual ActionListItem-visual--leading">
          <svg aria-hidden="true" height="16" viewBox="0 0 16 16" version="1.1" width="16" data-view-component="true" class="octicon octicon-gear">
    <path d="M8 0a8.2 8.2 0 0 1 .701.031C9.444.095 9.99.645 10.16 1.29l.288 1.107c.018.066.079.158.212.224.231.114.454.243.668.386.123.082.233.09.299.071l1.103-.303c.644-.176 1.392.021 1.82.63.27.385.506.792.704 1.218.315.675.111 1.422-.364 1.891l-.814.806c-.049.048-.098.147-.088.294.016.257.016.515 0 .772-.01.147.038.246.088.294l.814.806c.475.469.679 1.216.364 1.891a7.977 7.977 0 0 1-.704 1.217c-.428.61-1.176.807-1.82.63l-1.102-.302c-.067-.019-.177-.011-.3.071a5.909 5.909 0 0 1-.668.386c-.133.066-.194.158-.211.224l-.29 1.106c-.168.646-.715 1.196-1.458 1.26a8.006 8.006 0 0 1-1.402 0c-.743-.064-1.289-.614-1.458-1.26l-.289-1.106c-.018-.066-.079-.158-.212-.224a5.738 5.738 0 0 1-.668-.386c-.123-.082-.233-.09-.299-.071l-1.103.303c-.644.176-1.392-.021-1.82-.63a8.12 8.12 0 0 1-.704-1.218c-.315-.675-.111-1.422.363-1.891l.815-.806c.05-.048.098-.147.088-.294a6.214 6.214 0 0 1 0-.772c.01-.147-.038-.246-.088-.294l-.815-.806C.635 6.045.431 5.298.746 4.623a7.92 7.92 0 0 1 .704-1.217c.428-.61 1.176-.807 1.82-.63l1.102.302c.067.019.177.011.3-.071.214-.143.437-.272.668-.386.133-.066.194-.158.211-.224l.29-1.106C6.009.645 6.556.095 7.299.03 7.53.01 7.764 0 8 0Zm-.571 1.525c-.036.003-.108.036-.137.146l-.289 1.105c-.147.561-.549.967-.998 1.189-.173.086-.34.183-.5.29-.417.278-.97.423-1.529.27l-1.103-.303c-.109-.03-.175.016-.195.045-.22.312-.412.644-.573.99-.014.031-.021.11.059.19l.815.806c.411.406.562.957.53 1.456a4.709 4.709 0 0 0 0 .582c.032.499-.119 1.05-.53 1.456l-.815.806c-.081.08-.073.159-.059.19.162.346.353.677.573.989.02.03.085.076.195.046l1.102-.303c.56-.153 1.113-.008 1.53.27.161.107.328.204.501.29.447.222.85.629.997 1.189l.289 1.105c.029.109.101.143.137.146a6.6 6.6 0 0 0 1.142 0c.036-.003.108-.036.137-.146l.289-1.105c.147-.561.549-.967.998-1.189.173-.086.34-.183.5-.29.417-.278.97-.423 1.529-.27l1.103.303c.109.029.175-.016.195-.045.22-.313.411-.644.573-.99.014-.031.021-.11-.059-.19l-.815-.806c-.411-.406-.562-.957-.53-1.456a4.709 4.709 0 0 0 0-.582c-.032-.499.119-1.05.53-1.456l.815-.806c.081-.08.073-.159.059-.19a6.464 6.464 0 0 0-.573-.989c-.02-.03-.085-.076-.195-.046l-1.102.303c-.56.153-1.113.008-1.53-.27a4.44 4.44 0 0 0-.501-.29c-.447-.222-.85-.629-.997-1.189l-.289-1.105c-.029-.11-.101-.143-.137-.146a6.6 6.6 0 0 0-1.142 0ZM11 8a3 3 0 1 1-6 0 3 3 0 0 1 6 0ZM9.5 8a1.5 1.5 0 1 0-3.001.001A1.5 1.5 0 0 0 9.5 8Z"></path>
</svg>
        </span>
      
        <span data-view-component="true" class="ActionListItem-label">
          Settings
</span>      
</a>
  
</li>
</ul>    
</div></action-list>


</div>
      
</div></anchored-position>  </focus-group>
</action-menu></div>
</nav>
          
        </div>
</header>


      <div hidden="hidden" data-view-component="true" class="js-stale-session-flash stale-session-flash flash flash-warn flash-full">
  
        <svg aria-hidden="true" height="16" viewBox="0 0 16 16" version="1.1" width="16" data-view-component="true" class="octicon octicon-alert">
    <path d="M6.457 1.047c.659-1.234 2.427-1.234 3.086 0l6.082 11.378A1.75 1.75 0 0 1 14.082 15H1.918a1.75 1.75 0 0 1-1.543-2.575Zm1.763.707a.25.25 0 0 0-.44 0L1.698 13.132a.25.25 0 0 0 .22.368h12.164a.25.25 0 0 0 .22-.368Zm.53 3.996v2.5a.75.75 0 0 1-1.5 0v-2.5a.75.75 0 0 1 1.5 0ZM9 11a1 1 0 1 1-2 0 1 1 0 0 1 2 0Z"></path>
</svg>
        <span class="js-stale-session-flash-signed-in" hidden>You signed in with another tab or window. <a class="Link--inTextBlock" href="">Reload</a> to refresh your session.</span>
        <span class="js-stale-session-flash-signed-out" hidden>You signed out in another tab or window. <a class="Link--inTextBlock" href="">Reload</a> to refresh your session.</span>
        <span class="js-stale-session-flash-switched" hidden>You switched accounts on another tab or window. <a class="Link--inTextBlock" href="">Reload</a> to refresh your session.</span>

    <button id="icon-button-03b4dab0-4492-4e86-bf43-1de16a5c5126" aria-labelledby="tooltip-2d26b34e-ca2f-439e-87ca-7b174e974796" type="button" data-view-component="true" class="Button Button--iconOnly Button--invisible Button--medium flash-close js-flash-close">  <svg aria-hidden="true" height="16" viewBox="0 0 16 16" version="1.1" width="16" data-view-component="true" class="octicon octicon-x Button-visual">
    <path d="M3.72 3.72a.75.75 0 0 1 1.06 0L8 6.94l3.22-3.22a.749.749 0 0 1 1.275.326.749.749 0 0 1-.215.734L9.06 8l3.22 3.22a.749.749 0 0 1-.326 1.275.749.749 0 0 1-.734-.215L8 9.06l-3.22 3.22a.751.751 0 0 1-1.042-.018.751.751 0 0 1-.018-1.042L6.94 8 3.72 4.78a.75.75 0 0 1 0-1.06Z"></path>
</svg>
</button><tool-tip id="tooltip-2d26b34e-ca2f-439e-87ca-7b174e974796" for="icon-button-03b4dab0-4492-4e86-bf43-1de16a5c5126" popover="manual" data-direction="s" data-type="label" data-view-component="true" class="sr-only position-absolute">Dismiss alert</tool-tip>


  
</div>
        
          
    </div>

  <div id="start-of-content" class="show-on-focus"></div>








    <div id="js-flash-container" class="flash-container" data-turbo-replace>




  <template class="js-flash-template">
    
<div class="flash flash-full   {{ className }}">
  <div >
    <button autofocus class="flash-close js-flash-close" type="button" aria-label="Dismiss this message">
      <svg aria-hidden="true" height="16" viewBox="0 0 16 16" version="1.1" width="16" data-view-component="true" class="octicon octicon-x">
    <path d="M3.72 3.72a.75.75 0 0 1 1.06 0L8 6.94l3.22-3.22a.749.749 0 0 1 1.275.326.749.749 0 0 1-.215.734L9.06 8l3.22 3.22a.749.749 0 0 1-.326 1.275.749.749 0 0 1-.734-.215L8 9.06l-3.22 3.22a.751.751 0 0 1-1.042-.018.751.751 0 0 1-.018-1.042L6.94 8 3.72 4.78a.75.75 0 0 1 0-1.06Z"></path>
</svg>
    </button>
    <div aria-atomic="true" role="alert" class="js-flash-alert">
      
      <div>{{ message }}</div>

    </div>
  </div>
</div>
  </template>
</div>


    
  <notification-shelf-watcher data-base-url="https://github.com/notifications/beta/shelf" data-channel="eyJjIjoibm90aWZpY2F0aW9uLWNoYW5nZWQ6MTkyNTE5MTkwIiwidCI6MTc1MzA3NTkyNH0=--0ecad75bcfe9de70e547ef71b6f7eb41be054ebfb4a093738ea1ddec402a0821" data-view-component="true" class="js-socket-channel"></notification-shelf-watcher>
  <div hidden data-initial data-target="notification-shelf-watcher.placeholder"></div>






  <div
    class="application-main "
    data-commit-hovercards-enabled
    data-discussion-hovercards-enabled
    data-issue-and-pr-hovercards-enabled
    data-project-hovercards-enabled
  >
        <div itemscope itemtype="http://schema.org/SoftwareSourceCode" class="">
    <main id="js-repo-pjax-container" >
      
      






    
  <div id="repository-container-header" data-turbo-replace hidden ></div>




<turbo-frame id="repo-content-turbo-frame" target="_top" data-turbo-action="advance" class="">
    <div id="repo-content-pjax-container" class="repository-content " >
      <a href="https://github.dev/" class="d-none js-github-dev-shortcut" data-hotkey=".,Mod+Alt+.">Open in github.dev</a>
  <a href="https://github.dev/" class="d-none js-github-dev-new-tab-shortcut" data-hotkey="Shift+.,Shift+&gt;,&gt;" target="_blank" rel="noopener noreferrer">Open in a new github.dev tab</a>
    <a class="d-none" data-hotkey=",,Mod+Alt+," target="_blank" href="/codespaces/new/Kaviyadharsheni18/myprojects/tree/main?resume=1">Open in codespace</a>




    
      
    








<react-app
  app-name="react-code-view"
  initial-path="/Kaviyadharsheni18/myprojects/blob/main/dpurbanpricing.ipynb"
    style="display: block; min-height: calc(100vh - 64px);"
  data-attempted-ssr="true"
  data-ssr="true"
  data-lazy="false"
  data-alternate="false"
  data-data-router-enabled="false"
  data-react-profiling="false"
>
  
  <script type="application/json" data-target="react-app.embeddedData">{"payload":{"allShortcutsEnabled":true,"fileTree":{"":{"items":[{"name":"Notebook Gan.ipynb","path":"Notebook Gan.ipynb","contentType":"file"},{"name":"dataset.csv","path":"dataset.csv","contentType":"file"},{"name":"dpurbanpricing.ipynb","path":"dpurbanpricing.ipynb","contentType":"file"},{"name":"newbranch1.txt","path":"newbranch1.txt","contentType":"file"},{"name":"project2.py","path":"project2.py","contentType":"file"}],"totalCount":5}},"fileTreeProcessingTime":2.4140889999999997,"foldersToFetch":[],"incompleteFileTree":false,"repo":{"id":968522345,"defaultBranch":"main","name":"myprojects","ownerLogin":"Kaviyadharsheni18","currentUserCanPush":true,"isFork":false,"isEmpty":false,"createdAt":"2025-04-18T13:56:17.000+05:30","ownerAvatar":"https://avatars.githubusercontent.com/u/192519190?v=4","public":true,"private":false,"isOrgOwned":false},"codeLineWrapEnabled":false,"symbolsExpanded":false,"treeExpanded":false,"refInfo":{"name":"main","listCacheKey":"v0:1746946990.0","canEdit":true,"refType":"branch","currentOid":"f3c27508a89e7d81e37bf17f9e946174d92fcde6"},"path":"dpurbanpricing.ipynb","currentUser":{"id":192519190,"login":"Kaviyadharsheni18","userEmail":"kaviyadharsheni10b@gmail.com"},"blob":{"rawLines":["{"," \"cells\": [","  {","   \"cell_type\": \"code\",","   \"execution_count\": 4,","   \"id\": \"efdf8657-33c9-4309-92b8-f0e925ff5ac0\",","   \"metadata\": {},","   \"outputs\": [","    {","     \"name\": \"stdout\",","     \"output_type\": \"stream\",","     \"text\": [","      \"Collecting pathway\\n\",","      \"  Downloading pathway-0.post1-py3-none-any.whl.metadata (1.3 kB)\\n\",","      \"Downloading pathway-0.post1-py3-none-any.whl (2.8 kB)\\n\",","      \"Installing collected packages: pathway\\n\",","      \"Successfully installed pathway-0.post1\\n\"","     ]","    }","   ],","   \"source\": [","    \"!pip install pathway\\n\",","    \"\\n\",","    \"    \\n\",","    \"    \\n\",","    \"    \\n\",","    \"    \"","   ]","  },","  {","   \"cell_type\": \"markdown\",","   \"id\": \"caadb5a4-3491-4b15-862b-ca20313abeaa\",","   \"metadata\": {},","   \"source\": [","    \"Model 1: Baseline Linear Model\"","   ]","  },","  {","   \"cell_type\": \"code\",","   \"execution_count\": 6,","   \"id\": \"03951540-b986-4da6-ab11-3235338e786a\",","   \"metadata\": {},","   \"outputs\": [","    {","     \"name\": \"stdout\",","     \"output_type\": \"stream\",","     \"text\": [","      \"Sample dataset generated and saved as dataset_model1.csv\\n\"","     ]","    },","    {","     \"data\": {","      \"image/png\": \"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\",","      \"text/plain\": [","       \"\u003cFigure size 1000x600 with 1 Axes\u003e\"","      ]","     },","     \"metadata\": {},","     \"output_type\": \"display_data\"","    }","   ],","   \"source\": [","    \"import pandas as pd\\n\",","    \"import matplotlib.pyplot as plt\\n\",","    \"import numpy as np\\n\",","    \"from datetime import datetime, timedelta\\n\",","    \"\\n\",","    \"# Step 1: Generate sample data\\n\",","    \"def generate_sample_data():\\n\",","    \"    # Create sample data without using Pathway\\n\",","    \"    timestamps = [(datetime.now() + timedelta(hours=i)).strftime(\\\"%Y-%m-%d %H:%M:%S\\\") for i in range(24)]\\n\",","    \"    data = {\\n\",","    \"        \\\"timestamp\\\": timestamps * 5,\\n\",","    \"        \\\"space_id\\\": [i for i in range(1, 6) for _ in range(24)],\\n\",","    \"        \\\"occupancy\\\": np.random.uniform(0, 1, 24 * 5)\\n\",","    \"    }\\n\",","    \"    df = pd.DataFrame(data)\\n\",","    \"    df.to_csv(\\\"dataset_model1.csv\\\", index=False)\\n\",","    \"    return df\\n\",","    \"\\n\",","    \"# Generate sample data\\n\",","    \"df = generate_sample_data()\\n\",","    \"print(\\\"Sample dataset generated and saved as dataset_model1.csv\\\")\\n\",","    \"\\n\",","    \"# Step 2: Define pricing model\\n\",","    \"def baseline_model(occupancy):\\n\",","    \"    \\\"\\\"\\\"\\n\",","    \"    Model 1: Linear model based on occupancy.\\n\",","    \"    Price = Base Price + (Occupancy * Scaling Factor)\\n\",","    \"    \\\"\\\"\\\"\\n\",","    \"    base_price = 10.0\\n\",","    \"    scaling_factor = 5.0\\n\",","    \"    price = base_price + (occupancy * scaling_factor)\\n\",","    \"    return max(5.0, min(20.0, price))  # Cap price between $5 and $20\\n\",","    \"\\n\",","    \"# Step 4: Process data using pandas instead of Pathway\\n\",","    \"def run_pricing_pipeline():\\n\",","    \"    \\\"\\\"\\\"\\n\",","    \"    Process data and compute prices for Model 1 using pandas.\\n\",","    \"    Outputs results to output_prices_model1.csv.\\n\",","    \"    \\\"\\\"\\\"\\n\",","    \"    data = pd.read_csv(\\\"dataset_model1.csv\\\")\\n\",","    \"    \\n\",","    \"    # Apply pricing model\\n\",","    \"    data['price_model1'] = data['occupancy'].apply(baseline_model)\\n\",","    \"    \\n\",","    \"    # Select relevant columns\\n\",","    \"    prices = data[['space_id', 'timestamp', 'price_model1']]\\n\",","    \"    \\n\",","    \"    prices.to_csv(\\\"output_prices_model1.csv\\\", index=False)\\n\",","    \"    return prices\\n\",","    \"\\n\",","    \"# Step 5: Visualization with Matplotlib\\n\",","    \"def plot_prices():\\n\",","    \"    \\\"\\\"\\\"\\n\",","    \"    Create Matplotlib plot for Model 1 prices for space_id=1.\\n\",","    \"    \\\"\\\"\\\"\\n\",","    \"    df_out = pd.read_csv(\\\"output_prices_model1.csv\\\")\\n\",","    \"    df_out['timestamp'] = pd.to_datetime(df_out['timestamp'])\\n\",","    \"    \\n\",","    \"    df_space1 = df_out[df_out[\\\"space_id\\\"] == 1]\\n\",","    \"    \\n\",","    \"    plt.figure(figsize=(10, 6))\\n\",","    \"    plt.plot(df_space1[\\\"timestamp\\\"], df_space1[\\\"price_model1\\\"], label=\\\"Model 1 (Linear)\\\", color=\\\"blue\\\")\\n\",","    \"    plt.title(\\\"Parking Space 1 Prices Over Time (Model 1)\\\")\\n\",","    \"    plt.xlabel(\\\"Timestamp\\\")\\n\",","    \"    plt.ylabel(\\\"Price ($)\\\")\\n\",","    \"    plt.legend()\\n\",","    \"    plt.grid(True)\\n\",","    \"    plt.xticks(rotation=45)\\n\",","    \"    plt.tight_layout()\\n\",","    \"    plt.show()\\n\",","    \"\\n\",","    \"# Step 6: Run the pipeline and visualize\\n\",","    \"if __name__ == \\\"__main__\\\":\\n\",","    \"    run_pricing_pipeline()\\n\",","    \"    plot_prices()\"","   ]","  },","  {","   \"cell_type\": \"markdown\",","   \"id\": \"1fddd4f2-c1bb-466c-b314-bd4490a9951b\",","   \"metadata\": {},","   \"source\": [","    \"Model 2: Enhanced Model\"","   ]","  },","  {","   \"cell_type\": \"code\",","   \"execution_count\": 8,","   \"id\": \"34684ea6-0536-40c2-84e5-776462e853ea\",","   \"metadata\": {},","   \"outputs\": [","    {","     \"name\": \"stdout\",","     \"output_type\": \"stream\",","     \"text\": [","      \"Mean Squared Error: 425.15\\n\",","      \"R2 Score: 0.31\\n\",","      \"\\n\",","      \"Feature Importance:\\n\",","      \"                  Feature  Importance\\n\",","      \"3                    Hour    0.464650\\n\",","      \"4               DayOfWeek    0.176654\\n\",","      \"6             QueueLength    0.138807\\n\",","      \"0             VehicleType    0.088075\\n\",","      \"5               IsWeekend    0.085008\\n\",","      \"1  TrafficConditionNearby    0.035556\\n\",","      \"2            IsSpecialDay    0.011251\\n\",","      \"\\n\",","      \"Predicted Occupancy Rate for example: 42.62%\\n\"","     ]","    }","   ],","   \"source\": [","    \"# Load the dataset from the correct path\\n\",","    \"df = pd.read_csv(r\\\"C:\\\\Users\\\\boopa\\\\Downloads\\\\dataset.csv\\\")\\n\",","    \"\\n\",","    \"# Combine date and time into a single datetime column\\n\",","    \"df['LastUpdated'] = pd.to_datetime(df['LastUpdatedDate'] + ' ' + df['LastUpdatedTime'], format='%d-%m-%Y %H:%M:%S')\\n\",","    \"\\n\",","    \"# Extract time-based features\\n\",","    \"df['Hour'] = df['LastUpdated'].dt.hour\\n\",","    \"df['DayOfWeek'] = df['LastUpdated'].dt.dayofweek\\n\",","    \"df['IsWeekend'] = df['DayOfWeek'].isin([5, 6]).astype(int)\\n\",","    \"\\n\",","    \"# Calculate OccupancyRate\\n\",","    \"df['OccupancyRate'] = (df['Occupancy'] / df['Capacity']) * 100\\n\",","    \"\\n\",","    \"# Encode categorical variables\\n\",","    \"le_vehicle = LabelEncoder()\\n\",","    \"le_traffic = LabelEncoder()\\n\",","    \"df['VehicleType'] = le_vehicle.fit_transform(df['VehicleType'])\\n\",","    \"df['TrafficConditionNearby'] = le_traffic.fit_transform(df['TrafficConditionNearby'])\\n\",","    \"\\n\",","    \"# Select features and target\\n\",","    \"features = ['VehicleType', 'TrafficConditionNearby', 'IsSpecialDay', 'Hour', 'DayOfWeek', 'IsWeekend', 'QueueLength']\\n\",","    \"X = df[features]\\n\",","    \"y = df['OccupancyRate']\\n\",","    \"\\n\",","    \"# Split the data\\n\",","    \"X_train, X_test, y_train, y_test = train_test_split(X, y, test_size=0.2, random_state=42)\\n\",","    \"\\n\",","    \"# Initialize and train the Random Forest model\\n\",","    \"model = RandomForestRegressor(n_estimators=100, random_state=42)\\n\",","    \"model.fit(X_train, y_train)\\n\",","    \"\\n\",","    \"# Make predictions\\n\",","    \"y_pred = model.predict(X_test)\\n\",","    \"\\n\",","    \"# Evaluate the model\\n\",","    \"mse = mean_squared_error(y_test, y_pred)\\n\",","    \"r2 = r2_score(y_test, y_pred)\\n\",","    \"\\n\",","    \"# Print evaluation metrics\\n\",","    \"print(f'Mean Squared Error: {mse:.2f}')\\n\",","    \"print(f'R2 Score: {r2:.2f}')\\n\",","    \"\\n\",","    \"# Feature importance\\n\",","    \"feature_importance = pd.DataFrame({\\n\",","    \"    'Feature': features,\\n\",","    \"    'Importance': model.feature_importances_\\n\",","    \"}).sort_values(by='Importance', ascending=False)\\n\",","    \"\\n\",","    \"print('\\\\nFeature Importance:')\\n\",","    \"print(feature_importance)\\n\",","    \"\\n\",","    \"# Example prediction for a new data point\\n\",","    \"example = pd.DataFrame([{\\n\",","    \"    'VehicleType': le_vehicle.transform(['car'])[0],\\n\",","    \"    'TrafficConditionNearby': le_traffic.transform(['average'])[0],\\n\",","    \"    'IsSpecialDay': 0,\\n\",","    \"    'Hour': 12,\\n\",","    \"    'DayOfWeek': 2,\\n\",","    \"    'IsWeekend': 0,\\n\",","    \"    'QueueLength': 5\\n\",","    \"}])\\n\",","    \"predicted_occupancy = model.predict(example)[0]\\n\",","    \"print(f'\\\\nPredicted Occupancy Rate for example: {predicted_occupancy:.2f}%')\"","   ]","  },","  {","   \"cell_type\": \"code\",","   \"execution_count\": null,","   \"id\": \"24e01b4a-97e2-4451-a5da-734c7b5cca20\",","   \"metadata\": {},","   \"outputs\": [],","   \"source\": []","  }"," ],"," \"metadata\": {","  \"kernelspec\": {","   \"display_name\": \"tfkernel\",","   \"language\": \"python\",","   \"name\": \"tfkernel\"","  },","  \"language_info\": {","   \"codemirror_mode\": {","    \"name\": \"ipython\",","    \"version\": 3","   },","   \"file_extension\": \".py\",","   \"mimetype\": \"text/x-python\",","   \"name\": \"python\",","   \"nbconvert_exporter\": \"python\",","   \"pygments_lexer\": \"ipython3\",","   \"version\": \"3.11.8\"","  }"," },"," \"nbformat\": 4,"," \"nbformat_minor\": 5","}"],"stylingDirectives":null,"colorizedLines":null,"csv":null,"csvError":null,"dependabotInfo":{"showConfigurationBanner":false,"configFilePath":null,"networkDependabotPath":"/Kaviyadharsheni18/myprojects/network/updates","dismissConfigurationNoticePath":"/settings/dismiss-notice/dependabot_configuration_notice","configurationNoticeDismissed":false},"displayName":"dpurbanpricing.ipynb","displayUrl":"https://notebooks.githubusercontent.com/view/ipynb?browser=chrome\u0026bypass_fastly=true\u0026color_mode=auto\u0026commit=f3c27508a89e7d81e37bf17f9e946174d92fcde6\u0026device=unknown_device\u0026docs_host=https%3A%2F%2Fdocs.github.com\u0026enc_url=68747470733a2f2f7261772e67697468756275736572636f6e74656e742e636f6d2f4b6176697961646861727368656e6931382f6d7970726f6a656374732f663363323735303861383965376438316533376266313766396539343631373464393266636465362f6470757262616e70726963696e672e6970796e62\u0026logged_in=true\u0026nwo=Kaviyadharsheni18%2Fmyprojects\u0026path=dpurbanpricing.ipynb\u0026platform=windows\u0026repository_id=968522345\u0026repository_type=Repository\u0026version=138","headerInfo":{"blobSize":"73.4 KB","deleteTooltip":"Delete this file","editTooltip":"Edit this file","ghDesktopPath":"https://desktop.github.com","isGitLfs":false,"onBranch":true,"shortPath":"0dae5de","siteNavLoginPath":"/login?return_to=https%3A%2F%2Fgithub.com%2FKaviyadharsheni18%2Fmyprojects%2Fblob%2Fmain%2Fdpurbanpricing.ipynb","isCSV":false,"isRichtext":false,"toc":null,"lineInfo":{"truncatedLoc":"272","truncatedSloc":"272"},"mode":"file"},"image":false,"isCodeownersFile":null,"isPlain":false,"isValidLegacyIssueTemplate":false,"issueTemplate":null,"discussionTemplate":null,"language":"Jupyter Notebook","languageID":185,"large":false,"planSupportInfo":{"repoIsFork":null,"repoOwnedByCurrentUser":null,"requestFullPath":"/Kaviyadharsheni18/myprojects/blob/main/dpurbanpricing.ipynb","showFreeOrgGatedFeatureMessage":null,"showPlanSupportBanner":null,"upgradeDataAttributes":null,"upgradePath":null},"publishBannersInfo":{"dismissActionNoticePath":"/settings/dismiss-notice/publish_action_from_dockerfile","releasePath":"/Kaviyadharsheni18/myprojects/releases/new?marketplace=true","showPublishActionBanner":false},"rawBlobUrl":"https://github.com/Kaviyadharsheni18/myprojects/raw/refs/heads/main/dpurbanpricing.ipynb","renderImageOrRaw":false,"richText":null,"renderedFileInfo":{"identityUUID":"91c3202f-be3a-4296-a44b-14d16357af65","renderFileType":"ipynb","size":75210},"shortPath":null,"symbolsEnabled":true,"tabSize":8,"topBannersInfo":{"overridingGlobalFundingFile":false,"globalPreferredFundingPath":null,"showInvalidCitationWarning":false,"citationHelpUrl":"https://docs.github.com/github/creating-cloning-and-archiving-repositories/creating-a-repository-on-github/about-citation-files","actionsOnboardingTip":null},"truncated":false,"viewable":true,"workflowRedirectUrl":null,"symbols":{"timed_out":false,"not_analyzed":true,"symbols":[]}},"copilotInfo":null,"copilotAccessAllowed":true,"modelsAccessAllowed":false,"modelsRepoIntegrationEnabled":false,"isMarketplaceEnabled":true,"csrf_tokens":{"/Kaviyadharsheni18/myprojects/branches":{"post":"2alyd8u4SpKlNdf_LmAWGHaT30OUx0ddgkDHtvewHH4Er7BRHc63y6b-LfTwl4IOH5qDDoJl20K_kUAwRjgtFw"},"/repos/preferences":{"post":"MqEHCB3VvW3PZmFT2w5wKMoc_oIbQ_RKxKt5IpboLa3tmXi07fEQhnFZEhWwxcsAhW0BYkazmwarPoqPR7JS2A"}}},"title":"myprojects/dpurbanpricing.ipynb at main · Kaviyadharsheni18/myprojects","appPayload":{"helpUrl":"https://docs.github.com","findFileWorkerPath":"/assets-cdn/worker/find-file-worker-263cab1760dd.js","findInFileWorkerPath":"/assets-cdn/worker/find-in-file-worker-41d93d549163.js","githubDevUrl":"https://github.dev/","enabled_features":{"code_nav_ui_events":false,"react_blob_overlay":true,"accessible_code_button":true}}}</script>
  <div data-target="react-app.reactRoot"><style data-styled="true" data-styled-version="5.3.11">.gISSDQ{width:100%;}/*!sc*/
@media screen and (min-width:544px){.gISSDQ{width:100%;}}/*!sc*/
@media screen and (min-width:768px){.gISSDQ{width:auto;}}/*!sc*/
.bHLmSv{position:absolute;inset:0 -2px;cursor:col-resize;background-color:transparent;-webkit-transition-delay:0.1s;transition-delay:0.1s;}/*!sc*/
.bHLmSv:hover{background-color:var(--bgColor-neutral-muted,var(--color-neutral-muted,rgba(175,184,193,0.2)));}/*!sc*/
.leYMvG{margin-left:auto;margin-right:auto;-webkit-flex-direction:column;-ms-flex-direction:column;flex-direction:column;padding-bottom:40px;max-width:100%;margin-top:0;}/*!sc*/
.KMPzq{display:inherit;}/*!sc*/
.hKaEJF{display:block;margin-right:8px;}/*!sc*/
@media screen and (min-width:1360px){.hKaEJF{display:block;}}/*!sc*/
.dmxRgG[data-size="medium"]{display:-webkit-box;display:-webkit-flex;display:-ms-flexbox;display:flex;}/*!sc*/
.dmxRgG[data-size="medium"] svg{color:var(--fgColor-muted,var(--color-fg-muted,#656d76));}/*!sc*/
.dmxRgG[data-size="medium"] > span{width:inherit;}/*!sc*/
.gUkoLg{-webkit-box-pack:center;-webkit-justify-content:center;-ms-flex-pack:center;justify-content:center;}/*!sc*/
.bZBlpz{display:-webkit-box;display:-webkit-flex;display:-ms-flexbox;display:flex;width:100%;}/*!sc*/
.lhTYNA{margin-right:4px;color:var(--fgColor-muted,var(--color-fg-muted,#656d76));}/*!sc*/
.dbrgmi{font-size:14px;min-width:0;max-width:125px;overflow:hidden;text-overflow:ellipsis;white-space:nowrap;}/*!sc*/
.bmcJak{min-width:0;}/*!sc*/
.cEytCf{display:-webkit-box;display:-webkit-flex;display:-ms-flexbox;display:flex;-webkit-flex-direction:row;-ms-flex-direction:row;flex-direction:row;font-size:16px;min-width:0;-webkit-flex-shrink:1;-ms-flex-negative:1;flex-shrink:1;-webkit-flex-wrap:wrap;-ms-flex-wrap:wrap;flex-wrap:wrap;max-width:100%;-webkit-align-items:center;-webkit-box-align:center;-ms-flex-align:center;align-items:center;}/*!sc*/
.fzFXnm{max-width:100%;}/*!sc*/
.iMnkmv{max-width:100%;list-style:none;display:inline-block;}/*!sc*/
.ghzDag{display:inline-block;max-width:100%;}/*!sc*/
.kHuKdh{font-weight:600;}/*!sc*/
.hzJBof{padding-left:4px;padding-right:4px;font-weight:400;color:var(--fgColor-muted,var(--color-fg-muted,#656d76));font-size:16px;}/*!sc*/
.jGhzSQ{font-weight:600;display:inline-block;max-width:100%;font-size:16px;}/*!sc*/
.fjrFuv[data-size="medium"][data-no-visuals]{display:none;}/*!sc*/
.dJxjrT{margin-left:16px;margin-right:16px;}/*!sc*/
.ldRxiI{display:-webkit-box;display:-webkit-flex;display:-ms-flexbox;display:flex;-webkit-flex-direction:row;-ms-flex-direction:row;flex-direction:row;}/*!sc*/
.fVkfyA{width:100%;height:-webkit-fit-content;height:-moz-fit-content;height:fit-content;min-width:0;margin-right:0;}/*!sc*/
.gNAmSV{height:40px;padding-left:4px;padding-bottom:16px;}/*!sc*/
.jdLMhu{top:0px;z-index:4;background:var(--bgColor-default,var(--color-canvas-default));position:-webkit-sticky;position:sticky;}/*!sc*/
.hqwSEx{display:none;min-width:0;padding-top:8px;padding-bottom:8px;}/*!sc*/
.fHind{display:-webkit-box;display:-webkit-flex;display:-ms-flexbox;display:flex;-webkit-flex-direction:row;-ms-flex-direction:row;flex-direction:row;font-size:14px;min-width:0;-webkit-flex-shrink:1;-ms-flex-negative:1;flex-shrink:1;-webkit-flex-wrap:wrap;-ms-flex-wrap:wrap;flex-wrap:wrap;max-width:100%;-webkit-align-items:center;-webkit-box-align:center;-ms-flex-align:center;align-items:center;}/*!sc*/
.oDtgN{padding-left:4px;padding-right:4px;font-weight:400;color:var(--fgColor-muted,var(--color-fg-muted,#656d76));font-size:14px;}/*!sc*/
.dnZoUW{font-weight:600;display:inline-block;max-width:100%;font-size:14px;}/*!sc*/
.gFKFyc{border-radius:6px 6px 0px 0px;}/*!sc*/
.lefpaC linkButtonSx:hover:not([disabled]){-webkit-text-decoration:none;text-decoration:none;}/*!sc*/
.lefpaC linkButtonSx:focus:not([disabled]){-webkit-text-decoration:none;text-decoration:none;}/*!sc*/
.lefpaC linkButtonSx:active:not([disabled]){-webkit-text-decoration:none;text-decoration:none;}/*!sc*/
.ivobqY[data-size="small"][data-no-visuals]{border-top-left-radius:0;border-bottom-left-radius:0;}/*!sc*/
.iCOsHh[data-size="small"][data-no-visuals]:hover:not([disabled]){-webkit-text-decoration:none;text-decoration:none;}/*!sc*/
.iCOsHh[data-size="small"][data-no-visuals]:focus:not([disabled]){-webkit-text-decoration:none;text-decoration:none;}/*!sc*/
.iCOsHh[data-size="small"][data-no-visuals]:active:not([disabled]){-webkit-text-decoration:none;text-decoration:none;}/*!sc*/
.hGyMdv{border:1px solid;border-top:none;border-color:var(--borderColor-default,var(--color-border-default,#d0d7de));border-radius:0px 0px 6px 6px;min-width:273px;}/*!sc*/
.iWAocR{background-color:var(--bgColor-default,var(--color-canvas-default));border:0px;border-width:0;border-radius:0px 0px 6px 6px;padding:0;min-width:0;margin-top:46px;overflow:auto;}/*!sc*/
.cCoXib{position:fixed;top:0;right:0;height:100%;width:15px;-webkit-transition:-webkit-transform 0.3s;-webkit-transition:transform 0.3s;transition:transform 0.3s;z-index:1;}/*!sc*/
.cCoXib:hover{-webkit-transform:scaleX(1.5);-ms-transform:scaleX(1.5);transform:scaleX(1.5);}/*!sc*/
.fgsa-DI{display:-webkit-box;display:-webkit-flex;display:-ms-flexbox;display:flex;-webkit-flex-direction:column;-ms-flex-direction:column;flex-direction:column;-webkit-align-items:center;-webkit-box-align:center;-ms-flex-align:center;align-items:center;padding-top:16px;padding-bottom:16px;}/*!sc*/
data-styled.g1[id="Box-sc-g0xbh4-0"]{content:"gISSDQ,bHLmSv,leYMvG,KMPzq,hKaEJF,dmxRgG,gUkoLg,bZBlpz,lhTYNA,dbrgmi,bmcJak,cEytCf,fzFXnm,iMnkmv,ghzDag,kHuKdh,hzJBof,jGhzSQ,fjrFuv,dJxjrT,ldRxiI,fVkfyA,gNAmSV,jdLMhu,hqwSEx,fHind,oDtgN,dnZoUW,gFKFyc,lefpaC,ivobqY,iCOsHh,hGyMdv,iWAocR,cCoXib,fgsa-DI,"}/*!sc*/
.hWlpPn{position:relative;display:inline-block;}/*!sc*/
.hWlpPn::after{position:absolute;z-index:1000000;display:none;padding:0.5em 0.75em;font:normal normal 11px/1.5 -apple-system,BlinkMacSystemFont,"Segoe UI","Noto Sans",Helvetica,Arial,sans-serif,"Apple Color Emoji","Segoe UI Emoji";-webkit-font-smoothing:subpixel-antialiased;color:var(--tooltip-fgColor,var(--fgColor-onEmphasis,var(--color-fg-on-emphasis,#ffffff)));text-align:center;-webkit-text-decoration:none;text-decoration:none;text-shadow:none;text-transform:none;-webkit-letter-spacing:normal;-moz-letter-spacing:normal;-ms-letter-spacing:normal;letter-spacing:normal;word-wrap:break-word;white-space:pre;pointer-events:none;content:attr(aria-label);background:var(--tooltip-bgColor,var(--bgColor-emphasis,var(--color-neutral-emphasis-plus,#24292f)));border-radius:6px;opacity:0;}/*!sc*/
@-webkit-keyframes tooltip-appear{from{opacity:0;}to{opacity:1;}}/*!sc*/
@keyframes tooltip-appear{from{opacity:0;}to{opacity:1;}}/*!sc*/
.hWlpPn:hover::after,.hWlpPn:active::after,.hWlpPn:focus::after,.hWlpPn:focus-within::after{display:inline-block;-webkit-text-decoration:none;text-decoration:none;-webkit-animation-name:tooltip-appear;animation-name:tooltip-appear;-webkit-animation-duration:0.1s;animation-duration:0.1s;-webkit-animation-fill-mode:forwards;animation-fill-mode:forwards;-webkit-animation-timing-function:ease-in;animation-timing-function:ease-in;-webkit-animation-delay:0s;animation-delay:0s;}/*!sc*/
.hWlpPn.tooltipped-no-delay:hover::after,.hWlpPn.tooltipped-no-delay:active::after,.hWlpPn.tooltipped-no-delay:focus::after,.hWlpPn.tooltipped-no-delay:focus-within::after{-webkit-animation-delay:0s;animation-delay:0s;}/*!sc*/
.hWlpPn.tooltipped-multiline:hover::after,.hWlpPn.tooltipped-multiline:active::after,.hWlpPn.tooltipped-multiline:focus::after,.hWlpPn.tooltipped-multiline:focus-within::after{display:table-cell;}/*!sc*/
.hWlpPn.tooltipped-s::after,.hWlpPn.tooltipped-se::after,.hWlpPn.tooltipped-sw::after{top:100%;right:50%;margin-top:6px;}/*!sc*/
.hWlpPn.tooltipped-se::after{right:auto;left:50%;margin-left:-16px;}/*!sc*/
.hWlpPn.tooltipped-sw::after{margin-right:-16px;}/*!sc*/
.hWlpPn.tooltipped-n::after,.hWlpPn.tooltipped-ne::after,.hWlpPn.tooltipped-nw::after{right:50%;bottom:100%;margin-bottom:6px;}/*!sc*/
.hWlpPn.tooltipped-ne::after{right:auto;left:50%;margin-left:-16px;}/*!sc*/
.hWlpPn.tooltipped-nw::after{margin-right:-16px;}/*!sc*/
.hWlpPn.tooltipped-s::after,.hWlpPn.tooltipped-n::after{-webkit-transform:translateX(50%);-ms-transform:translateX(50%);transform:translateX(50%);}/*!sc*/
.hWlpPn.tooltipped-w::after{right:100%;bottom:50%;margin-right:6px;-webkit-transform:translateY(50%);-ms-transform:translateY(50%);transform:translateY(50%);}/*!sc*/
.hWlpPn.tooltipped-e::after{bottom:50%;left:100%;margin-left:6px;-webkit-transform:translateY(50%);-ms-transform:translateY(50%);transform:translateY(50%);}/*!sc*/
.hWlpPn.tooltipped-multiline::after{width:-webkit-max-content;width:-moz-max-content;width:max-content;max-width:250px;word-wrap:break-word;white-space:pre-line;border-collapse:separate;}/*!sc*/
.hWlpPn.tooltipped-multiline.tooltipped-s::after,.hWlpPn.tooltipped-multiline.tooltipped-n::after{right:auto;left:50%;-webkit-transform:translateX(-50%);-ms-transform:translateX(-50%);transform:translateX(-50%);}/*!sc*/
.hWlpPn.tooltipped-multiline.tooltipped-w::after,.hWlpPn.tooltipped-multiline.tooltipped-e::after{right:100%;}/*!sc*/
.hWlpPn.tooltipped-align-right-2::after{right:0;margin-right:0;}/*!sc*/
.hWlpPn.tooltipped-align-left-2::after{left:0;margin-left:0;}/*!sc*/
data-styled.g5[id="Tooltip__TooltipBase-sc-17tf59c-0"]{content:"hWlpPn,"}/*!sc*/
</style><meta data-hydrostats="publish"/> <!-- --> <!-- --> <button hidden="" data-testid="header-permalink-button" data-hotkey-scope="read-only-cursor-text-area"></button><button hidden=""></button><div><div style="--spacing:var(--spacing-none)" class="prc-PageLayout-PageLayoutRoot-1zlEO"><div class="prc-PageLayout-PageLayoutWrapper-s2ao4" data-width="full"><div class="prc-PageLayout-PageLayoutContent-jzDMn"><div tabindex="0" class="Box-sc-g0xbh4-0 gISSDQ"><div class="prc-PageLayout-PaneWrapper-nGO0U ReposFileTreePane-module__Pane--wS7IV ReposFileTreePane-module__HideTree--zU_Nd ReposFileTreePane-module__HidePane--Gj4XZ" style="--offset-header:0px;--spacing-row:var(--spacing-none);--spacing-column:var(--spacing-none)" data-is-hidden="false" data-position="start" data-sticky="true"><div class="prc-PageLayout-HorizontalDivider-CYLp5 prc-PageLayout-PaneHorizontalDivider-4exOb" data-variant="none" data-position="start" style="--spacing-divider:var(--spacing-none);--spacing:var(--spacing-none)"></div><div class="prc-PageLayout-Pane-Vl5LI" data-resizable="true" style="--spacing:var(--spacing-none);--pane-min-width:256px;--pane-max-width:calc(100vw - var(--pane-max-width-diff));--pane-width-size:var(--pane-width-large);--pane-width:320px"></div><div class="prc-PageLayout-VerticalDivider-4A4Qm prc-PageLayout-PaneVerticalDivider-1c9vy" data-variant="none" data-position="start" style="--spacing:var(--spacing-none)"><div role="slider" aria-label="Draggable pane splitter" aria-valuemin="0" aria-valuemax="0" aria-valuenow="0" aria-valuetext="Pane width 0 pixels" tabindex="0" class="Box-sc-g0xbh4-0 bHLmSv"></div></div></div></div><div class="prc-PageLayout-ContentWrapper-b-QRo CodeView-module__SplitPageLayout_Content--qxR1C" data-is-hidden="false"><div class="prc-PageLayout-Content--F7-I" data-width="full" style="--spacing:var(--spacing-none)"><div data-selector="repos-split-pane-content" tabindex="0" class="Box-sc-g0xbh4-0 leYMvG"><div class="Box-sc-g0xbh4-0 KMPzq"><div class="container CodeViewHeader-module__Box--PofRM"><div class="px-3 pt-3 pb-0" id="StickyHeader"><div class="CodeViewHeader-module__Box_1--KpLzV"><div class="CodeViewHeader-module__Box_2--xzDOt"><div class="react-code-view-header-wrap--narrow CodeViewHeader-module__Box_3--WnQ2n"><div class="Box-sc-g0xbh4-0 hKaEJF"><h2 class="use-tree-pane-module__Heading--DlnQ2 prc-Heading-Heading-6CmGO"><button type="button" aria-label="Expand file tree" data-testid="expand-file-tree-button-mobile" class="prc-Button-ButtonBase-c50BI ExpandFileTreeButton-module__Button_1--M2dXF" data-loading="false" data-size="medium" data-variant="invisible" aria-describedby=":R5b9lab:-loading-announcement"><span data-component="buttonContent" data-align="center" class="prc-Button-ButtonContent-HKbr-"><span data-component="leadingVisual" class="prc-Button-Visual-2epfX prc-Button-VisualWrap-Db-eB"><svg aria-hidden="true" focusable="false" class="octicon octicon-arrow-left" viewBox="0 0 16 16" width="16" height="16" fill="currentColor" display="inline-block" overflow="visible" style="vertical-align:text-bottom"><path d="M7.78 12.53a.75.75 0 0 1-1.06 0L2.47 8.28a.75.75 0 0 1 0-1.06l4.25-4.25a.751.751 0 0 1 1.042.018.751.751 0 0 1 .018 1.042L4.81 7h7.44a.75.75 0 0 1 0 1.5H4.81l2.97 2.97a.75.75 0 0 1 0 1.06Z"></path></svg></span><span data-component="text" class="prc-Button-Label-pTQ3x">Files</span></span></button><button data-component="IconButton" type="button" data-testid="expand-file-tree-button" aria-expanded="false" aria-controls="repos-file-tree" class="prc-Button-ButtonBase-c50BI position-relative ExpandFileTreeButton-module__expandButton--gL4is ExpandFileTreeButton-module__filesButtonBreakpoint--WfX9t fgColor-muted prc-Button-IconButton-szpyj" data-loading="false" data-no-visuals="true" data-size="medium" data-variant="invisible" aria-describedby=":R1pb9lab:-loading-announcement" aria-labelledby=":R9b9lab:"><svg aria-hidden="true" focusable="false" class="octicon octicon-sidebar-collapse" viewBox="0 0 16 16" width="16" height="16" fill="currentColor" display="inline-block" overflow="visible" style="vertical-align:text-bottom"><path d="M6.823 7.823a.25.25 0 0 1 0 .354l-2.396 2.396A.25.25 0 0 1 4 10.396V5.604a.25.25 0 0 1 .427-.177Z"></path><path d="M1.75 0h12.5C15.216 0 16 .784 16 1.75v12.5A1.75 1.75 0 0 1 14.25 16H1.75A1.75 1.75 0 0 1 0 14.25V1.75C0 .784.784 0 1.75 0ZM1.5 1.75v12.5c0 .138.112.25.25.25H9.5v-13H1.75a.25.25 0 0 0-.25.25ZM11 14.5h3.25a.25.25 0 0 0 .25-.25V1.75a.25.25 0 0 0-.25-.25H11Z"></path></svg></button><span class="prc-TooltipV2-Tooltip-cYMVY" data-direction="se" aria-hidden="true" id=":R9b9lab:">Expand file tree</span><button hidden="" data-testid="" data-hotkey-scope="read-only-cursor-text-area"></button></h2></div><div class="react-code-view-header-mb--narrow mr-2"><button type="button" aria-haspopup="true" aria-expanded="false" tabindex="0" aria-label="main branch" data-testid="anchor-button" class="Box-sc-g0xbh4-0 dmxRgG prc-Button-ButtonBase-c50BI ref-selector-class" data-loading="false" data-size="medium" data-variant="default" aria-describedby="branch-picker-repos-header-ref-selector-wide-loading-announcement" id="branch-picker-repos-header-ref-selector-wide"><span data-component="buttonContent" class="Box-sc-g0xbh4-0 gUkoLg prc-Button-ButtonContent-HKbr-"><span data-component="text" class="prc-Button-Label-pTQ3x"><div class="Box-sc-g0xbh4-0 bZBlpz"><div class="Box-sc-g0xbh4-0 lhTYNA"><svg aria-hidden="true" focusable="false" class="octicon octicon-git-branch" viewBox="0 0 16 16" width="16" height="16" fill="currentColor" display="inline-block" overflow="visible" style="vertical-align:text-bottom"><path d="M9.5 3.25a2.25 2.25 0 1 1 3 2.122V6A2.5 2.5 0 0 1 10 8.5H6a1 1 0 0 0-1 1v1.128a2.251 2.251 0 1 1-1.5 0V5.372a2.25 2.25 0 1 1 1.5 0v1.836A2.493 2.493 0 0 1 6 7h4a1 1 0 0 0 1-1v-.628A2.25 2.25 0 0 1 9.5 3.25Zm-6 0a.75.75 0 1 0 1.5 0 .75.75 0 0 0-1.5 0Zm8.25-.75a.75.75 0 1 0 0 1.5.75.75 0 0 0 0-1.5ZM4.25 12a.75.75 0 1 0 0 1.5.75.75 0 0 0 0-1.5Z"></path></svg></div><div class="Box-sc-g0xbh4-0 dbrgmi ref-selector-button-text-container"><span class="Box-sc-g0xbh4-0 bmcJak prc-Text-Text-0ima0"> <!-- -->main</span></div></div></span><span data-component="trailingVisual" class="prc-Button-Visual-2epfX prc-Button-VisualWrap-Db-eB"><svg aria-hidden="true" focusable="false" class="octicon octicon-triangle-down" viewBox="0 0 16 16" width="16" height="16" fill="currentColor" display="inline-block" overflow="visible" style="vertical-align:text-bottom"><path d="m4.427 7.427 3.396 3.396a.25.25 0 0 0 .354 0l3.396-3.396A.25.25 0 0 0 11.396 7H4.604a.25.25 0 0 0-.177.427Z"></path></svg></span></span></button><button hidden="" data-hotkey-scope="read-only-cursor-text-area"></button></div><div class="react-code-view-header-mb--narrow CodeViewHeader-module__Box_5--KeXxF"><div class="Box-sc-g0xbh4-0 cEytCf"><nav data-testid="breadcrumbs" aria-labelledby="repos-header-breadcrumb-heading" id="repos-header-breadcrumb" class="Box-sc-g0xbh4-0 fzFXnm"><h2 class="sr-only ScreenReaderHeading-module__userSelectNone--vW4Cq prc-Heading-Heading-6CmGO" data-testid="screen-reader-heading" id="repos-header-breadcrumb-heading">Breadcrumbs</h2><ol class="Box-sc-g0xbh4-0 iMnkmv"><li class="Box-sc-g0xbh4-0 ghzDag"><a class="Box-sc-g0xbh4-0 kHuKdh prc-Link-Link-85e08" sx="[object Object]" data-testid="breadcrumbs-repo-link" href="/Kaviyadharsheni18/myprojects/tree/main" data-discover="true">myprojects</a></li></ol></nav><div data-testid="breadcrumbs-filename" class="Box-sc-g0xbh4-0 ghzDag"><span class="Box-sc-g0xbh4-0 hzJBof prc-Text-Text-0ima0" aria-hidden="true">/</span><h1 class="Box-sc-g0xbh4-0 jGhzSQ prc-Heading-Heading-6CmGO" tabindex="-1" id="file-name-id">dpurbanpricing.ipynb</h1></div><button data-component="IconButton" type="button" class="prc-Button-ButtonBase-c50BI ml-2 prc-Button-IconButton-szpyj" data-loading="false" data-no-visuals="true" data-size="small" data-variant="invisible" aria-describedby=":R3vb9lab:-loading-announcement" aria-labelledby=":Rfb9lab:"><svg aria-hidden="true" focusable="false" class="octicon octicon-copy" viewBox="0 0 16 16" width="16" height="16" fill="currentColor" display="inline-block" overflow="visible" style="vertical-align:text-bottom"><path d="M0 6.75C0 5.784.784 5 1.75 5h1.5a.75.75 0 0 1 0 1.5h-1.5a.25.25 0 0 0-.25.25v7.5c0 .138.112.25.25.25h7.5a.25.25 0 0 0 .25-.25v-1.5a.75.75 0 0 1 1.5 0v1.5A1.75 1.75 0 0 1 9.25 16h-7.5A1.75 1.75 0 0 1 0 14.25Z"></path><path d="M5 1.75C5 .784 5.784 0 6.75 0h7.5C15.216 0 16 .784 16 1.75v7.5A1.75 1.75 0 0 1 14.25 11h-7.5A1.75 1.75 0 0 1 5 9.25Zm1.75-.25a.25.25 0 0 0-.25.25v7.5c0 .138.112.25.25.25h7.5a.25.25 0 0 0 .25-.25v-7.5a.25.25 0 0 0-.25-.25Z"></path></svg></button><span class="CopyToClipboardButton-module__tooltip--Dq1IB prc-TooltipV2-Tooltip-cYMVY" data-direction="nw" aria-label="Copy path" aria-hidden="true" id=":Rfb9lab:">Copy path</span></div></div></div><div class="react-code-view-header-element--wide"><div class="CodeViewHeader-module__Box_7--FZfkg"><div class="d-flex gap-2"> <div><div class="Box-sc-g0xbh4-0 CodeViewHeader-module__FileResultsList--bglyC FileResultsList-module__Box_1--ZnWjQ"><span class="FileResultsList-module__FilesSearchBox--J5FtW FilesSearchBox-module__TextInput--LKpMn TextInput-wrapper prc-components-TextInputWrapper-i1ofR prc-components-TextInputBaseWrapper-ueK9q" data-leading-visual="true" data-trailing-visual="true" aria-busy="false"><span class="TextInput-icon" id=":R2phj9lab:" aria-hidden="true"><svg aria-hidden="true" focusable="false" class="octicon octicon-search" viewBox="0 0 16 16" width="16" height="16" fill="currentColor" display="inline-block" overflow="visible" style="vertical-align:text-bottom"><path d="M10.68 11.74a6 6 0 0 1-7.922-8.982 6 6 0 0 1 8.982 7.922l3.04 3.04a.749.749 0 0 1-.326 1.275.749.749 0 0 1-.734-.215ZM11.5 7a4.499 4.499 0 1 0-8.997 0A4.499 4.499 0 0 0 11.5 7Z"></path></svg></span><input type="text" aria-label="Go to file" role="combobox" aria-controls="file-results-list" aria-expanded="false" aria-haspopup="dialog" autoCorrect="off" spellcheck="false" placeholder="Go to file" aria-describedby=":R2phj9lab: :R2phj9labH1:" data-component="input" class="prc-components-Input-Ic-y8" value=""/><span class="TextInput-icon" id=":R2phj9labH1:" aria-hidden="true"><div class="FilesSearchBox-module__Box--Ye6rL"><kbd>t</kbd></div></span></span></div><button hidden="" data-testid="" data-hotkey-scope="read-only-cursor-text-area"></button><button hidden=""></button></div><button type="button" class="Box-sc-g0xbh4-0 fjrFuv prc-Button-ButtonBase-c50BI NavigationMenu-module__Button--SJihq" data-loading="false" data-no-visuals="true" data-size="medium" data-variant="default" aria-describedby=":R1ahj9lab:-loading-announcement"><span data-component="buttonContent" class="Box-sc-g0xbh4-0 gUkoLg prc-Button-ButtonContent-HKbr-"><span data-component="text" class="prc-Button-Label-pTQ3x">Blame</span></span></button><button hidden="" data-testid="" data-hotkey-scope="read-only-cursor-text-area"></button><button data-component="IconButton" type="button" data-testid="more-file-actions-button-nav-menu-wide" aria-haspopup="true" aria-expanded="false" tabindex="0" class="prc-Button-ButtonBase-c50BI js-blob-dropdown-click NavigationMenu-module__IconButton--NqJ_L prc-Button-IconButton-szpyj" data-loading="false" data-no-visuals="true" data-size="medium" data-variant="default" aria-describedby=":Rihj9lab:-loading-announcement" aria-labelledby=":Rfihj9lab:" id=":Rihj9lab:"><svg aria-hidden="true" focusable="false" class="octicon octicon-kebab-horizontal" viewBox="0 0 16 16" width="16" height="16" fill="currentColor" display="inline-block" overflow="visible" style="vertical-align:text-bottom"><path d="M8 9a1.5 1.5 0 1 0 0-3 1.5 1.5 0 0 0 0 3ZM1.5 9a1.5 1.5 0 1 0 0-3 1.5 1.5 0 0 0 0 3Zm13 0a1.5 1.5 0 1 0 0-3 1.5 1.5 0 0 0 0 3Z"></path></svg></button><span class="prc-TooltipV2-Tooltip-cYMVY" data-direction="nw" aria-hidden="true" id=":Rfihj9lab:">More file actions</span> </div></div></div><div class="react-code-view-header-element--narrow"><div class="CodeViewHeader-module__Box_7--FZfkg"><div class="d-flex gap-2"> <button type="button" class="Box-sc-g0xbh4-0 fjrFuv prc-Button-ButtonBase-c50BI NavigationMenu-module__Button--SJihq" data-loading="false" data-no-visuals="true" data-size="medium" data-variant="default" aria-describedby=":R1ahr9lab:-loading-announcement"><span data-component="buttonContent" class="Box-sc-g0xbh4-0 gUkoLg prc-Button-ButtonContent-HKbr-"><span data-component="text" class="prc-Button-Label-pTQ3x">Blame</span></span></button><button hidden="" data-testid="" data-hotkey-scope="read-only-cursor-text-area"></button><button data-component="IconButton" type="button" data-testid="more-file-actions-button-nav-menu-narrow" aria-haspopup="true" aria-expanded="false" tabindex="0" class="prc-Button-ButtonBase-c50BI js-blob-dropdown-click NavigationMenu-module__IconButton--NqJ_L prc-Button-IconButton-szpyj" data-loading="false" data-no-visuals="true" data-size="medium" data-variant="default" aria-describedby=":Rihr9lab:-loading-announcement" aria-labelledby=":Rfihr9lab:" id=":Rihr9lab:"><svg aria-hidden="true" focusable="false" class="octicon octicon-kebab-horizontal" viewBox="0 0 16 16" width="16" height="16" fill="currentColor" display="inline-block" overflow="visible" style="vertical-align:text-bottom"><path d="M8 9a1.5 1.5 0 1 0 0-3 1.5 1.5 0 0 0 0 3ZM1.5 9a1.5 1.5 0 1 0 0-3 1.5 1.5 0 0 0 0 3Zm13 0a1.5 1.5 0 1 0 0-3 1.5 1.5 0 0 0 0 3Z"></path></svg></button><span class="prc-TooltipV2-Tooltip-cYMVY" data-direction="nw" aria-hidden="true" id=":Rfihr9lab:">More file actions</span> </div></div></div></div></div></div></div></div><div class="Box-sc-g0xbh4-0 dJxjrT react-code-view-bottom-padding"> <div class="BlobTopBanners-module__Box--g_bGk"></div> <!-- --> <!-- --> </div><div class="Box-sc-g0xbh4-0 dJxjrT"> <!-- --> <!-- --> <div class="d-flex flex-column border rounded-2 mb-3 pl-1"><div class="LatestCommit-module__Box--En0AE"><h2 class="sr-only ScreenReaderHeading-module__userSelectNone--vW4Cq prc-Heading-Heading-6CmGO" data-testid="screen-reader-heading">Latest commit</h2><div style="width:120px" class="Skeleton Skeleton--text" data-testid="loading"> </div><div class="d-flex flex-shrink-0 gap-2"><div data-testid="latest-commit-details" class="d-none d-sm-flex flex-items-center"></div><div class="d-flex gap-2"><h2 class="sr-only ScreenReaderHeading-module__userSelectNone--vW4Cq prc-Heading-Heading-6CmGO" data-testid="screen-reader-heading">History</h2><a href="/Kaviyadharsheni18/myprojects/commits/main/dpurbanpricing.ipynb" class="prc-Button-ButtonBase-c50BI d-none d-lg-flex LinkButton-module__code-view-link-button--xvCGA flex-items-center fgColor-default" data-loading="false" data-size="small" data-variant="invisible" aria-describedby=":R1bdal9lab:-loading-announcement"><span data-component="buttonContent" data-align="center" class="prc-Button-ButtonContent-HKbr-"><span data-component="leadingVisual" class="prc-Button-Visual-2epfX prc-Button-VisualWrap-Db-eB"><svg aria-hidden="true" focusable="false" class="octicon octicon-history" viewBox="0 0 16 16" width="16" height="16" fill="currentColor" display="inline-block" overflow="visible" style="vertical-align:text-bottom"><path d="m.427 1.927 1.215 1.215a8.002 8.002 0 1 1-1.6 5.685.75.75 0 1 1 1.493-.154 6.5 6.5 0 1 0 1.18-4.458l1.358 1.358A.25.25 0 0 1 3.896 6H.25A.25.25 0 0 1 0 5.75V2.104a.25.25 0 0 1 .427-.177ZM7.75 4a.75.75 0 0 1 .75.75v2.992l2.028.812a.75.75 0 0 1-.557 1.392l-2.5-1A.751.751 0 0 1 7 8.25v-3.5A.75.75 0 0 1 7.75 4Z"></path></svg></span><span data-component="text" class="prc-Button-Label-pTQ3x"><span class="fgColor-default">History</span></span></span></a><div class="d-sm-none"></div><div class="d-flex d-lg-none"><span role="tooltip" aria-label="History" id="history-icon-button-tooltip" class="Tooltip__TooltipBase-sc-17tf59c-0 hWlpPn tooltipped-n"><a aria-label="View commit history for this file." href="/Kaviyadharsheni18/myprojects/commits/main/dpurbanpricing.ipynb" class="prc-Button-ButtonBase-c50BI LinkButton-module__code-view-link-button--xvCGA flex-items-center fgColor-default" data-loading="false" data-size="small" data-variant="invisible" aria-describedby=":R6bdal9lab:-loading-announcement history-icon-button-tooltip"><span data-component="buttonContent" data-align="center" class="prc-Button-ButtonContent-HKbr-"><span data-component="leadingVisual" class="prc-Button-Visual-2epfX prc-Button-VisualWrap-Db-eB"><svg aria-hidden="true" focusable="false" class="octicon octicon-history" viewBox="0 0 16 16" width="16" height="16" fill="currentColor" display="inline-block" overflow="visible" style="vertical-align:text-bottom"><path d="m.427 1.927 1.215 1.215a8.002 8.002 0 1 1-1.6 5.685.75.75 0 1 1 1.493-.154 6.5 6.5 0 1 0 1.18-4.458l1.358 1.358A.25.25 0 0 1 3.896 6H.25A.25.25 0 0 1 0 5.75V2.104a.25.25 0 0 1 .427-.177ZM7.75 4a.75.75 0 0 1 .75.75v2.992l2.028.812a.75.75 0 0 1-.557 1.392l-2.5-1A.751.751 0 0 1 7 8.25v-3.5A.75.75 0 0 1 7.75 4Z"></path></svg></span></span></a></span></div></div></div></div></div><div class="Box-sc-g0xbh4-0 ldRxiI"><div class="Box-sc-g0xbh4-0 fVkfyA container"><div class="Box-sc-g0xbh4-0 gNAmSV react-code-size-details-banner"><div class="react-code-size-details-banner CodeSizeDetails-module__Box--QdxnQ"><div class="text-mono CodeSizeDetails-module__Box_1--_uFDs"><div data-testid="blob-size" class="CodeSizeDetails-module__Truncate_1--er0Uk prc-Truncate-Truncate-A9Wn6" data-inline="true" title="73.4 KB" style="--truncate-max-width:100%"><span>272 lines (272 loc) · 73.4 KB</span></div></div></div></div><div class="Box-sc-g0xbh4-0 jdLMhu react-blob-view-header-sticky" id="repos-sticky-header"><div class="BlobViewHeader-module__Box--pvsIA"><div class="react-blob-sticky-header"><div class="Box-sc-g0xbh4-0 hqwSEx"><div class="FileNameStickyHeader-module__Box_1--HSpOJ"><div class="FileNameStickyHeader-module__Box_2--_pDx6"><div class="FileNameStickyHeader-module__Box_3--AsYoJ"><button type="button" aria-haspopup="true" aria-expanded="false" tabindex="0" aria-label="main branch" data-testid="anchor-button" class="Box-sc-g0xbh4-0 dmxRgG prc-Button-ButtonBase-c50BI ref-selector-class" data-loading="false" data-size="medium" data-variant="default" aria-describedby="branch-picker-repos-header-ref-selector-loading-announcement" id="branch-picker-repos-header-ref-selector"><span data-component="buttonContent" class="Box-sc-g0xbh4-0 gUkoLg prc-Button-ButtonContent-HKbr-"><span data-component="text" class="prc-Button-Label-pTQ3x"><div class="Box-sc-g0xbh4-0 bZBlpz"><div class="Box-sc-g0xbh4-0 lhTYNA"><svg aria-hidden="true" focusable="false" class="octicon octicon-git-branch" viewBox="0 0 16 16" width="16" height="16" fill="currentColor" display="inline-block" overflow="visible" style="vertical-align:text-bottom"><path d="M9.5 3.25a2.25 2.25 0 1 1 3 2.122V6A2.5 2.5 0 0 1 10 8.5H6a1 1 0 0 0-1 1v1.128a2.251 2.251 0 1 1-1.5 0V5.372a2.25 2.25 0 1 1 1.5 0v1.836A2.493 2.493 0 0 1 6 7h4a1 1 0 0 0 1-1v-.628A2.25 2.25 0 0 1 9.5 3.25Zm-6 0a.75.75 0 1 0 1.5 0 .75.75 0 0 0-1.5 0Zm8.25-.75a.75.75 0 1 0 0 1.5.75.75 0 0 0 0-1.5ZM4.25 12a.75.75 0 1 0 0 1.5.75.75 0 0 0 0-1.5Z"></path></svg></div><div class="Box-sc-g0xbh4-0 dbrgmi ref-selector-button-text-container"><span class="Box-sc-g0xbh4-0 bmcJak prc-Text-Text-0ima0"> <!-- -->main</span></div></div></span><span data-component="trailingVisual" class="prc-Button-Visual-2epfX prc-Button-VisualWrap-Db-eB"><svg aria-hidden="true" focusable="false" class="octicon octicon-triangle-down" viewBox="0 0 16 16" width="16" height="16" fill="currentColor" display="inline-block" overflow="visible" style="vertical-align:text-bottom"><path d="m4.427 7.427 3.396 3.396a.25.25 0 0 0 .354 0l3.396-3.396A.25.25 0 0 0 11.396 7H4.604a.25.25 0 0 0-.177.427Z"></path></svg></span></span></button><button hidden="" data-hotkey-scope="read-only-cursor-text-area"></button></div><div class="FileNameStickyHeader-module__Box_4--IyPx8"><div class="Box-sc-g0xbh4-0 fHind"><nav data-testid="breadcrumbs" aria-labelledby="sticky-breadcrumb-heading" id="sticky-breadcrumb" class="Box-sc-g0xbh4-0 fzFXnm"><h2 class="sr-only ScreenReaderHeading-module__userSelectNone--vW4Cq prc-Heading-Heading-6CmGO" data-testid="screen-reader-heading" id="sticky-breadcrumb-heading">Breadcrumbs</h2><ol class="Box-sc-g0xbh4-0 iMnkmv"><li class="Box-sc-g0xbh4-0 ghzDag"><a class="Box-sc-g0xbh4-0 kHuKdh prc-Link-Link-85e08" sx="[object Object]" data-testid="breadcrumbs-repo-link" href="/Kaviyadharsheni18/myprojects/tree/main" data-discover="true">myprojects</a></li></ol></nav><div data-testid="breadcrumbs-filename" class="Box-sc-g0xbh4-0 ghzDag"><span class="Box-sc-g0xbh4-0 oDtgN prc-Text-Text-0ima0" aria-hidden="true">/</span><h1 class="Box-sc-g0xbh4-0 dnZoUW prc-Heading-Heading-6CmGO" tabindex="-1" id="sticky-file-name-id">dpurbanpricing.ipynb</h1></div></div></div></div><button type="button" class="prc-Button-ButtonBase-c50BI FileNameStickyHeader-module__Button--SaiiH FileNameStickyHeader-module__GoToTopButton--9lB4x" data-loading="false" data-size="small" data-variant="invisible" aria-describedby=":R4mfal9lab:-loading-announcement"><span data-component="buttonContent" data-align="center" class="prc-Button-ButtonContent-HKbr-"><span data-component="leadingVisual" class="prc-Button-Visual-2epfX prc-Button-VisualWrap-Db-eB"><svg aria-hidden="true" focusable="false" class="octicon octicon-arrow-up" viewBox="0 0 16 16" width="16" height="16" fill="currentColor" display="inline-block" overflow="visible" style="vertical-align:text-bottom"><path d="M3.47 7.78a.75.75 0 0 1 0-1.06l4.25-4.25a.75.75 0 0 1 1.06 0l4.25 4.25a.751.751 0 0 1-.018 1.042.751.751 0 0 1-1.042.018L9 4.81v7.44a.75.75 0 0 1-1.5 0V4.81L4.53 7.78a.75.75 0 0 1-1.06 0Z"></path></svg></span><span data-component="text" class="prc-Button-Label-pTQ3x">Top</span></span></button></div></div></div><div class="Box-sc-g0xbh4-0 gFKFyc BlobViewHeader-module__Box_1--PPihg"><h2 class="sr-only ScreenReaderHeading-module__userSelectNone--vW4Cq prc-Heading-Heading-6CmGO" data-testid="screen-reader-heading">File metadata and controls</h2><div class="BlobViewHeader-module__Box_2--G_jCG"><ul aria-label="File view" class="prc-SegmentedControl-SegmentedControl-e7570 BlobTabButtons-module__SegmentedControl--JMGov" data-size="small"><li class="prc-SegmentedControl-Item-7Aq6h" data-selected=""><button aria-current="true" class="prc-SegmentedControl-Button-ojWXD" type="button" style="--separator-color:transparent"><span class="prc-SegmentedControl-Content-gnQ4n segmentedControl-content"><div class="prc-SegmentedControl-Text-c5gSh segmentedControl-text" data-text="Preview">Preview</div></span></button></li><li class="prc-SegmentedControl-Item-7Aq6h"><button aria-current="false" class="prc-SegmentedControl-Button-ojWXD" type="button" style="--separator-color:var(--borderColor-default, var(--color-border-default, #d0d7de))"><span class="prc-SegmentedControl-Content-gnQ4n segmentedControl-content"><div class="prc-SegmentedControl-Text-c5gSh segmentedControl-text" data-text="Code">Code</div></span></button></li><li class="prc-SegmentedControl-Item-7Aq6h"><button aria-current="false" class="prc-SegmentedControl-Button-ojWXD" type="button" style="--separator-color:var(--borderColor-default, var(--color-border-default, #d0d7de))"><span class="prc-SegmentedControl-Content-gnQ4n segmentedControl-content"><div class="prc-SegmentedControl-Text-c5gSh segmentedControl-text" data-text="Blame">Blame</div></span></button></li></ul><button hidden="" data-testid="" data-hotkey-scope="read-only-cursor-text-area"></button><button hidden="" data-testid="" data-hotkey-scope="read-only-cursor-text-area"></button><button hidden="" data-testid="" data-hotkey-scope="read-only-cursor-text-area"></button><div class="react-code-size-details-in-header CodeSizeDetails-module__Box--QdxnQ"><div class="text-mono CodeSizeDetails-module__Box_1--_uFDs"><div data-testid="blob-size" class="CodeSizeDetails-module__Truncate_1--er0Uk prc-Truncate-Truncate-A9Wn6" data-inline="true" title="73.4 KB" style="--truncate-max-width:100%"><span>272 lines (272 loc) · 73.4 KB</span></div></div></div></div><div class="BlobViewHeader-module__Box_3--Kvpex"><div class="pr-0 prc-ButtonGroup-ButtonGroup-vcMeG"><div><button data-component="IconButton" type="button" data-testid="copilot-ask-menu" class="prc-Button-ButtonBase-c50BI AskCopilotButton-module__square--o8kDO prc-Button-IconButton-szpyj" data-loading="false" data-no-visuals="true" data-size="small" data-variant="default" aria-describedby="blob-view-header-copilot-icon-loading-announcement" aria-labelledby=":R2v6fal9lab:" id="blob-view-header-copilot-icon"><svg aria-hidden="true" focusable="false" class="octicon octicon-copilot" viewBox="0 0 16 16" width="16" height="16" fill="currentColor" display="inline-block" overflow="visible" style="vertical-align:text-bottom"><path d="M7.998 15.035c-4.562 0-7.873-2.914-7.998-3.749V9.338c.085-.628.677-1.686 1.588-2.065.013-.07.024-.143.036-.218.029-.183.06-.384.126-.612-.201-.508-.254-1.084-.254-1.656 0-.87.128-1.769.693-2.484.579-.733 1.494-1.124 2.724-1.261 1.206-.134 2.262.034 2.944.765.05.053.096.108.139.165.044-.057.094-.112.143-.165.682-.731 1.738-.899 2.944-.765 1.23.137 2.145.528 2.724 1.261.566.715.693 1.614.693 2.484 0 .572-.053 1.148-.254 1.656.066.228.098.429.126.612.012.076.024.148.037.218.924.385 1.522 1.471 1.591 2.095v1.872c0 .766-3.351 3.795-8.002 3.795Zm0-1.485c2.28 0 4.584-1.11 5.002-1.433V7.862l-.023-.116c-.49.21-1.075.291-1.727.291-1.146 0-2.059-.327-2.71-.991A3.222 3.222 0 0 1 8 6.303a3.24 3.24 0 0 1-.544.743c-.65.664-1.563.991-2.71.991-.652 0-1.236-.081-1.727-.291l-.023.116v4.255c.419.323 2.722 1.433 5.002 1.433ZM6.762 2.83c-.193-.206-.637-.413-1.682-.297-1.019.113-1.479.404-1.713.7-.247.312-.369.789-.369 1.554 0 .793.129 1.171.308 1.371.162.181.519.379 1.442.379.853 0 1.339-.235 1.638-.54.315-.322.527-.827.617-1.553.117-.935-.037-1.395-.241-1.614Zm4.155-.297c-1.044-.116-1.488.091-1.681.297-.204.219-.359.679-.242 1.614.091.726.303 1.231.618 1.553.299.305.784.54 1.638.54.922 0 1.28-.198 1.442-.379.179-.2.308-.578.308-1.371 0-.765-.123-1.242-.37-1.554-.233-.296-.693-.587-1.713-.7Z"></path><path d="M6.25 9.037a.75.75 0 0 1 .75.75v1.501a.75.75 0 0 1-1.5 0V9.787a.75.75 0 0 1 .75-.75Zm4.25.75v1.501a.75.75 0 0 1-1.5 0V9.787a.75.75 0 0 1 1.5 0Z"></path></svg></button><span class="prc-TooltipV2-Tooltip-cYMVY" data-direction="s" aria-hidden="true" id=":R2v6fal9lab:">Ask Copilot about this file</span></div><div></div></div><div class="react-blob-header-edit-and-raw-actions BlobViewHeader-module__Box_4--vFP89"><div class="prc-ButtonGroup-ButtonGroup-vcMeG"><div><a href="https://github.com/Kaviyadharsheni18/myprojects/raw/refs/heads/main/dpurbanpricing.ipynb" data-testid="raw-button" class="Box-sc-g0xbh4-0 lefpaC prc-Button-ButtonBase-c50BI BlobViewHeader-module__LinkButton--DMph4" data-loading="false" data-no-visuals="true" data-size="small" data-variant="default" aria-describedby=":R1b76fal9lab:-loading-announcement"><span data-component="buttonContent" class="Box-sc-g0xbh4-0 gUkoLg prc-Button-ButtonContent-HKbr-"><span data-component="text" class="prc-Button-Label-pTQ3x">Raw</span></span></a></div><div><button data-component="IconButton" type="button" data-testid="copy-raw-button" class="prc-Button-ButtonBase-c50BI prc-Button-IconButton-szpyj" data-loading="false" data-no-visuals="true" data-size="small" data-variant="default" aria-describedby=":R1mb76fal9lab:-loading-announcement" aria-labelledby=":R6b76fal9lab:"><svg aria-hidden="true" focusable="false" class="octicon octicon-copy" viewBox="0 0 16 16" width="16" height="16" fill="currentColor" display="inline-block" overflow="visible" style="vertical-align:text-bottom"><path d="M0 6.75C0 5.784.784 5 1.75 5h1.5a.75.75 0 0 1 0 1.5h-1.5a.25.25 0 0 0-.25.25v7.5c0 .138.112.25.25.25h7.5a.25.25 0 0 0 .25-.25v-1.5a.75.75 0 0 1 1.5 0v1.5A1.75 1.75 0 0 1 9.25 16h-7.5A1.75 1.75 0 0 1 0 14.25Z"></path><path d="M5 1.75C5 .784 5.784 0 6.75 0h7.5C15.216 0 16 .784 16 1.75v7.5A1.75 1.75 0 0 1 14.25 11h-7.5A1.75 1.75 0 0 1 5 9.25Zm1.75-.25a.25.25 0 0 0-.25.25v7.5c0 .138.112.25.25.25h7.5a.25.25 0 0 0 .25-.25v-7.5a.25.25 0 0 0-.25-.25Z"></path></svg></button><span class="prc-TooltipV2-Tooltip-cYMVY" data-direction="n" aria-hidden="true" id=":R6b76fal9lab:">Copy raw file</span></div><div><button data-component="IconButton" type="button" data-testid="download-raw-button" class="Box-sc-g0xbh4-0 ivobqY prc-Button-ButtonBase-c50BI prc-Button-IconButton-szpyj" data-loading="false" data-no-visuals="true" data-size="small" data-variant="default" aria-describedby=":Rfb76fal9lab:-loading-announcement" aria-labelledby=":R3b76fal9lab:"><svg aria-hidden="true" focusable="false" class="octicon octicon-download" viewBox="0 0 16 16" width="16" height="16" fill="currentColor" display="inline-block" overflow="visible" style="vertical-align:text-bottom"><path d="M2.75 14A1.75 1.75 0 0 1 1 12.25v-2.5a.75.75 0 0 1 1.5 0v2.5c0 .138.112.25.25.25h10.5a.25.25 0 0 0 .25-.25v-2.5a.75.75 0 0 1 1.5 0v2.5A1.75 1.75 0 0 1 13.25 14Z"></path><path d="M7.25 7.689V2a.75.75 0 0 1 1.5 0v5.689l1.97-1.969a.749.749 0 1 1 1.06 1.06l-3.25 3.25a.749.749 0 0 1-1.06 0L4.22 6.78a.749.749 0 1 1 1.06-1.06l1.97 1.969Z"></path></svg></button><span class="prc-TooltipV2-Tooltip-cYMVY" data-direction="n" aria-hidden="true" id=":R3b76fal9lab:">Download raw file</span></div></div><button hidden="" data-testid="raw-button-shortcut" data-hotkey-scope="read-only-cursor-text-area"></button><button hidden="" data-testid="copy-raw-button-shortcut" data-hotkey-scope="read-only-cursor-text-area"></button><button hidden="" data-testid="download-raw-button-shortcut" data-hotkey-scope="read-only-cursor-text-area"></button><a class="js-github-dev-shortcut d-none prc-Link-Link-85e08" href="https://github.dev/"></a><button hidden="" data-testid="" data-hotkey-scope="read-only-cursor-text-area"></button><a class="js-github-dev-new-tab-shortcut d-none prc-Link-Link-85e08" href="https://github.dev/" target="_blank"></a><button hidden="" data-testid="" data-hotkey-scope="read-only-cursor-text-area"></button><div class="prc-ButtonGroup-ButtonGroup-vcMeG"><div><a sx="[object Object]" data-component="IconButton" type="button" data-testid="edit-button" class="Box-sc-g0xbh4-0 iCOsHh prc-Button-ButtonBase-c50BI BlobViewHeader-module__IconButton_1--MzNlL prc-Button-IconButton-szpyj" data-loading="false" data-no-visuals="true" data-size="small" data-variant="default" aria-describedby=":Rdl76fal9lab:-loading-announcement" aria-labelledby=":R1l76fal9lab:" href="/Kaviyadharsheni18/myprojects/edit/main/dpurbanpricing.ipynb" data-discover="true"><svg aria-hidden="true" focusable="false" class="octicon octicon-pencil" viewBox="0 0 16 16" width="16" height="16" fill="currentColor" display="inline-block" overflow="visible" style="vertical-align:text-bottom"><path d="M11.013 1.427a1.75 1.75 0 0 1 2.474 0l1.086 1.086a1.75 1.75 0 0 1 0 2.474l-8.61 8.61c-.21.21-.47.364-.756.445l-3.251.93a.75.75 0 0 1-.927-.928l.929-3.25c.081-.286.235-.547.445-.758l8.61-8.61Zm.176 4.823L9.75 4.81l-6.286 6.287a.253.253 0 0 0-.064.108l-.558 1.953 1.953-.558a.253.253 0 0 0 .108-.064Zm1.238-3.763a.25.25 0 0 0-.354 0L10.811 3.75l1.439 1.44 1.263-1.263a.25.25 0 0 0 0-.354Z"></path></svg></a><span class="prc-TooltipV2-Tooltip-cYMVY" data-direction="nw" aria-hidden="true" id=":R1l76fal9lab:">Edit this file</span></div><div><button data-component="IconButton" type="button" data-testid="more-edit-button" aria-haspopup="true" aria-expanded="false" tabindex="0" class="prc-Button-ButtonBase-c50BI prc-Button-IconButton-szpyj" data-loading="false" data-no-visuals="true" data-size="small" data-variant="default" aria-describedby=":R2l76fal9lab:-loading-announcement" aria-labelledby=":R1ul76fal9lab:" id=":R2l76fal9lab:"><svg aria-hidden="true" focusable="false" class="octicon octicon-triangle-down" viewBox="0 0 16 16" width="16" height="16" fill="currentColor" display="inline-block" overflow="visible" style="vertical-align:text-bottom"><path d="m4.427 7.427 3.396 3.396a.25.25 0 0 0 .354 0l3.396-3.396A.25.25 0 0 0 11.396 7H4.604a.25.25 0 0 0-.177.427Z"></path></svg></button><span class="prc-TooltipV2-Tooltip-cYMVY" data-direction="nw" aria-hidden="true" id=":R1ul76fal9lab:">More edit options</span></div></div><button hidden="" data-testid="" data-hotkey="e,Shift+E" data-hotkey-scope="read-only-cursor-text-area"></button></div><div class="react-blob-header-edit-and-raw-actions-combined"><button data-component="IconButton" type="button" title="More file actions" data-testid="more-file-actions-button" aria-haspopup="true" aria-expanded="false" tabindex="0" class="prc-Button-ButtonBase-c50BI js-blob-dropdown-click BlobViewHeader-module__IconButton--uO1fA prc-Button-IconButton-szpyj" data-loading="false" data-no-visuals="true" data-size="small" data-variant="invisible" aria-describedby=":R5v6fal9lab:-loading-announcement" aria-labelledby=":R3tv6fal9lab:" id=":R5v6fal9lab:"><svg aria-hidden="true" focusable="false" class="octicon octicon-kebab-horizontal" viewBox="0 0 16 16" width="16" height="16" fill="currentColor" display="inline-block" overflow="visible" style="vertical-align:text-bottom"><path d="M8 9a1.5 1.5 0 1 0 0-3 1.5 1.5 0 0 0 0 3ZM1.5 9a1.5 1.5 0 1 0 0-3 1.5 1.5 0 0 0 0 3Zm13 0a1.5 1.5 0 1 0 0-3 1.5 1.5 0 0 0 0 3Z"></path></svg></button><span class="prc-TooltipV2-Tooltip-cYMVY" data-direction="nw" aria-hidden="true" id=":R3tv6fal9lab:">Edit and raw actions</span></div></div></div></div><div></div></div><div class="Box-sc-g0xbh4-0 hGyMdv"><section aria-labelledby="file-name-id-wide file-name-id-mobile" class="Box-sc-g0xbh4-0 iWAocR"><!--$!--><template></template><div class="Box-sc-g0xbh4-0 fgsa-DI"><span class="prc-Spinner-Box-qNUI9"><svg height="32px" width="32px" viewBox="0 0 16 16" fill="none" aria-hidden="true" aria-label="Loading" class="prc-Spinner-SpinnerAnimation-e7Gf-"><circle cx="8" cy="8" r="7" stroke="currentColor" stroke-opacity="0.25" stroke-width="2" vector-effect="non-scaling-stroke"></circle><path d="M15 8a7.002 7.002 0 00-7-7" stroke="currentColor" stroke-width="2" stroke-linecap="round" vector-effect="non-scaling-stroke"></path></svg></span></div><!--/$--></section></div></div></div> <!-- --> <!-- --> </div></div></div></div></div></div></div><div id="find-result-marks-container" class="Box-sc-g0xbh4-0 cCoXib"></div><button hidden="" data-testid="" data-hotkey-scope="read-only-cursor-text-area"></button><button hidden=""></button></div> <!-- --> <!-- --> <script type="application/json" id="__PRIMER_DATA_:R0:__">{"resolvedServerColorMode":"day"}</script></div>
</react-app>
</turbo-frame>



  </div>

</turbo-frame>

    </main>
  </div>

  </div>

          <footer class="footer pt-8 pb-6 f6 color-fg-muted p-responsive" role="contentinfo" >
  <h2 class='sr-only'>Footer</h2>

  


  <div class="d-flex flex-justify-center flex-items-center flex-column-reverse flex-lg-row flex-wrap flex-lg-nowrap">
    <div class="d-flex flex-items-center flex-shrink-0 mx-2">
      <a aria-label="GitHub Homepage" class="footer-octicon mr-2" href="https://github.com">
        <svg aria-hidden="true" height="24" viewBox="0 0 24 24" version="1.1" width="24" data-view-component="true" class="octicon octicon-mark-github">
    <path d="M12 1C5.923 1 1 5.923 1 12c0 4.867 3.149 8.979 7.521 10.436.55.096.756-.233.756-.522 0-.262-.013-1.128-.013-2.049-2.764.509-3.479-.674-3.699-1.292-.124-.317-.66-1.293-1.127-1.554-.385-.207-.936-.715-.014-.729.866-.014 1.485.797 1.691 1.128.99 1.663 2.571 1.196 3.204.907.096-.715.385-1.196.701-1.471-2.448-.275-5.005-1.224-5.005-5.432 0-1.196.426-2.186 1.128-2.956-.111-.275-.496-1.402.11-2.915 0 0 .921-.288 3.024 1.128a10.193 10.193 0 0 1 2.75-.371c.936 0 1.871.123 2.75.371 2.104-1.43 3.025-1.128 3.025-1.128.605 1.513.221 2.64.111 2.915.701.77 1.127 1.747 1.127 2.956 0 4.222-2.571 5.157-5.019 5.432.399.344.743 1.004.743 2.035 0 1.471-.014 2.654-.014 3.025 0 .289.206.632.756.522C19.851 20.979 23 16.854 23 12c0-6.077-4.922-11-11-11Z"></path>
</svg>
</a>
      <span>
        &copy; 2025 GitHub,&nbsp;Inc.
      </span>
    </div>

    <nav aria-label="Footer">
      <h3 class="sr-only" id="sr-footer-heading">Footer navigation</h3>

      <ul class="list-style-none d-flex flex-justify-center flex-wrap mb-2 mb-lg-0" aria-labelledby="sr-footer-heading">

          <li class="mx-2">
            <a data-analytics-event="{&quot;category&quot;:&quot;Footer&quot;,&quot;action&quot;:&quot;go to Terms&quot;,&quot;label&quot;:&quot;text:terms&quot;}" href="https://docs.github.com/site-policy/github-terms/github-terms-of-service" data-view-component="true" class="Link--secondary Link">Terms</a>
          </li>

          <li class="mx-2">
            <a data-analytics-event="{&quot;category&quot;:&quot;Footer&quot;,&quot;action&quot;:&quot;go to privacy&quot;,&quot;label&quot;:&quot;text:privacy&quot;}" href="https://docs.github.com/site-policy/privacy-policies/github-privacy-statement" data-view-component="true" class="Link--secondary Link">Privacy</a>
          </li>

          <li class="mx-2">
            <a data-analytics-event="{&quot;category&quot;:&quot;Footer&quot;,&quot;action&quot;:&quot;go to security&quot;,&quot;label&quot;:&quot;text:security&quot;}" href="https://github.com/security" data-view-component="true" class="Link--secondary Link">Security</a>
          </li>

          <li class="mx-2">
            <a data-analytics-event="{&quot;category&quot;:&quot;Footer&quot;,&quot;action&quot;:&quot;go to status&quot;,&quot;label&quot;:&quot;text:status&quot;}" href="https://www.githubstatus.com/" data-view-component="true" class="Link--secondary Link">Status</a>
          </li>

          <li class="mx-2">
            <a data-analytics-event="{&quot;category&quot;:&quot;Footer&quot;,&quot;action&quot;:&quot;go to docs&quot;,&quot;label&quot;:&quot;text:docs&quot;}" href="https://docs.github.com/" data-view-component="true" class="Link--secondary Link">Docs</a>
          </li>

          <li class="mx-2">
            <a data-analytics-event="{&quot;category&quot;:&quot;Footer&quot;,&quot;action&quot;:&quot;go to contact&quot;,&quot;label&quot;:&quot;text:contact&quot;}" href="https://support.github.com?tags=dotcom-footer" data-view-component="true" class="Link--secondary Link">Contact</a>
          </li>

          <li class="mx-2" >
  <cookie-consent-link>
    <button
      type="button"
      class="Link--secondary underline-on-hover border-0 p-0 color-bg-transparent"
      data-action="click:cookie-consent-link#showConsentManagement"
      data-analytics-event="{&quot;location&quot;:&quot;footer&quot;,&quot;action&quot;:&quot;cookies&quot;,&quot;context&quot;:&quot;subfooter&quot;,&quot;tag&quot;:&quot;link&quot;,&quot;label&quot;:&quot;cookies_link_subfooter_footer&quot;}"
    >
       Manage cookies
    </button>
  </cookie-consent-link>
</li>

<li class="mx-2">
  <cookie-consent-link>
    <button
      type="button"
      class="Link--secondary underline-on-hover border-0 p-0 color-bg-transparent text-left"
      data-action="click:cookie-consent-link#showConsentManagement"
      data-analytics-event="{&quot;location&quot;:&quot;footer&quot;,&quot;action&quot;:&quot;dont_share_info&quot;,&quot;context&quot;:&quot;subfooter&quot;,&quot;tag&quot;:&quot;link&quot;,&quot;label&quot;:&quot;dont_share_info_link_subfooter_footer&quot;}"
    >
      Do not share my personal information
    </button>
  </cookie-consent-link>
</li>

      </ul>
    </nav>
  </div>
</footer>



    <ghcc-consent id="ghcc" class="position-fixed bottom-0 left-0" style="z-index: 999999"
      data-locale="en"
      data-initial-cookie-consent-allowed=""
      data-cookie-consent-required="false"
    ></ghcc-consent>



  <div id="ajax-error-message" class="ajax-error-message flash flash-error" hidden>
    <svg aria-hidden="true" height="16" viewBox="0 0 16 16" version="1.1" width="16" data-view-component="true" class="octicon octicon-alert">
    <path d="M6.457 1.047c.659-1.234 2.427-1.234 3.086 0l6.082 11.378A1.75 1.75 0 0 1 14.082 15H1.918a1.75 1.75 0 0 1-1.543-2.575Zm1.763.707a.25.25 0 0 0-.44 0L1.698 13.132a.25.25 0 0 0 .22.368h12.164a.25.25 0 0 0 .22-.368Zm.53 3.996v2.5a.75.75 0 0 1-1.5 0v-2.5a.75.75 0 0 1 1.5 0ZM9 11a1 1 0 1 1-2 0 1 1 0 0 1 2 0Z"></path>
</svg>
    <button type="button" class="flash-close js-ajax-error-dismiss" aria-label="Dismiss error">
      <svg aria-hidden="true" height="16" viewBox="0 0 16 16" version="1.1" width="16" data-view-component="true" class="octicon octicon-x">
    <path d="M3.72 3.72a.75.75 0 0 1 1.06 0L8 6.94l3.22-3.22a.749.749 0 0 1 1.275.326.749.749 0 0 1-.215.734L9.06 8l3.22 3.22a.749.749 0 0 1-.326 1.275.749.749 0 0 1-.734-.215L8 9.06l-3.22 3.22a.751.751 0 0 1-1.042-.018.751.751 0 0 1-.018-1.042L6.94 8 3.72 4.78a.75.75 0 0 1 0-1.06Z"></path>
</svg>
    </button>
    You can’t perform that action at this time.
  </div>

    <template id="site-details-dialog">
  <details class="details-reset details-overlay details-overlay-dark lh-default color-fg-default hx_rsm" open>
    <summary role="button" aria-label="Close dialog"></summary>
    <details-dialog class="Box Box--overlay d-flex flex-column anim-fade-in fast hx_rsm-dialog hx_rsm-modal">
      <button class="Box-btn-octicon m-0 btn-octicon position-absolute right-0 top-0" type="button" aria-label="Close dialog" data-close-dialog>
        <svg aria-hidden="true" height="16" viewBox="0 0 16 16" version="1.1" width="16" data-view-component="true" class="octicon octicon-x">
    <path d="M3.72 3.72a.75.75 0 0 1 1.06 0L8 6.94l3.22-3.22a.749.749 0 0 1 1.275.326.749.749 0 0 1-.215.734L9.06 8l3.22 3.22a.749.749 0 0 1-.326 1.275.749.749 0 0 1-.734-.215L8 9.06l-3.22 3.22a.751.751 0 0 1-1.042-.018.751.751 0 0 1-.018-1.042L6.94 8 3.72 4.78a.75.75 0 0 1 0-1.06Z"></path>
</svg>
      </button>
      <div class="octocat-spinner my-6 js-details-dialog-spinner"></div>
    </details-dialog>
  </details>
</template>

    <div class="Popover js-hovercard-content position-absolute" style="display: none; outline: none;">
  <div class="Popover-message Popover-message--bottom-left Popover-message--large Box color-shadow-large" style="width:360px;">
  </div>
</div>

    <template id="snippet-clipboard-copy-button">
  <div class="zeroclipboard-container position-absolute right-0 top-0">
    <clipboard-copy aria-label="Copy" class="ClipboardButton btn js-clipboard-copy m-2 p-0" data-copy-feedback="Copied!" data-tooltip-direction="w">
      <svg aria-hidden="true" height="16" viewBox="0 0 16 16" version="1.1" width="16" data-view-component="true" class="octicon octicon-copy js-clipboard-copy-icon m-2">
    <path d="M0 6.75C0 5.784.784 5 1.75 5h1.5a.75.75 0 0 1 0 1.5h-1.5a.25.25 0 0 0-.25.25v7.5c0 .138.112.25.25.25h7.5a.25.25 0 0 0 .25-.25v-1.5a.75.75 0 0 1 1.5 0v1.5A1.75 1.75 0 0 1 9.25 16h-7.5A1.75 1.75 0 0 1 0 14.25Z"></path><path d="M5 1.75C5 .784 5.784 0 6.75 0h7.5C15.216 0 16 .784 16 1.75v7.5A1.75 1.75 0 0 1 14.25 11h-7.5A1.75 1.75 0 0 1 5 9.25Zm1.75-.25a.25.25 0 0 0-.25.25v7.5c0 .138.112.25.25.25h7.5a.25.25 0 0 0 .25-.25v-7.5a.25.25 0 0 0-.25-.25Z"></path>
</svg>
      <svg aria-hidden="true" height="16" viewBox="0 0 16 16" version="1.1" width="16" data-view-component="true" class="octicon octicon-check js-clipboard-check-icon color-fg-success d-none m-2">
    <path d="M13.78 4.22a.75.75 0 0 1 0 1.06l-7.25 7.25a.75.75 0 0 1-1.06 0L2.22 9.28a.751.751 0 0 1 .018-1.042.751.751 0 0 1 1.042-.018L6 10.94l6.72-6.72a.75.75 0 0 1 1.06 0Z"></path>
</svg>
    </clipboard-copy>
  </div>
</template>
<template id="snippet-clipboard-copy-button-unpositioned">
  <div class="zeroclipboard-container">
    <clipboard-copy aria-label="Copy" class="ClipboardButton btn btn-invisible js-clipboard-copy m-2 p-0 d-flex flex-justify-center flex-items-center" data-copy-feedback="Copied!" data-tooltip-direction="w">
      <svg aria-hidden="true" height="16" viewBox="0 0 16 16" version="1.1" width="16" data-view-component="true" class="octicon octicon-copy js-clipboard-copy-icon">
    <path d="M0 6.75C0 5.784.784 5 1.75 5h1.5a.75.75 0 0 1 0 1.5h-1.5a.25.25 0 0 0-.25.25v7.5c0 .138.112.25.25.25h7.5a.25.25 0 0 0 .25-.25v-1.5a.75.75 0 0 1 1.5 0v1.5A1.75 1.75 0 0 1 9.25 16h-7.5A1.75 1.75 0 0 1 0 14.25Z"></path><path d="M5 1.75C5 .784 5.784 0 6.75 0h7.5C15.216 0 16 .784 16 1.75v7.5A1.75 1.75 0 0 1 14.25 11h-7.5A1.75 1.75 0 0 1 5 9.25Zm1.75-.25a.25.25 0 0 0-.25.25v7.5c0 .138.112.25.25.25h7.5a.25.25 0 0 0 .25-.25v-7.5a.25.25 0 0 0-.25-.25Z"></path>
</svg>
      <svg aria-hidden="true" height="16" viewBox="0 0 16 16" version="1.1" width="16" data-view-component="true" class="octicon octicon-check js-clipboard-check-icon color-fg-success d-none">
    <path d="M13.78 4.22a.75.75 0 0 1 0 1.06l-7.25 7.25a.75.75 0 0 1-1.06 0L2.22 9.28a.751.751 0 0 1 .018-1.042.751.751 0 0 1 1.042-.018L6 10.94l6.72-6.72a.75.75 0 0 1 1.06 0Z"></path>
</svg>
    </clipboard-copy>
  </div>
</template>


    <style>
      .user-mention[href$="/Kaviyadharsheni18"] {
        color: var(--color-user-mention-fg);
        background-color: var(--bgColor-attention-muted, var(--color-attention-subtle));
        border-radius: 2px;
        margin-left: -2px;
        margin-right: -2px;
      }
      .user-mention[href$="/Kaviyadharsheni18"]:before,
      .user-mention[href$="/Kaviyadharsheni18"]:after {
        content: '';
        display: inline-block;
        width: 2px;
      }
    </style>


    </div>
    <div id="js-global-screen-reader-notice" class="sr-only mt-n1" aria-live="polite" aria-atomic="true" ></div>
    <div id="js-global-screen-reader-notice-assertive" class="sr-only mt-n1" aria-live="assertive" aria-atomic="true"></div>
  </body>
</html>

